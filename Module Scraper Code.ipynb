{
 "cells": [
  {
   "cell_type": "markdown",
   "id": "b7e7b250",
   "metadata": {},
   "source": [
    "# Module Information Scraper\n",
    "This code is to scrape assessment details from UCD module-by-module. From there, we can find out how vulnerable UCD is to ChatGPT and other similar AI helpers. First we will need to import some packages to do this.\n",
    "\n",
    "## Imports and Global Variables"
   ]
  },
  {
   "cell_type": "code",
   "execution_count": 1,
   "id": "91ddfb57",
   "metadata": {},
   "outputs": [],
   "source": [
    "import pandas as pd\n",
    "import numpy as np\n",
    "import requests\n",
    "from bs4 import BeautifulSoup\n",
    "import re\n",
    "import pathlib as Path\n",
    "import html5lib\n",
    "import json"
   ]
  },
  {
   "cell_type": "markdown",
   "id": "c6b58396",
   "metadata": {},
   "source": [
    "Next we will need to set the path to the datasets that we will use. This currently pulls in a specific file, that of MODULES.csv, which has all collected module information for the school of Engineering and Architecture. However, this could easily be changed to analyze sub-schools or other schools."
   ]
  },
  {
   "cell_type": "code",
   "execution_count": 2,
   "id": "a4b1d91d",
   "metadata": {},
   "outputs": [
    {
     "data": {
      "text/html": [
       "<div>\n",
       "<style scoped>\n",
       "    .dataframe tbody tr th:only-of-type {\n",
       "        vertical-align: middle;\n",
       "    }\n",
       "\n",
       "    .dataframe tbody tr th {\n",
       "        vertical-align: top;\n",
       "    }\n",
       "\n",
       "    .dataframe thead th {\n",
       "        text-align: right;\n",
       "    }\n",
       "</style>\n",
       "<table border=\"1\" class=\"dataframe\">\n",
       "  <thead>\n",
       "    <tr style=\"text-align: right;\">\n",
       "      <th></th>\n",
       "      <th>Code</th>\n",
       "      <th>Module</th>\n",
       "      <th>School</th>\n",
       "    </tr>\n",
       "  </thead>\n",
       "  <tbody>\n",
       "    <tr>\n",
       "      <th>0</th>\n",
       "      <td>DSCY10060</td>\n",
       "      <td>Energy, Climate Change &amp; Policy</td>\n",
       "      <td>EEE</td>\n",
       "    </tr>\n",
       "    <tr>\n",
       "      <th>1</th>\n",
       "      <td>EEEN10010</td>\n",
       "      <td>Electronic and Electrical Engineering I</td>\n",
       "      <td>EEE</td>\n",
       "    </tr>\n",
       "    <tr>\n",
       "      <th>2</th>\n",
       "      <td>EEEN10020</td>\n",
       "      <td>Robotics Design Project</td>\n",
       "      <td>EEE</td>\n",
       "    </tr>\n",
       "    <tr>\n",
       "      <th>3</th>\n",
       "      <td>EEEN20010</td>\n",
       "      <td>Computer Engineering</td>\n",
       "      <td>EEE</td>\n",
       "    </tr>\n",
       "    <tr>\n",
       "      <th>4</th>\n",
       "      <td>EEEN20020</td>\n",
       "      <td>Electrical and Electronic Circuits</td>\n",
       "      <td>EEE</td>\n",
       "    </tr>\n",
       "    <tr>\n",
       "      <th>...</th>\n",
       "      <td>...</td>\n",
       "      <td>...</td>\n",
       "      <td>...</td>\n",
       "    </tr>\n",
       "    <tr>\n",
       "      <th>519</th>\n",
       "      <td>MEEN50050</td>\n",
       "      <td>Creative Thinking &amp; Innovation</td>\n",
       "      <td>MME</td>\n",
       "    </tr>\n",
       "    <tr>\n",
       "      <th>520</th>\n",
       "      <td>MEEN50060</td>\n",
       "      <td>Research Techniques Space Eng</td>\n",
       "      <td>MME</td>\n",
       "    </tr>\n",
       "    <tr>\n",
       "      <th>521</th>\n",
       "      <td>MEEN50070</td>\n",
       "      <td>Industrial Research I</td>\n",
       "      <td>MME</td>\n",
       "    </tr>\n",
       "    <tr>\n",
       "      <th>522</th>\n",
       "      <td>MEEN50080</td>\n",
       "      <td>Industrial Research II</td>\n",
       "      <td>MME</td>\n",
       "    </tr>\n",
       "    <tr>\n",
       "      <th>523</th>\n",
       "      <td>MEEN50090</td>\n",
       "      <td>Industrial Research III</td>\n",
       "      <td>MME</td>\n",
       "    </tr>\n",
       "  </tbody>\n",
       "</table>\n",
       "<p>524 rows × 3 columns</p>\n",
       "</div>"
      ],
      "text/plain": [
       "          Code                                   Module School\n",
       "0    DSCY10060          Energy, Climate Change & Policy    EEE\n",
       "1    EEEN10010  Electronic and Electrical Engineering I    EEE\n",
       "2    EEEN10020                  Robotics Design Project    EEE\n",
       "3    EEEN20010                     Computer Engineering    EEE\n",
       "4    EEEN20020       Electrical and Electronic Circuits    EEE\n",
       "..         ...                                      ...    ...\n",
       "519  MEEN50050           Creative Thinking & Innovation    MME\n",
       "520  MEEN50060            Research Techniques Space Eng    MME\n",
       "521  MEEN50070                    Industrial Research I    MME\n",
       "522  MEEN50080                   Industrial Research II    MME\n",
       "523  MEEN50090                  Industrial Research III    MME\n",
       "\n",
       "[524 rows x 3 columns]"
      ]
     },
     "execution_count": 2,
     "metadata": {},
     "output_type": "execute_result"
    }
   ],
   "source": [
    "#This is the directory that holds all our input datasets\n",
    "dir_raw=Path.Path(\"Datasets\")\n",
    "\n",
    "#Read in the csv that has all of our modules, if desired\n",
    "moduleCodes= dir_raw / \"MODULES.csv\"\n",
    "modules=pd.read_csv(moduleCodes)\n",
    "\n",
    "#Print the csv with all our modules\n",
    "modules"
   ]
  },
  {
   "cell_type": "markdown",
   "id": "927a26ee",
   "metadata": {},
   "source": [
    "The below function will be used to read in modules. This can be by school if required, and otherwise includes all modules."
   ]
  },
  {
   "cell_type": "code",
   "execution_count": 3,
   "id": "4440fd86",
   "metadata": {},
   "outputs": [],
   "source": [
    "def input_Modules(school= None, filename=None):\n",
    "    #This is the directory that holds all our input datasets\n",
    "    dir_raw=Path.Path(\"Datasets\")\n",
    "    \n",
    "    #This is the dict that holds the filename for each school\n",
    "    school_filenames={\"Civil Engineering\":\"MODULES_CE.csv\", \\\n",
    "                     \"Mechanical & Materials Eng\": \"MODULES_MME.csv\", \\\n",
    "                     \"Chem & Bioprocess Engineering\": \"MODULES_CBE.csv\", \\\n",
    "                     \"Biosystems & Food Engineering\": \"MODULES_BFE.csv\", \\\n",
    "                     \"Architecture, Plan & Env Pol\": \"MODULES_APEP.csv\", \\\n",
    "                     \"Electrical & Electronic Eng\": \"MODULES_EEE.csv\"}\n",
    "    \n",
    "    #If the school is not equal to none, do only modules from the set school\n",
    "    if school != None:\n",
    "        #Get the file for the school's modules\n",
    "        moduleCodes = dir_raw / school_filenames[school]\n",
    "        \n",
    "        #Read in the desired module codes into a dataframe\n",
    "        modules=pd.read_csv(moduleCodes, header=None)\n",
    "        \n",
    "        #Return a list of the module codes\n",
    "        return modules[0].iloc\n",
    "        \n",
    "    else:\n",
    "        #Set the code to look at the csv that has all of our modules, if desired\n",
    "        moduleCodes= dir_raw / \"MODULES.csv\"\n",
    "        \n",
    "        #Read in the desired module codes into a dataframe\n",
    "        modules=pd.read_csv(moduleCodes)\n",
    "\n",
    "        #Return a list of the module codes\n",
    "        return modules[\"Code\"].iloc"
   ]
  },
  {
   "cell_type": "markdown",
   "id": "eaccedb5",
   "metadata": {},
   "source": [
    "The below function is used for reading in module codes that are stored in an Excel sheet. The standard paths for certain engineering qualifications is currently the main use for such a method. "
   ]
  },
  {
   "cell_type": "code",
   "execution_count": 4,
   "id": "7d52f368",
   "metadata": {},
   "outputs": [],
   "source": [
    "#This function reads in an excel sheet with module codes\n",
    "def excelListReader(filename, excel_table=True):\n",
    "\n",
    "    #Get the input file path\n",
    "    coreCodes= dir_raw / filename\n",
    "\n",
    "    #Make sure that it is in the desired excel table format\n",
    "    if excel_table:\n",
    "        #If it is, read in the excel sheet, and get the values in the \"Module\" column as a list\n",
    "        coreModules=pd.read_excel(coreCodes)\n",
    "        coreList=coreModules[\"Module\"].values.tolist()\n",
    "        \n",
    "    else:\n",
    "        #Return an error if the file is not in an excel sheet\n",
    "        print(\"ERROR: not in excel table format\")\n",
    "        return None\n",
    "\n",
    "    #print the module codes that we found, and then return them\n",
    "    print(coreList)\n",
    "    return coreList"
   ]
  },
  {
   "cell_type": "markdown",
   "id": "8b852b57",
   "metadata": {},
   "source": [
    "## Scraper Functions and Required Sub Functions\n",
    "\n",
    "The module descriptor scraper pulls all module descriptor information from the UCD module website. This includes information such as who runs the module, and importantly for our analysis, the number of credits for each module."
   ]
  },
  {
   "cell_type": "code",
   "execution_count": 5,
   "id": "98326584",
   "metadata": {},
   "outputs": [],
   "source": [
    "#This pulls all module descriptor information from the publicly available UCD module website\n",
    "def module_descriptor_scraper(url, level=None, school=None):\n",
    "\n",
    "    #Get the HTML representation of the module page, the page being given by the URL\n",
    "    request=requests.get(url)\n",
    "    soup=BeautifulSoup(request.content, 'html.parser')\n",
    "\n",
    "    #This will hold all items in the description list and associate them with their related element\n",
    "    descriptor_list={}\n",
    "\n",
    "    #Get all the elements in the \"description list\" - the 'dl'\n",
    "    for element in soup.select('dl'):\n",
    "        #Get the element text \n",
    "        credit_list=element.text\n",
    "        \n",
    "        #Taking the \"Description Term\", dt, and the \"Description element\", dd, as a pair\n",
    "        for items in zip(soup.select('dt'), soup.select('dd')):\n",
    "            #Create a dictionary item with the term and its associated element, to be turned into a series later\n",
    "            descriptor_list[items[0].text]=items[1].text\n",
    "\n",
    "    \n",
    "    #Create a Series from the items in the description list\n",
    "    module_descriptor=pd.Series(descriptor_list)\n",
    "    #Make sure that the Credits column is numeric - if there is an error when changing to numeric, the value is set as None\n",
    "    module_descriptor[\"Credits:\"]=pd.to_numeric(module_descriptor[\"Credits:\"], errors='coerce')\n",
    "    \n",
    "    #This implements filters as desired. If filtered changes to true, it means that the item is filtered out\n",
    "    filtered=False\n",
    "    online=False\n",
    "    \n",
    "    #If filters exist, check that the module is not filtered out\n",
    "    if (level != None):\n",
    "        filtered= (pd.to_numeric(module_descriptor[\"Level:\"].split('(')[0], errors='ignore') != level)\n",
    "                   \n",
    "    #If it wasn't filtered out by level, check if it is filtered out by school\n",
    "    if (filtered == False) and (school != None):\n",
    "        filtered = (module_descriptor[\"School:\"] != school)\n",
    "\n",
    "    #Check if the module is delivered online or not\n",
    "    if(module_descriptor[\"Mode of Delivery:\"] == \"Online\"):\n",
    "        online=True\n",
    "        \n",
    "    #Return the module descriptor and whether or not it was filtered out\n",
    "    return module_descriptor, filtered, online"
   ]
  },
  {
   "cell_type": "markdown",
   "id": "92ba3210",
   "metadata": {},
   "source": [
    "The below code is used to simply assert that the filtering worked, and is more of a sanity check than anything else."
   ]
  },
  {
   "cell_type": "code",
   "execution_count": 6,
   "id": "cb159fbe",
   "metadata": {},
   "outputs": [],
   "source": [
    "#This asserts that the filter works correctly\n",
    "def assert_filtered(module_descriptors, level=None, school=None):\n",
    "    #Combine all descriptors into a dataframe\n",
    "    all_descriptors=pd.concat(module_descriptors)\n",
    "    \n",
    "    #Make sure that IF the level was specified, only one level is allowed\n",
    "    if level !=None:\n",
    "        assert (all_descriptors[\"Level:\"].nunique() == 1)\n",
    "    \n",
    "    #Make sure that only one school is allowed, IF it was specified\n",
    "    if school != None:\n",
    "        assert (all_descriptors[\"School:\"].nunique() == 1)\n",
    "        \n",
    "    #Print all the unique schools scrapped\n",
    "    print(\"\\n %s\" %all_descriptors[\"School:\"].unique())\n",
    "    \n",
    "    #Return the number of unique values - by school and level\n",
    "    return all_descriptors[\"School:\"].nunique(), all_descriptors[\"Level:\"].nunique()"
   ]
  },
  {
   "cell_type": "markdown",
   "id": "fce6cd1a",
   "metadata": {},
   "source": [
    "Below is a helper function. This saves files as desired after their information has been taken from the UCD website. "
   ]
  },
  {
   "cell_type": "code",
   "execution_count": 7,
   "id": "b93e1df4",
   "metadata": {},
   "outputs": [],
   "source": [
    "def save_module_files(module_assessments, module_descriptors, codeList=None, level=None, school=None, foldername=None):\n",
    "    #The directory to save outputs to\n",
    "    dir_output=Path.Path(\"ModuleInformation\")\n",
    "    dir_output.mkdir(parents=True, exist_ok=True)\n",
    "    \n",
    "    subdirectory=\"\"\n",
    "    #Save the file in its desired format\n",
    "    if level != None:\n",
    "        subdirectory+=\"Level=%d\" %(level)\n",
    "        \n",
    "    if school != None:\n",
    "        subdirectory+=\"_School=\"+school.replace(\" \", \"-\")\n",
    "    \n",
    "    if codeList != None:\n",
    "        subdirectory+=\"SelectedModules\"\n",
    "        \n",
    "    if foldername != None:\n",
    "        subdirectory=foldername\n",
    "        \n",
    "    #if the modules have been filtered, and thus belong in a sub directory, make that directory\n",
    "    if len(subdirectory) > 0:\n",
    "        dir_output=dir_output / subdirectory\n",
    "        dir_output.mkdir(parents=True, exist_ok=True)\n",
    "        \n",
    "   \n",
    "        \n",
    "    #Save our two module detail files\n",
    "    with open(dir_output / \"assessments.json\", 'w') as outfile:\n",
    "        if (len(module_assessments)) > 2 and (isinstance(module_assessments, list)):\n",
    "            module_assessments=pd.concat(module_assessments, ignore_index=True)\n",
    "            print(\"saving to %s\" % dir_output)\n",
    "        outfile.write(module_assessments.to_json())\n",
    "        \n",
    "    with open(dir_output / \"descriptors.json\", 'w') as outfile:\n",
    "        if (len(module_descriptors) > 2) and (isinstance(module_descriptors, list)):\n",
    "            module_descriptors=pd.DataFrame(module_descriptors)\n",
    "            print(\"saving to %s\" % dir_output)\n",
    "        outfile.write(module_descriptors.to_json())"
   ]
  },
  {
   "cell_type": "markdown",
   "id": "1238215a",
   "metadata": {},
   "source": [
    "Below is a dict that will be used to develop a custom column, \"work type\", which will be necessary for further analysis later."
   ]
  },
  {
   "cell_type": "code",
   "execution_count": 8,
   "id": "d20cb86c",
   "metadata": {},
   "outputs": [],
   "source": [
    "work_type={\"Assignment\" :\"At home\", \\\n",
    "                \"Attendance\": \"In person\", \\\n",
    "                \"Class Test\" : \"In person\", \\\n",
    "                \"Continuous Assessment\": \"At home\", \\\n",
    "               \"Essay\": \"At home\", \\\n",
    "                \"Examination\": \"In person\", \\\n",
    "                \"Fieldwork\": \"In person\", \\\n",
    "                \"Group Project\": \"Hybrid\", \\\n",
    "                \"Journal\": \"Hybrid\",\\\n",
    "               \"Lab Report\": \"Hybrid\", \\\n",
    "                \"Multiple Choice Questionnaire\": \"Hybrid\", \\\n",
    "                \"Oral Examination\": \"In person\", \\\n",
    "               \"Portfolio\" : \"Hybrid\",  \\\n",
    "                \"Practical Examination\": \"In person\", \\\n",
    "                \"Presentation\" : \"In person\", \\\n",
    "                \"Project\": \"At home\", \\\n",
    "               \"Seminar\": \"In person\", \\\n",
    "               \"Studio Examination\" : \"In person\",\\\n",
    "               \"Assessments worth <2%\": \"Unknown\"}"
   ]
  },
  {
   "cell_type": "markdown",
   "id": "8d7516c8",
   "metadata": {},
   "source": [
    "The below code collects all module assessment and module descriptor information into two lists. It also creates a \"Scaled % of Final Grade\" column in the asssessment table. This weights the assessment based on the number of credits the module has overall. In this way, the median and normal amount of credits, 5.0, has assessments weighting that add up to 100%. Those above and below are given assessment weightings that scale with how much more or less they are worth then a normal module - a 10 credit module will have assessments that add up to 200%, because they are worth twice the amount as a normal module.\n",
    "\n",
    "Error module details are stored for inspection later, to see why they occurred. The code continues on even if errors occur, after having stored these details it simply proceeds to the next module.\n",
    "\n",
    "### The Collector Function - combines sub functions to collect all available information on desired modules."
   ]
  },
  {
   "cell_type": "code",
   "execution_count": 9,
   "id": "8a910083",
   "metadata": {
    "scrolled": true
   },
   "outputs": [],
   "source": [
    "#This functiom will allow school and year functions to be placed on it\n",
    "def collector(codeList=None, level=None, school=None, foldername=None):\n",
    "    #This will store module information\n",
    "    module_assessments=[]\n",
    "    module_descriptors=[]\n",
    "\n",
    "    #This will store error module information\n",
    "    error_modules=[]\n",
    "    error_module_descriptors=[]\n",
    "\n",
    "    #Next we need to get our moduleCodes\n",
    "    moduleCodes\n",
    "    #Pick where to get the module codes from\n",
    "    if codeList!=None:\n",
    "        modulesCodes=codeList\n",
    "    else:\n",
    "        modulesCodes=input_Modules(school=school, filename=foldername)\n",
    "        \n",
    "    #Going through the modules one-by-one    \n",
    "    for i in modulesCodes:\n",
    "        #Let the user know we iterated\n",
    "        print(\".\",end=\"\")\n",
    "        \n",
    "        \n",
    "        #Change the URL to finish with the desired module code\n",
    "        url= \"https://hub.ucd.ie/usis/!W_HU_MENU.P_PUBLISH?p_tag=MODULE&MODULE=\" + i\n",
    "\n",
    "        #Get the module descriptor\n",
    "        descriptor, filtered, online=module_descriptor_scraper(url, level=level, school=school)\n",
    "        #If the module is in violation of the filters, continue to the next without saving\n",
    "        if filtered==True:\n",
    "            continue\n",
    "            \n",
    "    \n",
    "        #Use pandas to read in the asssessment html table. This starts with the word 'Description', \n",
    "        #which is how we differentiate it from the other tables on the webpage\n",
    "        table=pd.read_html(url, match=\"Description\")\n",
    "        \n",
    "        #Get the first table, and turn it into a dataframe\n",
    "        df=pd.DataFrame(table[0])\n",
    "        #Create the \"Assessment Type\" column. There are 18 assessment types across UCD\n",
    "        df[\"Assessment Type\"] = df['Description'].str.split(':').str[0]\n",
    "        #Add in the module code column to both the assessment dataframe and the descriptor list\n",
    "        df[\"Module Code\"]=i\n",
    "        descriptor[\"Module Code\"]=i\n",
    "\n",
    "        #Try and create a column where the grade is scaled by credits worth, with 5 credits being the normal\n",
    "        try:\n",
    "            df[\"Scaled % of Final Grade\"]= df['% of Final Grade'].apply(lambda x: x * (descriptor[\"Credits:\"]/5.0))\n",
    "            \n",
    "        #If the scaling didn't work, this is an error module. Save it as an error module and continue\n",
    "        except:\n",
    "            print(\"\\nERROR MODULE DETECTED.\")\n",
    "            print(\"Module may need to be inspected, saving information as an error module and continuing without it\")\n",
    "        \n",
    "            error_modules.append(df)\n",
    "            error_module_descriptors.append(descriptor)\n",
    "            continue\n",
    "            \n",
    "        #Add a new column, \"Work Type\". This is based on the assessment type, and should help inform us of how big the risk of \n",
    "        #ChatGPT in assessment is.\n",
    "        #If the module is delivered online, the work type is only \"At home\", owing to the inherent risk to ChatGPT of these\n",
    "        #modules. Otherwise, set the assessment type according to the provided dict\n",
    "        if online:\n",
    "            df[\"Work Type\"]=\"At home\"\n",
    "        else:\n",
    "            #Replace the (short) MCQ with just MCQ for simplicity\n",
    "            df=df.replace(\"Multiple Choice Questionnaire (Short)\", \"Multiple Choice Questionnaire\")\n",
    "            df[\"Work Type\"]=df[\"Assessment Type\"].apply(lambda x: work_type[x])\n",
    "        \n",
    "        #Add a few extra columns onto the dataFrame, so that we could make an interactive graph later\n",
    "        df[\"Level\"]=descriptor[\"Level:\"]\n",
    "        df[\"Credits\"]=descriptor[\"Credits:\"]\n",
    "        df[\"School\"]=descriptor[\"School:\"]\n",
    "        \n",
    "        #Append the module information dataframes to their respective lists\n",
    "        module_assessments.append(df)\n",
    "        module_descriptors.append(descriptor)\n",
    "        \n",
    "        #Save the individual module files\n",
    "        save_module_files(df, descriptor, foldername=\"IndividualModules/%s\" %i)\n",
    "    \n",
    "    #This asserts that the filters were properly imposed, if imposed at all\n",
    "    num_schools, num_levels=assert_filtered(module_descriptors, level, school)\n",
    "\n",
    "    #Inform the user that we have finished\n",
    "    print(\"\\nFINISHED, SCRAPED DETAILS ON %d MODULES, OVER %d SCHOOLS AND %d LEVELS\" \\\n",
    "          %(len(module_assessments), num_schools, num_levels))\n",
    "    \n",
    "    #Save the output files\n",
    "    save_module_files(module_assessments, module_descriptors, codeList=codeList, level=level, school=school, \\\n",
    "                      foldername=foldername)\n",
    "    \n",
    "    #Return the desired variables, the list of module assessment and descriptor dataframes, as well as the error dataframes\n",
    "    return module_assessments, module_descriptors, error_modules, error_module_descriptors"
   ]
  },
  {
   "cell_type": "markdown",
   "id": "8c7129a7",
   "metadata": {},
   "source": [
    "Having defined the collector function, we simply now need to run it. The collector function is a general function. It can use filters in a number of ways as required. Filters can:\n",
    "- Limit the school\n",
    "- Limit the level\n",
    "- Limit to a module list (mainly used for possible engineering paths)\n",
    "\n",
    "It automatically saves the collected and scraped data in files when done. It also collects all \"error modules\" for later visual inspection. These are modules that have some anamoly that necessitates them not being included with the rest of the modules, and a detection message is thrown every time they are found.\n",
    "\n",
    "Now we will run the collector function\n",
    "## Collecting Data:\n",
    "### Collecting Data on All Modules from the College of Engineering and Architecture"
   ]
  },
  {
   "cell_type": "code",
   "execution_count": 10,
   "id": "63af01a8",
   "metadata": {},
   "outputs": [
    {
     "name": "stdout",
     "output_type": "stream",
     "text": [
      ".......................................................................................................................\n",
      "ERROR MODULE DETECTED.\n",
      "Module may need to be inspected, saving information as an error module and continuing without it\n",
      "..........................................................................................................................\n",
      "ERROR MODULE DETECTED.\n",
      "Module may need to be inspected, saving information as an error module and continuing without it\n",
      "...................................................\n",
      "ERROR MODULE DETECTED.\n",
      "Module may need to be inspected, saving information as an error module and continuing without it\n",
      ".\n",
      "ERROR MODULE DETECTED.\n",
      "Module may need to be inspected, saving information as an error module and continuing without it\n",
      "..\n",
      "ERROR MODULE DETECTED.\n",
      "Module may need to be inspected, saving information as an error module and continuing without it\n",
      ".....\n",
      "ERROR MODULE DETECTED.\n",
      "Module may need to be inspected, saving information as an error module and continuing without it\n",
      "...........................................................................................................................................................\n",
      "ERROR MODULE DETECTED.\n",
      "Module may need to be inspected, saving information as an error module and continuing without it\n",
      "..................\n",
      "ERROR MODULE DETECTED.\n",
      "Module may need to be inspected, saving information as an error module and continuing without it\n",
      "........................\n",
      "ERROR MODULE DETECTED.\n",
      "Module may need to be inspected, saving information as an error module and continuing without it\n",
      ".\n",
      "ERROR MODULE DETECTED.\n",
      "Module may need to be inspected, saving information as an error module and continuing without it\n",
      "......................\n",
      "ERROR MODULE DETECTED.\n",
      "Module may need to be inspected, saving information as an error module and continuing without it\n",
      "....\n",
      " ['Electrical & Electronic Eng' 'Civil Engineering'\n",
      " 'Chem & Bioprocess Engineering' 'Biosystems & Food Engineering'\n",
      " 'Architecture, Plan & Env Pol' 'Mechanical & Materials Eng']\n",
      "\n",
      "FINISHED, SCRAPED DETAILS ON 513 MODULES, OVER 6 SCHOOLS AND 5 LEVELS\n",
      "saving to ModuleInformation\n",
      "saving to ModuleInformation\n"
     ]
    }
   ],
   "source": [
    "#Run the above function in its base form\n",
    "module_assessments, module_descriptors, ALL_error_modules, ALL_error_module_descriptors=collector()"
   ]
  },
  {
   "cell_type": "markdown",
   "id": "e840d577",
   "metadata": {},
   "source": [
    "### Collecting Data by Standard Undergraduate Paths"
   ]
  },
  {
   "cell_type": "code",
   "execution_count": 11,
   "id": "22a5cfb4",
   "metadata": {},
   "outputs": [
    {
     "name": "stdout",
     "output_type": "stream",
     "text": [
      "['CHEM10030', 'CHEN10040', 'CVEN10040', 'EEEN10010', 'MATH10250', 'PHYC10150', 'MATH10260', 'MEEN10030', 'MEEN10050', 'PHYC10160', 'COMP10060', 'EEEN10020', 'EEEN20010', 'EEEN20020', 'EEEN20050', 'EEEN20070', 'MATH20290', 'EEEN20030', 'EEEN20040', 'EEEN20060', 'EEEN20090', 'STAT20060', 'SCI20020', 'COMP20200', 'ACM30030', 'COMP20080', 'EEEN30020', 'EEEN30110', 'EEEN30030', 'EEEN30050', 'EEEN30120', 'EEEN30150', 'EEEN30190', 'EEEN30060', 'EEEN30160', 'COMP20180']\n",
      "....................................\n",
      " ['Chemistry' 'Chem & Bioprocess Engineering' 'Civil Engineering'\n",
      " 'Electrical & Electronic Eng' 'Mathematics & Statistics' 'Physics'\n",
      " 'Mechanical & Materials Eng' 'Computer Science']\n",
      "\n",
      "FINISHED, SCRAPED DETAILS ON 36 MODULES, OVER 8 SCHOOLS AND 3 LEVELS\n",
      "saving to ModuleInformation\\ElectronicPath\n",
      "saving to ModuleInformation\\ElectronicPath\n"
     ]
    }
   ],
   "source": [
    "module_assessments, module_descriptors, error_modules, error_module_descriptors\\\n",
    "=collector(codeList=excelListReader(\"UCD_EngArch_Path_Electronic_UG_Modules.xlsx\"), foldername=\"ElectronicPath\")"
   ]
  },
  {
   "cell_type": "code",
   "execution_count": 12,
   "id": "1e4f7d81",
   "metadata": {},
   "outputs": [
    {
     "name": "stdout",
     "output_type": "stream",
     "text": [
      "['CHEM10030', 'CHEN10040', 'CVEN10040', 'EEEN10010', 'MATH10250', 'PHYC10150', 'MATH10260', 'MEEN10030', 'MEEN10050', 'PHYC10160', 'COMP10060', 'EEEN10020', 'EEEN20010', 'EEEN20020', 'EEEN20050', 'EEEN20070', 'MATH20290', 'EEEN20030', 'EEEN20040', 'EEEN20060', 'EEEN20090', 'STAT20060', 'SCI20020', 'COMP20200', 'ACM30030', 'COMP20080', 'EEEN30020', 'EEEN30110', 'EEEN30030', 'EEEN30050', 'EEEN30120', 'EEEN30150', 'EEEN30190', 'EEEN30060', 'EEEN30160', 'COMP20180']\n",
      "....................................\n",
      " ['Chemistry' 'Chem & Bioprocess Engineering' 'Civil Engineering'\n",
      " 'Electrical & Electronic Eng' 'Mathematics & Statistics' 'Physics'\n",
      " 'Mechanical & Materials Eng' 'Computer Science']\n",
      "\n",
      "FINISHED, SCRAPED DETAILS ON 36 MODULES, OVER 8 SCHOOLS AND 3 LEVELS\n",
      "saving to ModuleInformation\\ElectricalPath\n",
      "saving to ModuleInformation\\ElectricalPath\n"
     ]
    }
   ],
   "source": [
    "module_assessments, module_descriptors, error_modules, error_module_descriptors\\\n",
    "=collector(codeList=excelListReader(\"UCD_EngArch_Path_Electronic_UG_Modules.xlsx\"), foldername=\"ElectricalPath\")"
   ]
  },
  {
   "cell_type": "code",
   "execution_count": 13,
   "id": "59e1a663",
   "metadata": {},
   "outputs": [
    {
     "name": "stdout",
     "output_type": "stream",
     "text": [
      "['ARCT10010', 'ARCT10030', 'ARCT10070', 'ARCT10120', 'ARCT10020', 'ARCT10040', 'ARCT10090', 'CVEN10060', 'ARCT20020', 'ARCT20040', 'ARCT20050', 'ARCT20130', 'ARCT20010', 'ARCT20100', 'CVEN20040', 'ARCT20170', 'ARCT30010', 'ARCT30030', 'ARCT30090', 'CVEN30100', 'ARCT30040', 'ARCT30100', 'ARCT30130', 'ARCT20170']\n",
      "........................\n",
      " ['Architecture, Plan & Env Pol' 'Civil Engineering']\n",
      "\n",
      "FINISHED, SCRAPED DETAILS ON 24 MODULES, OVER 2 SCHOOLS AND 3 LEVELS\n",
      "saving to ModuleInformation\\ArchitecturePath\n",
      "saving to ModuleInformation\\ArchitecturePath\n"
     ]
    }
   ],
   "source": [
    "module_assessments, module_descriptors, error_modules, error_module_descriptors\\\n",
    "=collector(codeList=excelListReader(\"UCD_EngArch_Path_Architecture_UG_Modules.xlsx\"), foldername=\"ArchitecturePath\")"
   ]
  },
  {
   "cell_type": "code",
   "execution_count": 14,
   "id": "65a6d6fe",
   "metadata": {},
   "outputs": [
    {
     "name": "stdout",
     "output_type": "stream",
     "text": [
      "['CHEM10030', 'CHEN10040', 'CVEN10040', 'EEEN10010', 'MATH10250', 'PHYC10150', 'MATH10260', 'MEEN10030', 'MEEN10050', 'PHYC10160', 'COMP10060', 'DSCY10060', 'EEEN20020', 'MATH20290', 'MEEN20010', 'MEEN20020', 'MEEN20050', 'MEEN20030', 'MEEN20040', 'MEEN20060', 'MEEN20070', 'STAT20060', 'COMP20080', 'SCI20020', 'ACM30030', 'MEEN30030', 'MEEN30040', 'MEEN30090', 'MEEN30100', 'EEEN20090', 'EEEN30150', 'MEEN30010', 'MEEN30020', 'MEEN30140', 'MEEN30130', 'MEEN30160']\n",
      "....................................\n",
      " ['Chemistry' 'Chem & Bioprocess Engineering' 'Civil Engineering'\n",
      " 'Electrical & Electronic Eng' 'Mathematics & Statistics' 'Physics'\n",
      " 'Mechanical & Materials Eng' 'Computer Science']\n",
      "\n",
      "FINISHED, SCRAPED DETAILS ON 36 MODULES, OVER 8 SCHOOLS AND 3 LEVELS\n",
      "saving to ModuleInformation\\MechanicalPath\n",
      "saving to ModuleInformation\\MechanicalPath\n"
     ]
    }
   ],
   "source": [
    "module_assessments, module_descriptors, error_modules, error_module_descriptors\\\n",
    "=collector(codeList=excelListReader(\"UCD_EngArch_Path_Mechanical_UG_Modules.xlsx\"), foldername=\"MechanicalPath\")"
   ]
  },
  {
   "cell_type": "code",
   "execution_count": 15,
   "id": "e1dd4abb",
   "metadata": {},
   "outputs": [
    {
     "name": "stdout",
     "output_type": "stream",
     "text": [
      "['CHEM10030', 'CHEN10040', 'CVEN10040', 'EEEN10010', 'MATH10250', 'PHYC10150', 'MATH10260', 'MEEN10030', 'MEEN10050', 'PHYC10160', 'BMOL10030', 'BSEN10010', 'EEEN20010', 'EEEN20020', 'MATH20290', 'MEEN20010', 'PHYS20040', 'EEEN20030', 'MEEN20030', 'MEEN20040', 'MEEN20070', 'STAT20060', 'EEEN20040', 'MEEN20020', 'ACM30030', 'ANAT20090', 'EEEN30160', 'EEEN30150', 'EEEN30180', 'MEEN30160', 'EEEN30020', 'EEEN30110', 'EEEN30030', 'EEEN30050', 'EEEN30120', 'MEEN20020']\n",
      "....................................\n",
      " ['Chemistry' 'Chem & Bioprocess Engineering' 'Civil Engineering'\n",
      " 'Electrical & Electronic Eng' 'Mathematics & Statistics' 'Physics'\n",
      " 'Mechanical & Materials Eng' 'Biomolecular & Biomed Science'\n",
      " 'Biosystems & Food Engineering' 'Medicine']\n",
      "\n",
      "FINISHED, SCRAPED DETAILS ON 36 MODULES, OVER 10 SCHOOLS AND 3 LEVELS\n",
      "saving to ModuleInformation\\BiomedElectricalPath\n",
      "saving to ModuleInformation\\BiomedElectricalPath\n"
     ]
    }
   ],
   "source": [
    "module_assessments, module_descriptors, error_modules, error_module_descriptors\\\n",
    "=collector(codeList=excelListReader(\"UCD_EngArch_Path_Biomed-Elec_UG_Modules.xlsx\"), foldername=\"BiomedElectricalPath\")"
   ]
  },
  {
   "cell_type": "code",
   "execution_count": 16,
   "id": "513352ac",
   "metadata": {},
   "outputs": [
    {
     "name": "stdout",
     "output_type": "stream",
     "text": [
      "['CHEM10030', 'CHEN10040', 'CVEN10040', 'EEEN10010', 'MATH10250', 'PHYC10150', 'MATH10260', 'MEEN10030', 'MEEN10050', 'PHYC10160', 'BMOL10030', 'BSEN10010', 'EEEN20010', 'EEEN20020', 'MATH20290', 'MEEN20010', 'PHYS20040', 'EEEN20030', 'MEEN20030', 'MEEN20040', 'MEEN20070', 'STAT20060', 'MEEN20060', 'MEEN20050', 'ACM30030', 'ANAT20090', 'EEEN30160', 'EEEN30150', 'EEEN30180', 'MEEN30160', 'MEEN20020', 'MEEN30090', 'MEEN30010', 'MEEN30020', 'MEEN30020', 'MEEN20020']\n",
      "....................................\n",
      " ['Chemistry' 'Chem & Bioprocess Engineering' 'Civil Engineering'\n",
      " 'Electrical & Electronic Eng' 'Mathematics & Statistics' 'Physics'\n",
      " 'Mechanical & Materials Eng' 'Biomolecular & Biomed Science'\n",
      " 'Biosystems & Food Engineering' 'Medicine']\n",
      "\n",
      "FINISHED, SCRAPED DETAILS ON 36 MODULES, OVER 10 SCHOOLS AND 3 LEVELS\n",
      "saving to ModuleInformation\\BiomedMechanicalPath\n",
      "saving to ModuleInformation\\BiomedMechanicalPath\n"
     ]
    }
   ],
   "source": [
    "module_assessments, module_descriptors, error_modules, error_module_descriptors\\\n",
    "=collector(codeList=excelListReader(\"UCD_EngArch_Path_Biomed-Mech_UG_Modules.xlsx\"), foldername=\"BiomedMechanicalPath\")"
   ]
  },
  {
   "cell_type": "code",
   "execution_count": 17,
   "id": "9c497cfa",
   "metadata": {},
   "outputs": [
    {
     "name": "stdout",
     "output_type": "stream",
     "text": [
      "['CHEM10030', 'CHEN10040', 'CVEN10040', 'EEEN10010', 'MATH10250', 'PHYC10150', 'MATH10260', 'MEEN10030', 'MEEN10050', 'PHYC10160', 'DSCY10060', 'COMP10060', 'CHEN20020', 'CHEN20030', 'CHEN20050', 'CHEN20080', 'MATH20290', 'CHEM20060', 'CHEN20060', 'CHEN20070', 'CHEM20070', 'CHEN20090', 'CHEN10010', 'ACM30030', 'CHEN30010', 'CHEN30020', 'CHEN30030', 'CHEN30040', 'CHEN30130', 'CHEN30200', 'CHEN30210', 'MEEN30140']\n",
      "................................\n",
      " ['Chemistry' 'Chem & Bioprocess Engineering' 'Civil Engineering'\n",
      " 'Electrical & Electronic Eng' 'Mathematics & Statistics' 'Physics'\n",
      " 'Mechanical & Materials Eng' 'Computer Science']\n",
      "\n",
      "FINISHED, SCRAPED DETAILS ON 32 MODULES, OVER 8 SCHOOLS AND 3 LEVELS\n",
      "saving to ModuleInformation\\ChemicalPath\n",
      "saving to ModuleInformation\\ChemicalPath\n"
     ]
    }
   ],
   "source": [
    "module_assessments, module_descriptors, error_modules, error_module_descriptors\\\n",
    "=collector(codeList=excelListReader(\"UCD_EngArch_Path_Chemical_UG_Modules.xlsx\"), foldername=\"ChemicalPath\")"
   ]
  },
  {
   "cell_type": "code",
   "execution_count": 18,
   "id": "9758eabe",
   "metadata": {},
   "outputs": [
    {
     "name": "stdout",
     "output_type": "stream",
     "text": [
      "['CHEM10030', 'CHEN10040', 'CVEN10040', 'EEEN10010', 'MATH10250', 'PHYC10150', 'MATH10260', 'MEEN10030', 'MEEN10050', 'PHYC10160', 'DSCY10070', 'CVEN10060', 'CVEN20030', 'CVEN20080', 'CVEN20110', 'CVEN20130', 'MATH20290', 'CVEN20010', 'CVEN20070', 'CVEN20120', 'CVEN20140', 'STAT20060', 'COMP20080', 'CVEN20040', 'ACM30030', 'CVEN30020', 'CVEN30040', 'CVEN30090', 'CVEN30390', 'CVEN30010', 'CVEN30060', 'CVEN30170', 'CVEN30400', 'GEOL30070', 'BSEN30240', 'MEEN30140']\n",
      "....................................\n",
      " ['Chemistry' 'Chem & Bioprocess Engineering' 'Civil Engineering'\n",
      " 'Electrical & Electronic Eng' 'Mathematics & Statistics' 'Physics'\n",
      " 'Mechanical & Materials Eng' 'Computer Science' 'Earth Sciences'\n",
      " 'Biosystems & Food Engineering']\n",
      "\n",
      "FINISHED, SCRAPED DETAILS ON 36 MODULES, OVER 10 SCHOOLS AND 3 LEVELS\n",
      "saving to ModuleInformation\\CivilPath\n",
      "saving to ModuleInformation\\CivilPath\n"
     ]
    }
   ],
   "source": [
    "module_assessments, module_descriptors, error_modules, error_module_descriptors\\\n",
    "=collector(codeList=excelListReader(\"UCD_EngArch_Path_Civil_UG_Modules.xlsx\"), foldername=\"CivilPath\")"
   ]
  },
  {
   "cell_type": "code",
   "execution_count": 19,
   "id": "7a3df4ba",
   "metadata": {},
   "outputs": [
    {
     "name": "stdout",
     "output_type": "stream",
     "text": [
      "['AESC10010', 'ENVP10030', 'LARC10110', 'PLAN10010', 'PLAN10020', 'PLAN10030', 'ENVP10010', 'PLAN10040', 'PLAN10080', 'SSJ10060', 'GEOG10100', 'ENVP20020', 'PLAN20020', 'PLAN20070', 'PLAN20090', 'PLAN20010', 'PLAN20030', 'PLAN20040', 'PLAN20080', 'ECON20060', 'DEV20130', 'ENVP30010', 'ENVP30030', 'PLAN30010', 'PLAN30020', 'PLAN30040', 'PLAN30030', 'PLAN30060', 'PLAN30080', 'PLAN30150', 'GEOG30860', 'SPOL30220']\n",
      "................................\n",
      " ['Agriculture & Food Science' 'Architecture, Plan & Env Pol'\n",
      " 'Soc Pol, Soc Wrk & Soc Justice' 'Geography' 'Economics'\n",
      " 'Politics & Int Relations']\n",
      "\n",
      "FINISHED, SCRAPED DETAILS ON 32 MODULES, OVER 6 SCHOOLS AND 3 LEVELS\n",
      "saving to ModuleInformation\\CityPlanningAndEnvironmentalPolicyPath\n",
      "saving to ModuleInformation\\CityPlanningAndEnvironmentalPolicyPath\n"
     ]
    }
   ],
   "source": [
    "module_assessments, module_descriptors, error_modules, error_module_descriptors\\\n",
    "=collector(codeList=excelListReader(\"UCD_EngArch_Path_CPEP_UG_Modules.xlsx\"), \\\n",
    "           foldername=\"CityPlanningAndEnvironmentalPolicyPath\")"
   ]
  },
  {
   "cell_type": "code",
   "execution_count": 20,
   "id": "296ca66b",
   "metadata": {},
   "outputs": [
    {
     "name": "stdout",
     "output_type": "stream",
     "text": [
      "['AESC10010', 'LARC10050', 'LARC10110', 'LARC10120', 'LARC10090', 'LARC10100', 'ENVP10010', 'ARCH10050', 'BIOL30020', 'HORT30050', 'LARC20150', 'AESC20070', 'LARC20160', 'LARC20170', 'PLAN10010', 'FOR20110', 'LARC30150', 'GEOG40770', 'PLAN30020', 'LARC30170', 'LARC30220', 'GEOG30860', 'LARC40390', 'LARC40420', 'LARC40360', 'LARC40540', 'PLAN30150', 'ARCT40660', 'LARC40550']\n",
      ".............................\n",
      " ['Agriculture & Food Science' 'Architecture, Plan & Env Pol' 'Archaeology'\n",
      " 'Biology & Environment Science' 'Geography']\n",
      "\n",
      "FINISHED, SCRAPED DETAILS ON 29 MODULES, OVER 5 SCHOOLS AND 4 LEVELS\n",
      "saving to ModuleInformation\\LandscapeArchitecturePath\n",
      "saving to ModuleInformation\\LandscapeArchitecturePath\n"
     ]
    }
   ],
   "source": [
    "module_assessments, module_descriptors, error_modules, error_module_descriptors\\\n",
    "=collector(codeList=excelListReader(\"UCD_EngArch_Path_LandArch_UG_Modules.xlsx\"), \\\n",
    "           foldername=\"LandscapeArchitecturePath\")"
   ]
  },
  {
   "cell_type": "code",
   "execution_count": 41,
   "id": "d80b66e9",
   "metadata": {},
   "outputs": [
    {
     "name": "stdout",
     "output_type": "stream",
     "text": [
      "['CHEM10030', 'CHEN10040', 'CVEN10040', 'EEEN10010', 'MATH10250', 'PHYC10150', 'MATH10260', 'MEEN10030', 'MEEN10050', 'PHYC10160', 'DSCY10070', 'CVEN10060', 'ARCT20040', 'CVEN20080', 'CVEN20110', 'MATH20290', 'CVEN20010', 'CVEN20040', 'CVEN20070', 'CVEN20120', 'CVEN20140', 'STAT20060', 'CVEN20030', 'CVEN20130', 'ACM30030', 'ARCT30030', 'CVEN30020', 'CVEN30040', 'CVEN30090', 'CVEN30390', 'CVEN30010', 'CVEN30170', 'CVEN30400', 'MEEN30130', 'CVEN30060', 'MEEN30140']\n",
      "....................................\n",
      " ['Chemistry' 'Chem & Bioprocess Engineering' 'Civil Engineering'\n",
      " 'Electrical & Electronic Eng' 'Mathematics & Statistics' 'Physics'\n",
      " 'Mechanical & Materials Eng' 'Architecture, Plan & Env Pol']\n",
      "\n",
      "FINISHED, SCRAPED DETAILS ON 36 MODULES, OVER 8 SCHOOLS AND 3 LEVELS\n",
      "saving to ModuleInformation\\StructuralEngineerWithArchitecturePath\n",
      "saving to ModuleInformation\\StructuralEngineerWithArchitecturePath\n"
     ]
    }
   ],
   "source": [
    "module_assessments, module_descriptors, error_modules, error_module_descriptors\\\n",
    "=collector(codeList=excelListReader(\"UCD_EngArch_Path_StructEngArch_UG_Modules.xlsx\"), \\\n",
    "           foldername=\"StructuralEngineerWithArchitecturePath\")"
   ]
  },
  {
   "cell_type": "markdown",
   "id": "9253a4e6",
   "metadata": {},
   "source": [
    "### Collecting Data by Standard Integrated Masters Path"
   ]
  },
  {
   "cell_type": "code",
   "execution_count": 21,
   "id": "84c51f9c",
   "metadata": {},
   "outputs": [
    {
     "name": "stdout",
     "output_type": "stream",
     "text": [
      "['CHEM10030', 'CHEN10040', 'CVEN10040', 'EEEN10010', 'MATH10250', 'PHYC10150', 'MATH10260', 'MEEN10030', 'MEEN10050', 'PHYC10160', 'BMOL10030', 'BSEN10010', 'EEEN20010', 'EEEN20020', 'MATH20290', 'MEEN20010', 'PHYS20040', 'EEEN20030', 'MEEN20030', 'MEEN20040', 'MEEN20070', 'STAT20060', 'EEEN20040', 'MEEN20020', 'ACM30030', 'ANAT20090', 'EEEN30160', 'EEEN30150', 'EEEN30180', 'MEEN30160', 'EEEN30020', 'EEEN30110', 'EEEN30030', 'EEEN30050', 'EEEN30120', 'MEEN20020', 'EEEN40660', 'MEEN40600', 'MEEN40620', 'MEEN40630', 'EEEN40010', 'EEEN40580', 'EEEN40170', 'EEEN40220', 'MEEN40560', 'CHEN40470', 'EEEN40070', 'EEEN40350', 'COMP41670', 'COMP47460', 'EEEN40130', 'MEEN40160']\n",
      "....................................................\n",
      " ['Chemistry' 'Chem & Bioprocess Engineering' 'Civil Engineering'\n",
      " 'Electrical & Electronic Eng' 'Mathematics & Statistics' 'Physics'\n",
      " 'Mechanical & Materials Eng' 'Biomolecular & Biomed Science'\n",
      " 'Biosystems & Food Engineering' 'Medicine' 'Computer Science']\n",
      "\n",
      "FINISHED, SCRAPED DETAILS ON 52 MODULES, OVER 11 SCHOOLS AND 4 LEVELS\n",
      "saving to ModuleInformation\\BiomedElectronicMastersPath\n",
      "saving to ModuleInformation\\BiomedElectronicMastersPath\n"
     ]
    }
   ],
   "source": [
    "module_assessments, module_descriptors, error_modules, error_module_descriptors\\\n",
    "=collector(codeList=excelListReader(\"UCD_EngArch_Path_Biomed-Elec_ME_Modules.xlsx\"), \\\n",
    "           foldername=\"BiomedElectronicMastersPath\")"
   ]
  },
  {
   "cell_type": "code",
   "execution_count": 22,
   "id": "e5f54c4d",
   "metadata": {},
   "outputs": [
    {
     "name": "stdout",
     "output_type": "stream",
     "text": [
      "['CHEM10030', 'CHEN10040', 'CVEN10040', 'EEEN10010', 'MATH10250', 'PHYC10150', 'MATH10260', 'MEEN10030', 'MEEN10050', 'PHYC10160', 'BMOL10030', 'BSEN10010', 'EEEN20010', 'EEEN20020', 'MATH20290', 'MEEN20010', 'PHYS20040', 'EEEN20030', 'MEEN20030', 'MEEN20040', 'MEEN20070', 'STAT20060', 'MEEN20060', 'MEEN20050', 'ACM30030', 'ANAT20090', 'EEEN30160', 'EEEN30150', 'EEEN30180', 'MEEN30160', 'MEEN20020', 'MEEN30090', 'MEEN30010', 'MEEN30020', 'MEEN30020', 'MEEN20020', 'EEEN40660', 'MEEN40600', 'MEEN40620', 'MEEN40630', 'MEEN40020', 'EEEN40580', 'EEEN40170', 'EEEN40220', 'MEEN40560', 'CHEN40470', 'MEEN41160', 'EEEN40350', 'MEEN40030', 'MEEN40020', 'MEEN40170', 'MEEN40160']\n",
      "....................................................\n",
      " ['Chemistry' 'Chem & Bioprocess Engineering' 'Civil Engineering'\n",
      " 'Electrical & Electronic Eng' 'Mathematics & Statistics' 'Physics'\n",
      " 'Mechanical & Materials Eng' 'Biomolecular & Biomed Science'\n",
      " 'Biosystems & Food Engineering' 'Medicine']\n",
      "\n",
      "FINISHED, SCRAPED DETAILS ON 52 MODULES, OVER 10 SCHOOLS AND 4 LEVELS\n",
      "saving to ModuleInformation\\BiomedMechanicalMastersPath\n",
      "saving to ModuleInformation\\BiomedMechanicalMastersPath\n"
     ]
    }
   ],
   "source": [
    "module_assessments, module_descriptors, error_modules, error_module_descriptors\\\n",
    "=collector(codeList=excelListReader(\"UCD_EngArch_Path_Biomed-Mech_ME_Modules.xlsx\"), \\\n",
    "           foldername=\"BiomedMechanicalMastersPath\")"
   ]
  },
  {
   "cell_type": "code",
   "execution_count": 23,
   "id": "6f151467",
   "metadata": {},
   "outputs": [
    {
     "name": "stdout",
     "output_type": "stream",
     "text": [
      "['CHEM10030', 'CHEN10040', 'CVEN10040', 'EEEN10010', 'MATH10250', 'PHYC10150', 'MATH10260', 'MEEN10030', 'MEEN10050', 'PHYC10160', 'COMP10060', 'EEEN10020', 'EEEN20010', 'EEEN20020', 'EEEN20050', 'EEEN20070', 'MATH20290', 'EEEN20030', 'EEEN20040', 'EEEN20060', 'EEEN20090', 'STAT20060', 'SCI20020', 'COMP20200', 'ACM30030', 'COMP20080', 'EEEN30020', 'EEEN30110', 'EEEN30030', 'EEEN30050', 'EEEN30120', 'EEEN30150', 'EEEN30090', 'EEEN30070', 'MEEN30100', 'MEEN30140', 'EEEN40010', 'EEEN40080', 'EEEN40110', 'EEEN40550', 'MEEN40090', 'EEEN40310', 'EEEN40190', 'EEEN40260', 'EEEN40100', 'EEEN40090', 'EEEN40120', 'MEEN40430', 'EEEN40580', 'ACM40290', 'COMP47670']\n",
      "...................................................\n",
      " ['Chemistry' 'Chem & Bioprocess Engineering' 'Civil Engineering'\n",
      " 'Electrical & Electronic Eng' 'Mathematics & Statistics' 'Physics'\n",
      " 'Mechanical & Materials Eng' 'Computer Science']\n",
      "\n",
      "FINISHED, SCRAPED DETAILS ON 51 MODULES, OVER 8 SCHOOLS AND 4 LEVELS\n",
      "saving to ModuleInformation\\ElectricalMastersPath\n",
      "saving to ModuleInformation\\ElectricalMastersPath\n"
     ]
    }
   ],
   "source": [
    "module_assessments, module_descriptors, error_modules, error_module_descriptors\\\n",
    "=collector(codeList=excelListReader(\"UCD_EngArch_Path_Electrical_ME_Modules.xlsx\"), \\\n",
    "           foldername=\"ElectricalMastersPath\")"
   ]
  },
  {
   "cell_type": "code",
   "execution_count": 24,
   "id": "2cd4d9e0",
   "metadata": {},
   "outputs": [
    {
     "name": "stdout",
     "output_type": "stream",
     "text": [
      "['CHEM10030', 'CHEN10040', 'CVEN10040', 'EEEN10010', 'MATH10250', 'PHYC10150', 'MATH10260', 'MEEN10030', 'MEEN10050', 'PHYC10160', 'COMP10060', 'EEEN10020', 'EEEN20010', 'EEEN20020', 'EEEN20050', 'EEEN20070', 'MATH20290', 'EEEN20030', 'EEEN20040', 'EEEN20060', 'EEEN20090', 'STAT20060', 'SCI20020', 'COMP20200', 'ACM30030', 'COMP20080', 'EEEN30020', 'EEEN30110', 'EEEN30030', 'EEEN30050', 'EEEN30120', 'EEEN30150', 'EEEN30190', 'EEEN30060', 'EEEN30160', 'COMP20180', 'COMP41670', 'EEEN40050', 'EEEN40060', 'EEEN40130', 'EEEN40150', 'EEEN40570', 'EEEN40210', 'EEEN40240', 'COMP41670', 'EEEN40060', 'EEEN40580', 'MEEN40430', 'EEEN40280', 'EEEN40600', 'EEEN40070']\n",
      "...................................................\n",
      " ['Chemistry' 'Chem & Bioprocess Engineering' 'Civil Engineering'\n",
      " 'Electrical & Electronic Eng' 'Mathematics & Statistics' 'Physics'\n",
      " 'Mechanical & Materials Eng' 'Computer Science']\n",
      "\n",
      "FINISHED, SCRAPED DETAILS ON 51 MODULES, OVER 8 SCHOOLS AND 4 LEVELS\n",
      "saving to ModuleInformation\\ElectronicMastersPath\n",
      "saving to ModuleInformation\\ElectronicMastersPath\n"
     ]
    }
   ],
   "source": [
    "module_assessments, module_descriptors, error_modules, error_module_descriptors\\\n",
    "=collector(codeList=excelListReader(\"UCD_EngArch_Path_Electronic_ME_Modules.xlsx\"), \\\n",
    "           foldername=\"ElectronicMastersPath\")"
   ]
  },
  {
   "cell_type": "code",
   "execution_count": 25,
   "id": "c3328a62",
   "metadata": {},
   "outputs": [
    {
     "name": "stdout",
     "output_type": "stream",
     "text": [
      "['CHEM10030', 'CHEN10040', 'CVEN10040', 'EEEN10010', 'MATH10250', 'PHYC10150', 'MATH10260', 'MEEN10030', 'MEEN10050', 'PHYC10160', 'COMP10060', 'DSCY10060', 'EEEN20020', 'MATH20290', 'MEEN20010', 'MEEN20020', 'MEEN20050', 'MEEN20030', 'MEEN20040', 'MEEN20060', 'MEEN20070', 'STAT20060', 'COMP20080', 'SCI20020', 'ACM30030', 'MEEN30030', 'MEEN30040', 'MEEN30090', 'MEEN30100', 'EEEN20090', 'EEEN30150', 'MEEN30010', 'MEEN30020', 'MEEN30140', 'MEEN30130', 'MEEN30160', 'MEEN40010', 'MEEN40020', 'MEEN40030', 'MEEN40050', 'MEEN40060', 'MEEN40150', 'MEEN40720', 'MEEN40700', 'MEEN40560', 'MEEN40170', 'MEEN40190', 'EEEN40010', 'MEEN40430', 'MEEN40090', 'MEEN40670']\n",
      "...................................................\n",
      " ['Chemistry' 'Chem & Bioprocess Engineering' 'Civil Engineering'\n",
      " 'Electrical & Electronic Eng' 'Mathematics & Statistics' 'Physics'\n",
      " 'Mechanical & Materials Eng' 'Computer Science']\n",
      "\n",
      "FINISHED, SCRAPED DETAILS ON 51 MODULES, OVER 8 SCHOOLS AND 4 LEVELS\n",
      "saving to ModuleInformation\\MechanicalMastersPath\n",
      "saving to ModuleInformation\\MechanicalMastersPath\n"
     ]
    }
   ],
   "source": [
    "module_assessments, module_descriptors, error_modules, error_module_descriptors\\\n",
    "=collector(codeList=excelListReader(\"UCD_EngArch_Path_Mechanical_ME_Modules.xlsx\"), \\\n",
    "           foldername=\"MechanicalMastersPath\")"
   ]
  },
  {
   "cell_type": "code",
   "execution_count": 39,
   "id": "e345bc28",
   "metadata": {},
   "outputs": [
    {
     "name": "stdout",
     "output_type": "stream",
     "text": [
      "['CHEM10030', 'CHEN10040', 'CVEN10040', 'EEEN10010', 'MATH10250', 'PHYC10150', 'MATH10260', 'MEEN10030', 'MEEN10050', 'PHYC10160', 'DSCY10070', 'CVEN10060', 'ARCT20040', 'CVEN20080', 'CVEN20110', 'MATH20290', 'CVEN20010', 'CVEN20040', 'CVEN20070', 'CVEN20120', 'CVEN20140', 'STAT20060', 'CVEN20030', 'CVEN20130', 'ACM30030', 'ARCT30030', 'CVEN30020', 'CVEN30040', 'CVEN30090', 'CVEN30390', 'CVEN30010', 'CVEN30170', 'CVEN30400', 'MEEN30130', 'CVEN30060', 'MEEN30140', 'ARCT40030', 'CVEN40390', 'CVEN40550', 'CVEN40610', 'CVEN40720', 'CVEN40780', 'CVEN40730', 'CVEN40750', 'CVEN40760', 'CVEN40770', 'STAT40690', 'ARCT40870', 'CVEN40050', 'CVEN40120', 'MEEN40430']\n",
      "...................................................\n",
      " ['Chemistry' 'Chem & Bioprocess Engineering' 'Civil Engineering'\n",
      " 'Electrical & Electronic Eng' 'Mathematics & Statistics' 'Physics'\n",
      " 'Mechanical & Materials Eng' 'Architecture, Plan & Env Pol']\n",
      "\n",
      "FINISHED, SCRAPED DETAILS ON 51 MODULES, OVER 8 SCHOOLS AND 4 LEVELS\n",
      "saving to ModuleInformation\\StructuralEngineerWithArchitectureMastersPath\n",
      "saving to ModuleInformation\\StructuralEngineerWithArchitectureMastersPath\n"
     ]
    }
   ],
   "source": [
    "module_assessments, module_descriptors, error_modules, error_module_descriptors\\\n",
    "=collector(codeList=excelListReader(\"UCD_EngArch_Path_StructEngArch_ME_Modules.xlsx\"), \\\n",
    "           foldername=\"StructuralEngineerWithArchitectureMastersPath\")"
   ]
  },
  {
   "cell_type": "code",
   "execution_count": 40,
   "id": "fe546f2b",
   "metadata": {},
   "outputs": [
    {
     "name": "stdout",
     "output_type": "stream",
     "text": [
      "['CHEM10030', 'CHEN10040', 'CVEN10040', 'EEEN10010', 'MATH10250', 'PHYC10150', 'MATH10260', 'MEEN10030', 'MEEN10050', 'PHYC10160', 'DSCY10070', 'CVEN10060', 'CVEN20030', 'CVEN20080', 'CVEN20110', 'CVEN20130', 'MATH20290', 'CVEN20010', 'CVEN20070', 'CVEN20120', 'CVEN20140', 'STAT20060', 'COMP20080', 'CVEN20040', 'ACM30030', 'CVEN30020', 'CVEN30040', 'CVEN30090', 'CVEN30390', 'CVEN30010', 'CVEN30060', 'CVEN30170', 'CVEN30400', 'GEOL30070', 'BSEN30240', 'MEEN30140', 'CVEN30110', 'CVEN40390', 'CVEN40690', 'CVEN40720', 'CVEN40780', 'CVEN40830', 'CVEN40130', 'CVEN40750', 'CVEN40760', 'STAT40690', 'CVEN40710', 'MEEN40430', 'CVEN40550', 'CHEN40010', 'CVEN40060']\n",
      "...................................................\n",
      " ['Chemistry' 'Chem & Bioprocess Engineering' 'Civil Engineering'\n",
      " 'Electrical & Electronic Eng' 'Mathematics & Statistics' 'Physics'\n",
      " 'Mechanical & Materials Eng' 'Computer Science' 'Earth Sciences'\n",
      " 'Biosystems & Food Engineering']\n",
      "\n",
      "FINISHED, SCRAPED DETAILS ON 51 MODULES, OVER 10 SCHOOLS AND 4 LEVELS\n",
      "saving to ModuleInformation\\CivilMastersPath\n",
      "saving to ModuleInformation\\CivilMastersPath\n"
     ]
    }
   ],
   "source": [
    "module_assessments, module_descriptors, error_modules, error_module_descriptors\\\n",
    "=collector(codeList=excelListReader(\"UCD_EngArch_Path_Civil_ME_Modules.xlsx\"), \\\n",
    "           foldername=\"CivilMastersPath\")"
   ]
  },
  {
   "cell_type": "markdown",
   "id": "5ce99ca7",
   "metadata": {},
   "source": [
    "### Collecting Data by Level"
   ]
  },
  {
   "cell_type": "code",
   "execution_count": 27,
   "id": "4f2c7edc",
   "metadata": {},
   "outputs": [
    {
     "name": "stdout",
     "output_type": "stream",
     "text": [
      "............................................................................................................................................................................................................................................................................................................................................................................................................................................................................................................................................\n",
      " ['Electrical & Electronic Eng' 'Civil Engineering'\n",
      " 'Chem & Bioprocess Engineering' 'Biosystems & Food Engineering'\n",
      " 'Architecture, Plan & Env Pol' 'Mechanical & Materials Eng']\n",
      "\n",
      "FINISHED, SCRAPED DETAILS ON 32 MODULES, OVER 6 SCHOOLS AND 1 LEVELS\n",
      "saving to ModuleInformation\\Level=1\n",
      "saving to ModuleInformation\\Level=1\n"
     ]
    }
   ],
   "source": [
    "#Run the collector function to only collect level 1 modules in the college of Engineering and Architecture\n",
    "module_assessments, module_descriptors, error_modules, error_module_descriptors=collector(level=1)"
   ]
  },
  {
   "cell_type": "code",
   "execution_count": 28,
   "id": "143861bf",
   "metadata": {},
   "outputs": [
    {
     "name": "stdout",
     "output_type": "stream",
     "text": [
      "............................................................................................................................................................................................................................................................................................................................................................................................................................................................................................................................................\n",
      " ['Electrical & Electronic Eng' 'Civil Engineering'\n",
      " 'Chem & Bioprocess Engineering' 'Biosystems & Food Engineering'\n",
      " 'Architecture, Plan & Env Pol' 'Mechanical & Materials Eng']\n",
      "\n",
      "FINISHED, SCRAPED DETAILS ON 55 MODULES, OVER 6 SCHOOLS AND 1 LEVELS\n",
      "saving to ModuleInformation\\Level=2\n",
      "saving to ModuleInformation\\Level=2\n"
     ]
    }
   ],
   "source": [
    "#Run the collector function to only collect level 1 modules in the college of Engineering and Architecture\n",
    "module_assessments, module_descriptors, error_modules, error_module_descriptors=collector(level=2)"
   ]
  },
  {
   "cell_type": "code",
   "execution_count": 29,
   "id": "f600d48e",
   "metadata": {},
   "outputs": [
    {
     "name": "stdout",
     "output_type": "stream",
     "text": [
      "............................................................................................................................................................................................................................................................................................................................................................................................................................................................................................................................................\n",
      " ['Electrical & Electronic Eng' 'Civil Engineering'\n",
      " 'Chem & Bioprocess Engineering' 'Biosystems & Food Engineering'\n",
      " 'Architecture, Plan & Env Pol' 'Mechanical & Materials Eng']\n",
      "\n",
      "FINISHED, SCRAPED DETAILS ON 88 MODULES, OVER 6 SCHOOLS AND 1 LEVELS\n",
      "saving to ModuleInformation\\Level=3\n",
      "saving to ModuleInformation\\Level=3\n"
     ]
    }
   ],
   "source": [
    "#Run the collector function to only collect level 1 modules in the college of Engineering and Architecture\n",
    "module_assessments, module_descriptors, error_modules, error_module_descriptors=collector(level=3)"
   ]
  },
  {
   "cell_type": "code",
   "execution_count": 30,
   "id": "3a048019",
   "metadata": {},
   "outputs": [
    {
     "name": "stdout",
     "output_type": "stream",
     "text": [
      ".......................................................................................................................\n",
      "ERROR MODULE DETECTED.\n",
      "Module may need to be inspected, saving information as an error module and continuing without it\n",
      "..........................................................................................................................\n",
      "ERROR MODULE DETECTED.\n",
      "Module may need to be inspected, saving information as an error module and continuing without it\n",
      "...................................................\n",
      "ERROR MODULE DETECTED.\n",
      "Module may need to be inspected, saving information as an error module and continuing without it\n",
      ".\n",
      "ERROR MODULE DETECTED.\n",
      "Module may need to be inspected, saving information as an error module and continuing without it\n",
      "..\n",
      "ERROR MODULE DETECTED.\n",
      "Module may need to be inspected, saving information as an error module and continuing without it\n",
      ".....\n",
      "ERROR MODULE DETECTED.\n",
      "Module may need to be inspected, saving information as an error module and continuing without it\n",
      "...........................................................................................................................................................\n",
      "ERROR MODULE DETECTED.\n",
      "Module may need to be inspected, saving information as an error module and continuing without it\n",
      "..................\n",
      "ERROR MODULE DETECTED.\n",
      "Module may need to be inspected, saving information as an error module and continuing without it\n",
      "........................\n",
      "ERROR MODULE DETECTED.\n",
      "Module may need to be inspected, saving information as an error module and continuing without it\n",
      ".\n",
      "ERROR MODULE DETECTED.\n",
      "Module may need to be inspected, saving information as an error module and continuing without it\n",
      "..........................\n",
      " ['Electrical & Electronic Eng' 'Civil Engineering'\n",
      " 'Chem & Bioprocess Engineering' 'Biosystems & Food Engineering'\n",
      " 'Architecture, Plan & Env Pol' 'Mechanical & Materials Eng']\n",
      "\n",
      "FINISHED, SCRAPED DETAILS ON 326 MODULES, OVER 6 SCHOOLS AND 1 LEVELS\n",
      "saving to ModuleInformation\\Level=4\n",
      "saving to ModuleInformation\\Level=4\n"
     ]
    }
   ],
   "source": [
    "#Run the collector function to only collect level 1 modules in the college of Engineering and Architecture\n",
    "module_assessments, module_descriptors, error_modules, error_module_descriptors=collector(level=4)"
   ]
  },
  {
   "cell_type": "code",
   "execution_count": 31,
   "id": "bb466c33",
   "metadata": {},
   "outputs": [
    {
     "name": "stdout",
     "output_type": "stream",
     "text": [
      "........................................................................................................................................................................................................................................................................................................................................................................................................................................................................................................................................\n",
      "ERROR MODULE DETECTED.\n",
      "Module may need to be inspected, saving information as an error module and continuing without it\n",
      "....\n",
      " ['Electrical & Electronic Eng' 'Chem & Bioprocess Engineering'\n",
      " 'Architecture, Plan & Env Pol' 'Mechanical & Materials Eng']\n",
      "\n",
      "FINISHED, SCRAPED DETAILS ON 12 MODULES, OVER 4 SCHOOLS AND 1 LEVELS\n",
      "saving to ModuleInformation\\Level=5\n",
      "saving to ModuleInformation\\Level=5\n"
     ]
    }
   ],
   "source": [
    "#Run the collector function to only collect level 1 modules in the college of Engineering and Architecture\n",
    "module_assessments, module_descriptors, error_modules, error_module_descriptors=collector(level=5)"
   ]
  },
  {
   "cell_type": "markdown",
   "id": "1a7cd277",
   "metadata": {},
   "source": [
    "### Collecting Data by School"
   ]
  },
  {
   "cell_type": "code",
   "execution_count": 32,
   "id": "c4f0c840",
   "metadata": {},
   "outputs": [
    {
     "name": "stdout",
     "output_type": "stream",
     "text": [
      "....................................\n",
      "ERROR MODULE DETECTED.\n",
      "Module may need to be inspected, saving information as an error module and continuing without it\n",
      "..................\n",
      "ERROR MODULE DETECTED.\n",
      "Module may need to be inspected, saving information as an error module and continuing without it\n",
      "........................\n",
      "ERROR MODULE DETECTED.\n",
      "Module may need to be inspected, saving information as an error module and continuing without it\n",
      ".\n",
      "ERROR MODULE DETECTED.\n",
      "Module may need to be inspected, saving information as an error module and continuing without it\n",
      "......................\n",
      "ERROR MODULE DETECTED.\n",
      "Module may need to be inspected, saving information as an error module and continuing without it\n",
      "....\n",
      " ['Mechanical & Materials Eng']\n",
      "\n",
      "FINISHED, SCRAPED DETAILS ON 100 MODULES, OVER 1 SCHOOLS AND 5 LEVELS\n",
      "saving to ModuleInformation\\_School=Mechanical-&-Materials-Eng\n",
      "saving to ModuleInformation\\_School=Mechanical-&-Materials-Eng\n"
     ]
    }
   ],
   "source": [
    "module_assessments, module_descriptors, error_modules, error_module_descriptors=collector(school=\"Mechanical & Materials Eng\")"
   ]
  },
  {
   "cell_type": "code",
   "execution_count": 33,
   "id": "b5d9a095",
   "metadata": {},
   "outputs": [
    {
     "name": "stdout",
     "output_type": "stream",
     "text": [
      ".....................................................\n",
      "ERROR MODULE DETECTED.\n",
      "Module may need to be inspected, saving information as an error module and continuing without it\n",
      ".....\n",
      " ['Civil Engineering']\n",
      "\n",
      "FINISHED, SCRAPED DETAILS ON 57 MODULES, OVER 1 SCHOOLS AND 4 LEVELS\n",
      "saving to ModuleInformation\\_School=Civil-Engineering\n",
      "saving to ModuleInformation\\_School=Civil-Engineering\n"
     ]
    }
   ],
   "source": [
    "module_assessments, module_descriptors, error_modules, error_module_descriptors=collector(school=\"Civil Engineering\")"
   ]
  },
  {
   "cell_type": "code",
   "execution_count": 34,
   "id": "4cfeb136",
   "metadata": {},
   "outputs": [
    {
     "name": "stdout",
     "output_type": "stream",
     "text": [
      "...................................................................\n",
      " ['Chem & Bioprocess Engineering']\n",
      "\n",
      "FINISHED, SCRAPED DETAILS ON 67 MODULES, OVER 1 SCHOOLS AND 5 LEVELS\n",
      "saving to ModuleInformation\\_School=Chem-&-Bioprocess-Engineering\n",
      "saving to ModuleInformation\\_School=Chem-&-Bioprocess-Engineering\n"
     ]
    }
   ],
   "source": [
    "module_assessments, module_descriptors, error_modules, error_module_descriptors=collector(school=\"Chem & Bioprocess Engineering\")"
   ]
  },
  {
   "cell_type": "code",
   "execution_count": 35,
   "id": "0415e4d5",
   "metadata": {},
   "outputs": [
    {
     "name": "stdout",
     "output_type": "stream",
     "text": [
      "..................................................\n",
      "ERROR MODULE DETECTED.\n",
      "Module may need to be inspected, saving information as an error module and continuing without it\n",
      "...............\n",
      " ['Biosystems & Food Engineering']\n",
      "\n",
      "FINISHED, SCRAPED DETAILS ON 64 MODULES, OVER 1 SCHOOLS AND 4 LEVELS\n",
      "saving to ModuleInformation\\_School=Biosystems-&-Food-Engineering\n",
      "saving to ModuleInformation\\_School=Biosystems-&-Food-Engineering\n"
     ]
    }
   ],
   "source": [
    "module_assessments, module_descriptors, error_modules, error_module_descriptors=collector(school=\"Biosystems & Food Engineering\")"
   ]
  },
  {
   "cell_type": "code",
   "execution_count": 36,
   "id": "5cc77435",
   "metadata": {},
   "outputs": [
    {
     "name": "stdout",
     "output_type": "stream",
     "text": [
      "....................................\n",
      "ERROR MODULE DETECTED.\n",
      "Module may need to be inspected, saving information as an error module and continuing without it\n",
      ".\n",
      "ERROR MODULE DETECTED.\n",
      "Module may need to be inspected, saving information as an error module and continuing without it\n",
      "..\n",
      "ERROR MODULE DETECTED.\n",
      "Module may need to be inspected, saving information as an error module and continuing without it\n",
      ".....\n",
      "ERROR MODULE DETECTED.\n",
      "Module may need to be inspected, saving information as an error module and continuing without it\n",
      ".......................................................................................................................\n",
      " ['Architecture, Plan & Env Pol']\n",
      "\n",
      "FINISHED, SCRAPED DETAILS ON 159 MODULES, OVER 1 SCHOOLS AND 5 LEVELS\n",
      "saving to ModuleInformation\\_School=Architecture,-Plan-&-Env-Pol\n",
      "saving to ModuleInformation\\_School=Architecture,-Plan-&-Env-Pol\n"
     ]
    }
   ],
   "source": [
    "module_assessments, module_descriptors, error_modules, error_module_descriptors=collector(school=\"Architecture, Plan & Env Pol\")"
   ]
  },
  {
   "cell_type": "code",
   "execution_count": 37,
   "id": "ace211cf",
   "metadata": {},
   "outputs": [
    {
     "name": "stdout",
     "output_type": "stream",
     "text": [
      "..................................................................\n",
      " ['Electrical & Electronic Eng']\n",
      "\n",
      "FINISHED, SCRAPED DETAILS ON 66 MODULES, OVER 1 SCHOOLS AND 5 LEVELS\n",
      "saving to ModuleInformation\\_School=Electrical-&-Electronic-Eng\n",
      "saving to ModuleInformation\\_School=Electrical-&-Electronic-Eng\n"
     ]
    }
   ],
   "source": [
    "module_assessments, module_descriptors, error_modules, error_module_descriptors=collector(school=\"Electrical & Electronic Eng\")"
   ]
  },
  {
   "cell_type": "markdown",
   "id": "1661f234",
   "metadata": {},
   "source": [
    "## Inspecting Error Modules\n",
    "As stated, the collector identifies any error modules and saves them for later visual inspection. We will just quickly inspect these modules, and make sure that they are not either a sign of a greater issue, or should be somehow included."
   ]
  },
  {
   "cell_type": "code",
   "execution_count": 38,
   "id": "1eb1851a",
   "metadata": {},
   "outputs": [
    {
     "name": "stdout",
     "output_type": "stream",
     "text": [
      "********ERROR COUNT 0*********\n",
      "         Description             Timing     Open Book Exam    Component Scale  \\\n",
      "0  Not yet recorded.  Not yet recorded.  Not yet recorded.  Not yet recorded.   \n",
      "\n",
      "  Must Pass Component   % of Final Grade    Assessment Type Module Code  \n",
      "0   Not yet recorded.  Not yet recorded.  Not yet recorded.   CVEN40790  \n",
      "Subject:                                         Civil Engineering\n",
      "College:                                Engineering & Architecture\n",
      "School:                                          Civil Engineering\n",
      "Level:                                                 4 (Masters)\n",
      "Credits:                                                      30.0\n",
      "Credit Split by Trimester:               Autumn 1Spring 2Summer 27\n",
      "Trimester:                                   Year-long (12 months)\n",
      "Module Coordinator:                Assoc Professor Arturo Gonzalez\n",
      "Mode of Delivery:                                 Not yet recorded\n",
      "Internship Module:                                              No\n",
      "Clinical/ Fieldwork/ Placement:                                 No\n",
      "How will I be graded?                               Letter grades \n",
      "Module Code                                              CVEN40790\n",
      "dtype: object\n",
      "********ERROR COUNT 1*********\n",
      "         Description             Timing     Open Book Exam    Component Scale  \\\n",
      "0  Not yet recorded.  Not yet recorded.  Not yet recorded.  Not yet recorded.   \n",
      "\n",
      "  Must Pass Component   % of Final Grade    Assessment Type Module Code  \n",
      "0   Not yet recorded.  Not yet recorded.  Not yet recorded.   BSEN40600  \n",
      "Subject:                                  Biosystems Engineering\n",
      "College:                              Engineering & Architecture\n",
      "School:                            Biosystems & Food Engineering\n",
      "Level:                                               4 (Masters)\n",
      "Credits:                                                    10.0\n",
      "Trimester:                          Autumn and Spring (separate)\n",
      "Module Coordinator:                          Dr Fionnuala Murphy\n",
      "Mode of Delivery:                                         Online\n",
      "Internship Module:                                            No\n",
      "Clinical/ Fieldwork/ Placement:                               No\n",
      "How will I be graded?                             Letter grades \n",
      "Module Code                                            BSEN40600\n",
      "dtype: object\n",
      "********ERROR COUNT 2*********\n",
      "         Description             Timing     Open Book Exam    Component Scale  \\\n",
      "0  Not yet recorded.  Not yet recorded.  Not yet recorded.  Not yet recorded.   \n",
      "\n",
      "  Must Pass Component   % of Final Grade    Assessment Type Module Code  \n",
      "0   Not yet recorded.  Not yet recorded.  Not yet recorded.   ARCT40330  \n",
      "Subject:                                           Architecture\n",
      "College:                             Engineering & Architecture\n",
      "School:                            Architecture, Plan & Env Pol\n",
      "Level:                                              4 (Masters)\n",
      "Credits:                                                   90.0\n",
      "Trimester:                                               Summer\n",
      "Module Coordinator:                                            \n",
      "Mode of Delivery:                              Not yet recorded\n",
      "Internship Module:                                           No\n",
      "Clinical/ Fieldwork/ Placement:                Not yet recorded\n",
      "How will I be graded?                            Letter grades \n",
      "Module Code                                           ARCT40330\n",
      "dtype: object\n",
      "********ERROR COUNT 3*********\n",
      "         Description             Timing     Open Book Exam    Component Scale  \\\n",
      "0  Not yet recorded.  Not yet recorded.  Not yet recorded.  Not yet recorded.   \n",
      "\n",
      "  Must Pass Component   % of Final Grade    Assessment Type Module Code  \n",
      "0   Not yet recorded.  Not yet recorded.  Not yet recorded.   ARCT40490  \n",
      "Subject:                                           Architecture\n",
      "College:                             Engineering & Architecture\n",
      "School:                            Architecture, Plan & Env Pol\n",
      "Level:                                              4 (Masters)\n",
      "Credits:                                                    5.0\n",
      "Trimester:                                               Summer\n",
      "Module Coordinator:                                 Mr Alan Mee\n",
      "Mode of Delivery:                              Not yet recorded\n",
      "Internship Module:                                           No\n",
      "Clinical/ Fieldwork/ Placement:                Not yet recorded\n",
      "How will I be graded?                            Letter grades \n",
      "Module Code                                           ARCT40490\n",
      "dtype: object\n",
      "********ERROR COUNT 4*********\n",
      "         Description             Timing     Open Book Exam    Component Scale  \\\n",
      "0  Not yet recorded.  Not yet recorded.  Not yet recorded.  Not yet recorded.   \n",
      "\n",
      "  Must Pass Component   % of Final Grade    Assessment Type Module Code  \n",
      "0   Not yet recorded.  Not yet recorded.  Not yet recorded.   ARCT40530  \n",
      "Subject:                                           Architecture\n",
      "College:                             Engineering & Architecture\n",
      "School:                            Architecture, Plan & Env Pol\n",
      "Level:                                              4 (Masters)\n",
      "Credits:                                                   10.0\n",
      "Credit Split by Trimester:             Autumn 3Spring 3Summer 4\n",
      "Trimester:                                Year-long (12 months)\n",
      "Module Coordinator:                            Ms Dorothy Jones\n",
      "Mode of Delivery:                              Not yet recorded\n",
      "Internship Module:                                           No\n",
      "Clinical/ Fieldwork/ Placement:                Not yet recorded\n",
      "How will I be graded?                            Letter grades \n",
      "Module Code                                           ARCT40530\n",
      "dtype: object\n",
      "********ERROR COUNT 5*********\n",
      "         Description             Timing     Open Book Exam    Component Scale  \\\n",
      "0  Not yet recorded.  Not yet recorded.  Not yet recorded.  Not yet recorded.   \n",
      "\n",
      "  Must Pass Component   % of Final Grade    Assessment Type Module Code  \n",
      "0   Not yet recorded.  Not yet recorded.  Not yet recorded.   ARCT40720  \n",
      "Subject:                                           Architecture\n",
      "College:                             Engineering & Architecture\n",
      "School:                            Architecture, Plan & Env Pol\n",
      "Level:                                              4 (Masters)\n",
      "Credits:                                                   30.0\n",
      "Trimester:                                               Summer\n",
      "Module Coordinator:                                 Mr Alan Mee\n",
      "Mode of Delivery:                              Not yet recorded\n",
      "Internship Module:                                           No\n",
      "Clinical/ Fieldwork/ Placement:                Not yet recorded\n",
      "How will I be graded?                            Letter grades \n",
      "Module Code                                           ARCT40720\n",
      "dtype: object\n",
      "********ERROR COUNT 6*********\n",
      "         Description             Timing     Open Book Exam    Component Scale  \\\n",
      "0  Not yet recorded.  Not yet recorded.  Not yet recorded.  Not yet recorded.   \n",
      "\n",
      "  Must Pass Component   % of Final Grade    Assessment Type Module Code  \n",
      "0   Not yet recorded.  Not yet recorded.  Not yet recorded.   MEEN40230  \n",
      "Subject:                                   Mechanical Engineering\n",
      "College:                               Engineering & Architecture\n",
      "School:                                Mechanical & Materials Eng\n",
      "Level:                                                4 (Masters)\n",
      "Credits:                                                     20.0\n",
      "Credit Split by Trimester:         Autumn 6.7Spring 6.7Summer 6.6\n",
      "Trimester:                                  Year-long (12 months)\n",
      "Module Coordinator:                           Dr Malachy O'Rourke\n",
      "Mode of Delivery:                                Not yet recorded\n",
      "Internship Module:                                             No\n",
      "Clinical/ Fieldwork/ Placement:                  Not yet recorded\n",
      "How will I be graded?                              Letter grades \n",
      "Module Code                                             MEEN40230\n",
      "dtype: object\n",
      "********ERROR COUNT 7*********\n",
      "         Description             Timing     Open Book Exam    Component Scale  \\\n",
      "0  Not yet recorded.  Not yet recorded.  Not yet recorded.  Not yet recorded.   \n",
      "\n",
      "  Must Pass Component   % of Final Grade    Assessment Type Module Code  \n",
      "0   Not yet recorded.  Not yet recorded.  Not yet recorded.   MEEN40660  \n",
      "Subject:                               Mechanical Engineering\n",
      "College:                           Engineering & Architecture\n",
      "School:                            Mechanical & Materials Eng\n",
      "Level:                                            4 (Masters)\n",
      "Credits:                                                 30.0\n",
      "Trimester:                                             Summer\n",
      "Module Coordinator:                       Dr Malachy O'Rourke\n",
      "Mode of Delivery:                            Not yet recorded\n",
      "Internship Module:                                         No\n",
      "Clinical/ Fieldwork/ Placement:              Not yet recorded\n",
      "How will I be graded?                          Letter grades \n",
      "Module Code                                         MEEN40660\n",
      "dtype: object\n",
      "********ERROR COUNT 8*********\n",
      "         Description             Timing     Open Book Exam    Component Scale  \\\n",
      "0  Not yet recorded.  Not yet recorded.  Not yet recorded.  Not yet recorded.   \n",
      "\n",
      "  Must Pass Component   % of Final Grade    Assessment Type Module Code  \n",
      "0   Not yet recorded.  Not yet recorded.  Not yet recorded.   MEEN40960  \n",
      "Subject:                                 Mechanical Engineering\n",
      "College:                             Engineering & Architecture\n",
      "School:                              Mechanical & Materials Eng\n",
      "Level:                                              4 (Masters)\n",
      "Credits:                                                   10.0\n",
      "Trimester:                         Autumn and Summer (separate)\n",
      "Module Coordinator:                   Professor Lizbeth Goodman\n",
      "Mode of Delivery:                                       Blended\n",
      "Internship Module:                                           No\n",
      "Clinical/ Fieldwork/ Placement:                              No\n",
      "How will I be graded?                            Letter grades \n",
      "Module Code                                           MEEN40960\n",
      "dtype: object\n",
      "********ERROR COUNT 9*********\n",
      "         Description             Timing     Open Book Exam    Component Scale  \\\n",
      "0  Not yet recorded.  Not yet recorded.  Not yet recorded.  Not yet recorded.   \n",
      "\n",
      "  Must Pass Component   % of Final Grade    Assessment Type Module Code  \n",
      "0   Not yet recorded.  Not yet recorded.  Not yet recorded.   MEEN40970  \n",
      "Subject:                                 Mechanical Engineering\n",
      "College:                             Engineering & Architecture\n",
      "School:                              Mechanical & Materials Eng\n",
      "Level:                                              4 (Masters)\n",
      "Credits:                                                   10.0\n",
      "Trimester:                         Autumn and Summer (separate)\n",
      "Module Coordinator:                   Professor Lizbeth Goodman\n",
      "Mode of Delivery:                              Not yet recorded\n",
      "Internship Module:                                           No\n",
      "Clinical/ Fieldwork/ Placement:                Not yet recorded\n",
      "How will I be graded?                            Letter grades \n",
      "Module Code                                           MEEN40970\n",
      "dtype: object\n",
      "********ERROR COUNT 10*********\n",
      "         Description             Timing     Open Book Exam    Component Scale  \\\n",
      "0  Not yet recorded.  Not yet recorded.  Not yet recorded.  Not yet recorded.   \n",
      "\n",
      "  Must Pass Component   % of Final Grade    Assessment Type Module Code  \n",
      "0   Not yet recorded.  Not yet recorded.  Not yet recorded.   MEEN50050  \n",
      "Subject:                                   Mechanical Engineering\n",
      "College:                               Engineering & Architecture\n",
      "School:                                Mechanical & Materials Eng\n",
      "Level:                                               5 (Doctoral)\n",
      "Credits:                                                     10.0\n",
      "Credit Split by Trimester:                       Autumn 5Spring 5\n",
      "Trimester:                         2 Trimester duration (Aut-Spr)\n",
      "Module Coordinator:                   Professor Michael Gilchrist\n",
      "Mode of Delivery:                                Not yet recorded\n",
      "Internship Module:                                             No\n",
      "Clinical/ Fieldwork/ Placement:                  Not yet recorded\n",
      "How will I be graded?                              Letter grades \n",
      "Module Code                                             MEEN50050\n",
      "dtype: object\n"
     ]
    }
   ],
   "source": [
    "#Inspect the error modules just in case. Simply loop through their assessment and description data and print it for inspection\n",
    "for i, error in enumerate(zip(ALL_error_modules, ALL_error_module_descriptors)):\n",
    "    print(\"********ERROR COUNT %d*********\" %i)\n",
    "    print(error[0])\n",
    "    print(error[1])\n",
    "    "
   ]
  },
  {
   "cell_type": "code",
   "execution_count": null,
   "id": "b8ffac0c",
   "metadata": {},
   "outputs": [],
   "source": []
  }
 ],
 "metadata": {
  "kernelspec": {
   "display_name": "Python 3 (ipykernel)",
   "language": "python",
   "name": "python3"
  },
  "language_info": {
   "codemirror_mode": {
    "name": "ipython",
    "version": 3
   },
   "file_extension": ".py",
   "mimetype": "text/x-python",
   "name": "python",
   "nbconvert_exporter": "python",
   "pygments_lexer": "ipython3",
   "version": "3.9.13"
  }
 },
 "nbformat": 4,
 "nbformat_minor": 5
}
