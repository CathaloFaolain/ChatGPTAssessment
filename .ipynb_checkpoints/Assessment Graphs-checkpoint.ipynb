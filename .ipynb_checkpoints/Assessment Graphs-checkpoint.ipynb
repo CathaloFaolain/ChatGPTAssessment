{
 "cells": [
  {
   "cell_type": "markdown",
   "id": "72d68600",
   "metadata": {},
   "source": [
    "# Assessment Graphs\n",
    "This notebook is for creating graphs based on how modules are assessed and how susceptible they appear to ChatGPT. All module information was collected from publicly available module information on UCD modules in the College of Engineering and Architecture, the method of which can be seen in the Module Scraper Code notebook."
   ]
  },
  {
   "cell_type": "code",
   "execution_count": 1,
   "id": "b37e47bc",
   "metadata": {},
   "outputs": [],
   "source": [
    "import pandas as pd\n",
    "import numpy as np\n",
    "import seaborn as sns\n",
    "import matplotlib.pyplot as plt\n",
    "from bs4 import BeautifulSoup\n",
    "import re\n",
    "import pathlib as Path\n",
    "import html5lib\n",
    "import json"
   ]
  },
  {
   "cell_type": "code",
   "execution_count": 2,
   "id": "120f9f11",
   "metadata": {},
   "outputs": [],
   "source": [
    "def file_finder(school=None, level=None, givenList=None):\n",
    "    dir_raw=Path.Path(\"ModuleInformation\")\n",
    "    \n",
    "    subdirectory=\"\"\n",
    "    #Save the file in its desired format\n",
    "    if level != None:\n",
    "        subdirectory+= \"/Level=%d\" %(level)\n",
    "        \n",
    "    if school != None:\n",
    "        subdirectory+= \"_School=\"+school.replace(\" \", \"-\")\n",
    "        \n",
    "    if givenList != None:\n",
    "        subdirectory += \"SelectedModules\"\n",
    "        \n",
    "        \n",
    "    if len(subdirectory) > 0:\n",
    "        dir_raw =dir_raw / subdirectory\n",
    "        \n",
    "\n",
    "    with open(dir_raw / \"assessments.json\", 'r') as infile:\n",
    "        print(\"Reading from %s\" % dir_raw)\n",
    "        assessments=pd.read_json(infile)\n",
    "    with open(dir_raw / \"descriptors.json\", 'r') as infile:\n",
    "        print(\"Reading from %s\" % dir_raw)\n",
    "        descriptors=pd.read_json(infile)\n",
    "    \n",
    "    return assessments, descriptors"
   ]
  },
  {
   "cell_type": "code",
   "execution_count": 3,
   "id": "1af23571",
   "metadata": {},
   "outputs": [
    {
     "ename": "NameError",
     "evalue": "name 'List' is not defined",
     "output_type": "error",
     "traceback": [
      "\u001b[1;31m---------------------------------------------------------------------------\u001b[0m",
      "\u001b[1;31mNameError\u001b[0m                                 Traceback (most recent call last)",
      "Cell \u001b[1;32mIn[3], line 1\u001b[0m\n\u001b[1;32m----> 1\u001b[0m assessments, descriptors \u001b[38;5;241m=\u001b[39m \u001b[43mfile_finder\u001b[49m\u001b[43m(\u001b[49m\u001b[43m)\u001b[49m\n\u001b[0;32m      3\u001b[0m assessments\n",
      "Cell \u001b[1;32mIn[2], line 12\u001b[0m, in \u001b[0;36mfile_finder\u001b[1;34m(school, level)\u001b[0m\n\u001b[0;32m      9\u001b[0m \u001b[38;5;28;01mif\u001b[39;00m school \u001b[38;5;241m!=\u001b[39m \u001b[38;5;28;01mNone\u001b[39;00m:\n\u001b[0;32m     10\u001b[0m     subdirectory\u001b[38;5;241m+\u001b[39m\u001b[38;5;241m=\u001b[39m \u001b[38;5;124m\"\u001b[39m\u001b[38;5;124m_School=\u001b[39m\u001b[38;5;124m\"\u001b[39m\u001b[38;5;241m+\u001b[39mschool\u001b[38;5;241m.\u001b[39mreplace(\u001b[38;5;124m\"\u001b[39m\u001b[38;5;124m \u001b[39m\u001b[38;5;124m\"\u001b[39m, \u001b[38;5;124m\"\u001b[39m\u001b[38;5;124m-\u001b[39m\u001b[38;5;124m\"\u001b[39m)\n\u001b[1;32m---> 12\u001b[0m \u001b[38;5;28;01mif\u001b[39;00m \u001b[43mList\u001b[49m \u001b[38;5;241m!=\u001b[39m \u001b[38;5;28;01mNone\u001b[39;00m:\n\u001b[0;32m     13\u001b[0m     subdirectory \u001b[38;5;241m+\u001b[39m\u001b[38;5;241m=\u001b[39m \u001b[38;5;124m\"\u001b[39m\u001b[38;5;124mSelectedModules\u001b[39m\u001b[38;5;124m\"\u001b[39m\n\u001b[0;32m     16\u001b[0m \u001b[38;5;28;01mif\u001b[39;00m \u001b[38;5;28mlen\u001b[39m(subdirectory) \u001b[38;5;241m>\u001b[39m \u001b[38;5;241m0\u001b[39m:\n",
      "\u001b[1;31mNameError\u001b[0m: name 'List' is not defined"
     ]
    }
   ],
   "source": [
    "assessments, descriptors = file_finder()\n",
    "\n",
    "assessments"
   ]
  },
  {
   "cell_type": "code",
   "execution_count": null,
   "id": "7ae307f5",
   "metadata": {},
   "outputs": [],
   "source": [
    "susceptibility={\"Assignment\" :\"susceptible\", \"\" \"not susceptible\"}"
   ]
  }
 ],
 "metadata": {
  "kernelspec": {
   "display_name": "Python 3 (ipykernel)",
   "language": "python",
   "name": "python3"
  },
  "language_info": {
   "codemirror_mode": {
    "name": "ipython",
    "version": 3
   },
   "file_extension": ".py",
   "mimetype": "text/x-python",
   "name": "python",
   "nbconvert_exporter": "python",
   "pygments_lexer": "ipython3",
   "version": "3.9.13"
  }
 },
 "nbformat": 4,
 "nbformat_minor": 5
}
