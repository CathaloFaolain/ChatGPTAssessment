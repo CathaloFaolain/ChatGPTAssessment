{
 "cells": [
  {
   "cell_type": "markdown",
   "id": "72d68600",
   "metadata": {},
   "source": [
    "# Assessment Graphs\n",
    "This notebook is for creating graphs based on how modules are assessed and how susceptible they appear to ChatGPT. All module information was collected from publicly available module information on UCD modules in the College of Engineering and Architecture, the method of which can be seen in the Module Scraper Code notebook."
   ]
  },
  {
   "cell_type": "code",
   "execution_count": 1,
   "id": "b37e47bc",
   "metadata": {},
   "outputs": [],
   "source": [
    "import pandas as pd\n",
    "import numpy as np\n",
    "import seaborn as sns\n",
    "import matplotlib.pyplot as plt\n",
    "from bs4 import BeautifulSoup\n",
    "import re\n",
    "import pathlib as Path\n",
    "import html5lib\n",
    "import json"
   ]
  },
  {
   "cell_type": "code",
   "execution_count": 2,
   "id": "120f9f11",
   "metadata": {},
   "outputs": [],
   "source": [
    "def file_finder(school=None, level=None, givenList=None, filename=None):\n",
    "    dir_raw=Path.Path(\"ModuleInformation\")\n",
    "    \n",
    "    subdirectory=\"\"\n",
    "    #Save the file in its desired format\n",
    "    if level != None:\n",
    "        subdirectory+= \"/Level=%d\" %(level)\n",
    "        \n",
    "    if school != None:\n",
    "        subdirectory+= \"_School=\"+school.replace(\" \", \"-\")\n",
    "        \n",
    "    #if givenList != None:\n",
    "    #    subdirectory += \"SelectedModules\"\n",
    "    \n",
    "    if filename != None:\n",
    "        subdirectory = filename\n",
    "        \n",
    "    if len(subdirectory) > 0:\n",
    "        dir_raw =dir_raw / subdirectory\n",
    "        \n",
    "\n",
    "    with open(dir_raw / \"assessments.json\", 'r') as infile:\n",
    "        print(\"Reading from %s\" % dir_raw)\n",
    "        assessments=pd.read_json(infile)\n",
    "    with open(dir_raw / \"descriptors.json\", 'r') as infile:\n",
    "        print(\"Reading from %s\" % dir_raw)\n",
    "        descriptors=pd.read_json(infile)\n",
    "    \n",
    "    return assessments, descriptors"
   ]
  },
  {
   "cell_type": "code",
   "execution_count": null,
   "id": "1af23571",
   "metadata": {},
   "outputs": [],
   "source": [
    "assessments, descriptors = file_finder()\n",
    "\n",
    "assessments"
   ]
  },
  {
   "cell_type": "code",
   "execution_count": null,
   "id": "7ae307f5",
   "metadata": {},
   "outputs": [],
   "source": [
    "susceptibility={\"Assignment\" :\"susceptible\", \\\n",
    "                \"Attendance\": \"not susceptible\", \\\n",
    "                \"Class Test\" : \"not susceptible\", \\\n",
    "                \"Continuous Assessment\": \"susceptible\", \\\n",
    "               \"Essay\": \"susceptible\", \\\n",
    "                \"Examination\": \"not susceptible\", \\\n",
    "                \"Fieldwork\": \"not susceptible\", \\\n",
    "                \"Group Project\": \"susceptible\", \\\n",
    "                \"Journal\": \"not susceptible\",\\\n",
    "               \"Lab Report\": \"not susceptible\", \\\n",
    "                \"Multiple Choice Questionnaire\": \"not susceptible\", \\\n",
    "                \"Oral Examination\": \"not susceptible\", \\\n",
    "               \"Portfolio\" : \"susceptible\",  \\\n",
    "                \"Practical Examination\": \"not susceptible\", \\\n",
    "                \"Presentation\" : \"not susceptible\", \\\n",
    "                \"Project\": \"susceptible\", \\\n",
    "               \"Seminar\": \"not susceptible\", \\\n",
    "               \"Studio Examination\" : \"not susceptible\",\\\n",
    "               \"Assessments worth <2%\": \"not susceptible\"}"
   ]
  },
  {
   "cell_type": "code",
   "execution_count": null,
   "id": "3c7f7e51",
   "metadata": {},
   "outputs": [],
   "source": [
    "def assessment_total_pie(assessments, scaled=True, school=None, level=None, givenList=None):\n",
    "    assessments=assessments[[\"Assessment Type\", \"% of Final Grade\", \"Scaled % of Final Grade\"]]\n",
    "\n",
    "    #This is the dataset cleaning, so that they are ready for presentation\n",
    "    assessments[\"% of Final Grade\"]=pd.to_numeric(assessments[\"% of Final Grade\"], errors='coerce')\n",
    "    assessments=assessments.replace(\"Multiple Choice Questionnaire (Short)\", \"Multiple Choice Questionnaire\")\n",
    "    assessments=assessments.dropna()\n",
    "    assessments[\"Assessment Type\"]=assessments[\"Assessment Type\"].astype(\"category\")\n",
    "    assessments[\"Susceptiblity\"]=assessments[\"Assessment Type\"].apply(lambda x: susceptibility[x])\n",
    "\n",
    "\n",
    "    assessment_total=assessments.groupby(by=\"Assessment Type\", as_index=False).sum()\n",
    "\n",
    "    if scaled==True:\n",
    "        assessment_scale=\"Scaled % of Final Grade\"\n",
    "    else:\n",
    "        assessment_scale=\"% of Final Grade\"\n",
    "        \n",
    "        \n",
    "    total=assessment_total[assessment_scale].sum()\n",
    "\n",
    "    assessment_total[\"% of Assessment\"]=assessment_total[assessment_scale].apply(lambda x: x/total)\n",
    "    assessment_total[\"Assessment Type\"]=assessment_total[\"Assessment Type\"].cat.add_categories(\"Assessments worth <2%\")\n",
    "    assessment_total.loc[assessment_total[\"% of Assessment\"] < 0.02, \"Assessment Type\"] = \"Assessments worth <2%\"\n",
    "\n",
    "\n",
    "    assessment_total[\"Assessment Type\"]=assessment_total[\"Assessment Type\"].cat.remove_unused_categories()\n",
    "\n",
    "    filtered_asses=assessment_total.groupby(by=\"Assessment Type\").sum()\n",
    "    filtered_asses[\"Susceptiblity\"]=filtered_asses.index.map(lambda x: susceptibility[x])\n",
    "\n",
    "    sorted_totals=filtered_asses.sort_values(by=\"% of Assessment\", ascending=False)\n",
    "\n",
    "    fig, ax=plt.subplots(figsize=(15,12))\n",
    "\n",
    "    #exploded=[0.03, 0, 0.03, 0.03, 0, 0.03, 0.03, 0.03, 0, 0, 0]\n",
    "    ax.pie(sorted_totals[\"% of Assessment\"], wedgeprops = { 'linewidth' : 0.5, 'edgecolor' : 'grey' }, \\\n",
    "           autopct=\"%1.1f%%\", labels=sorted_totals.index, \\\n",
    "           colors=[\"gold\",\"mediumseagreen\", \\\n",
    "    \"gold\", \"gold\", \"mediumseagreen\",  \"gold\", \"gold\", \"gold\", \"mediumseagreen\",\\\n",
    "                                                              \"mediumseagreen\", \"mediumseagreen\", \"mediumseagreen\"])\n",
    "\n",
    "#my_circle=ax.Circle( (0,0), 0.7, color='white')\n",
    "#p=ax.gcf()\n",
    "\n",
    "    what=\"College of Engineering and Architecture\"\n",
    "    if school != None:\n",
    "        what=school\n",
    "    if level != None:\n",
    "        what+= \"At Level %d\" %level\n",
    "        \n",
    "    ax.set_title(\"Assessment Percentage of Total in the %s\" %what, fontsize=20)"
   ]
  },
  {
   "cell_type": "code",
   "execution_count": null,
   "id": "615542b3",
   "metadata": {},
   "outputs": [],
   "source": [
    "def pie_filtered(school=None, level=None, givenList=None, scaled=True):\n",
    "    assessments, descriptors = file_finder(school=school, level=level, givenList=None)\n",
    "    \n",
    "    assessment_total_pie(assessments, scaled, school, level, givenList)"
   ]
  },
  {
   "cell_type": "code",
   "execution_count": null,
   "id": "91c95d91",
   "metadata": {},
   "outputs": [],
   "source": [
    "pie_filtered()"
   ]
  },
  {
   "cell_type": "code",
   "execution_count": null,
   "id": "fc121e67",
   "metadata": {},
   "outputs": [],
   "source": [
    "pie_filtered(school=\"Electrical & Electronic Eng\")"
   ]
  },
  {
   "cell_type": "code",
   "execution_count": null,
   "id": "dc881eac",
   "metadata": {},
   "outputs": [],
   "source": [
    "pie_filtered(school=\"Electrical & Electronic Eng\", scaled=False)"
   ]
  },
  {
   "cell_type": "code",
   "execution_count": null,
   "id": "4ba39ff3",
   "metadata": {},
   "outputs": [],
   "source": [
    "def susceptibilty_pie(assessments, scaled=True, school=None, level=None, givenList=None, filename=None):\n",
    "    assessments=assessments[[\"Assessment Type\", \"% of Final Grade\", \"Scaled % of Final Grade\"]]\n",
    "\n",
    "    #This is the dataset cleaning, so that they are ready for presentation\n",
    "    assessments[\"% of Final Grade\"]=pd.to_numeric(assessments[\"% of Final Grade\"], errors='coerce')\n",
    "    assessments=assessments.replace(\"Multiple Choice Questionnaire (Short)\", \"Multiple Choice Questionnaire\")\n",
    "    assessments=assessments.dropna()\n",
    "    assessments[\"Assessment Type\"]=assessments[\"Assessment Type\"].astype(\"category\")\n",
    "    assessments[\"Susceptibility\"]=assessments[\"Assessment Type\"].apply(lambda x: susceptibility[x])\n",
    "\n",
    "\n",
    "    #For the pie chart, group by susceptibilty\n",
    "    assessment_sus=assessments.groupby(by=\"Susceptibility\").sum()\n",
    "    #For the bar chart, group by assessment type\n",
    "    assessment_total=assessments.groupby(by=\"Assessment Type\").sum()\n",
    "\n",
    "    if scaled==True:\n",
    "        assessment_scale=\"Scaled % of Final Grade\"\n",
    "    else:\n",
    "        assessment_scale=\"% of Final Grade\"\n",
    "        \n",
    "        \n",
    "    total=assessment_sus[assessment_scale].sum()\n",
    "\n",
    "    #Get the percentage of assessments overall for both graphs\n",
    "    assessment_sus[\"% of Assessment\"]=assessment_sus[assessment_scale].apply(lambda x: x/total)\n",
    "    assessment_total[\"% of Assessment\"]=assessment_total[assessment_scale].apply(lambda x: x/total)\n",
    "    #assessment_sus[\"Assessment Type\"]=assessment_sus[\"Assessment Type\"].cat.add_categories(\"Assessments worth <2%\")\n",
    "    #assessment_sus.loc[assessment_sus[\"% of Assessment\"] < 0.02, \"Assessment Type\"] = \"Assessments worth <2%\"\n",
    "\n",
    "\n",
    "    #assessment_total[\"Assessment Type\"]=assessment_total[\"Assessment Type\"].cat.remove_unused_categories()\n",
    "\n",
    "    #filtered_asses=assessment_sus.groupby(by=\"Assessment Type\").sum()\n",
    "    assessment_total[\"Susceptiblity\"]=assessment_total.index.map(lambda x: susceptibility[x])\n",
    "\n",
    "    sorted_totals=assessment_total.sort_values(by=\"% of Assessment\", ascending=False)\n",
    "    sorted_totals[\"Susceptibility\"]=sorted_totals.index.map(lambda x: susceptibility[x])\n",
    "\n",
    "    fig, (ax, bx)=plt.subplots(nrows=2, figsize=(15,14))\n",
    "\n",
    "    #exploded=[0.03, 0, 0.03, 0.03, 0, 0.03, 0.03, 0.03, 0, 0, 0]\n",
    "    ax.pie(assessment_sus[\"% of Assessment\"], wedgeprops = { 'linewidth' : 0.5, 'edgecolor' : 'darkgrey' }, \\\n",
    "           autopct=\"%1.1f%%\", labels=assessment_sus.index, hatch=['/', None] ,\\\n",
    "           colors=[\"lightgrey\", \"gold\"], textprops={'fontsize':18})\n",
    "\n",
    "    \n",
    "    ax.set_title(\"Percentage of Assessment Susceptible\", fontsize=20)\n",
    "    #These are for selecting colours and hatching for each bar chart\n",
    "    colour_dict={\"susceptible\":\"gold\", \"not susceptible\":\"lightgrey\"}\n",
    "    hatching_dict={\"susceptible\": None, \"not susceptible\":\"/\"}\n",
    "    colours=[]\n",
    "    hatching=[]\n",
    "    #Get the colours based on susceptibilty\n",
    "    for sus in sorted_totals[\"Susceptibility\"]:\n",
    "        colours.append(colour_dict[sus])\n",
    "        hatching.append(hatching_dict[sus])\n",
    "    \n",
    "    bx.bar(sorted_totals.index, sorted_totals[\"% of Assessment\"], edgecolor=\"darkgrey\", hatch = hatching ,\\\n",
    "           color=colours)\n",
    "    \n",
    "    #Set the options for the axes\n",
    "    bx.tick_params(axis='y', labelsize=16)\n",
    "    bx.tick_params(axis='x', rotation=90, labelsize=14)\n",
    "#ax.legend(fontsize=20)\n",
    "    #bx.set_xlabel(\"Assessment Type\", fontsize=18)\n",
    "    bx.set_ylabel(\"% of Assessment\",fontsize=18)\n",
    "#Add the date lines for context\n",
    "    bx.set_title(\"Assessment Type Percentage\", fontsize=20)\n",
    "    \n",
    "#my_circle=ax.Circle( (0,0), 0.7, color='white')\n",
    "#p=ax.gcf()\n",
    "\n",
    "    what=\" College of Engineering and Architecture\"\n",
    "    if school != None:\n",
    "        what=\" \"\n",
    "        what+=\"School of \"\n",
    "        what+=school\n",
    "    if level != None:\n",
    "        what+= \" At Level %d\" %level\n",
    "    if filename != None:\n",
    "        what=\"\".join([(\" \"+i if i.isupper() else i) for i in filename])\n",
    "        \n",
    "    fig.suptitle(\"Assessment Susceptibilty to ChatGPT in the%s\" %what, fontsize=20)"
   ]
  },
  {
   "cell_type": "code",
   "execution_count": null,
   "id": "7f3d89b2",
   "metadata": {},
   "outputs": [],
   "source": [
    "def susceptibility_graphs(school=None, level=None, givenList=None, scaled=True, filename=None):\n",
    "    assessments, descriptors = file_finder(school=school, level=level, givenList=givenList, filename=filename)\n",
    "    \n",
    "    susceptibilty_pie(assessments, scaled=scaled, school=school, level=level, givenList=givenList, filename=filename)"
   ]
  },
  {
   "cell_type": "code",
   "execution_count": null,
   "id": "5a1e35a1",
   "metadata": {},
   "outputs": [],
   "source": [
    "susceptibility_graphs()"
   ]
  },
  {
   "cell_type": "code",
   "execution_count": null,
   "id": "d83f4c70",
   "metadata": {},
   "outputs": [],
   "source": [
    "susceptibility_graphs(school=\"Electrical & Electronic Eng\", scaled=False)"
   ]
  },
  {
   "cell_type": "code",
   "execution_count": null,
   "id": "3441c812",
   "metadata": {},
   "outputs": [],
   "source": [
    "susceptibility_graphs(school=\"Architecture, Plan & Env Pol\", scaled=False)"
   ]
  },
  {
   "cell_type": "code",
   "execution_count": null,
   "id": "3d251280",
   "metadata": {},
   "outputs": [],
   "source": [
    "susceptibility_graphs(school=\"Architecture, Plan & Env Pol\", scaled=False)"
   ]
  },
  {
   "cell_type": "code",
   "execution_count": null,
   "id": "f02617d8",
   "metadata": {},
   "outputs": [],
   "source": [
    "susceptibility_graphs(filename=\"MechanicalPath\")"
   ]
  },
  {
   "cell_type": "code",
   "execution_count": null,
   "id": "c92ee9ce",
   "metadata": {},
   "outputs": [],
   "source": [
    "susceptibility_graphs(filename=\"ElectricalPath\")"
   ]
  },
  {
   "cell_type": "code",
   "execution_count": null,
   "id": "eb24fd2a",
   "metadata": {},
   "outputs": [],
   "source": []
  }
 ],
 "metadata": {
  "kernelspec": {
   "display_name": "Python 3 (ipykernel)",
   "language": "python",
   "name": "python3"
  },
  "language_info": {
   "codemirror_mode": {
    "name": "ipython",
    "version": 3
   },
   "file_extension": ".py",
   "mimetype": "text/x-python",
   "name": "python",
   "nbconvert_exporter": "python",
   "pygments_lexer": "ipython3",
   "version": "3.9.13"
  }
 },
 "nbformat": 4,
 "nbformat_minor": 5
}
