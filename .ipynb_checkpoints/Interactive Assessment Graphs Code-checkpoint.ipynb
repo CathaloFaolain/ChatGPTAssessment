{
 "cells": [
  {
   "cell_type": "markdown",
   "id": "c2ba658e",
   "metadata": {},
   "source": [
    "# Interactive Assessment Graphs\n",
    "To make the findings of our module assessment information breakdown easier, we have proposed an interactive graphing tool for ease of use in finding the difference between schools, level and modules. This Jupyter Notebook is for testing and development of said tool."
   ]
  },
  {
   "cell_type": "code",
   "execution_count": 1,
   "id": "edf16a43",
   "metadata": {},
   "outputs": [],
   "source": [
    "import pandas as pd\n",
    "import numpy as np\n",
    "import seaborn as sns\n",
    "import matplotlib.pyplot as plt\n",
    "from bs4 import BeautifulSoup\n",
    "import re\n",
    "import pathlib as Path\n",
    "import html5lib\n",
    "import json\n",
    "import plotly.graph_objects as go\n",
    "import ipywidgets \n",
    "import plotly.express as px\n",
    "import warnings\n",
    "warnings.filterwarnings(\"ignore\")\n",
    "from IPython.display import display, clear_output\n",
    "from plotly.subplots import make_subplots\n",
    "import matplotlib.ticker as mtick"
   ]
  },
  {
   "cell_type": "code",
   "execution_count": 2,
   "id": "721042cd",
   "metadata": {},
   "outputs": [
    {
     "name": "stderr",
     "output_type": "stream",
     "text": [
      "Enabling notebook extension jupyter-js-widgets/extension...\n",
      "      - Validating: ok\n",
      "Enabling: voila\n",
      "- Writing config: C:\\Users\\catha\\anaconda3\\etc\\jupyter\n",
      "    - Validating...\n",
      "      voila 0.4.0 ok\n"
     ]
    }
   ],
   "source": [
    "!jupyter nbextension enable --py widgetsnbextension --sys-prefix\n",
    "!jupyter serverextension enable voila --sys-prefix"
   ]
  },
  {
   "cell_type": "code",
   "execution_count": 3,
   "id": "9a7abc72",
   "metadata": {},
   "outputs": [],
   "source": [
    "#This finds files that were saved by the Module Scraper Code\n",
    "def file_finder(school=None, level=None, givenList=None, filename=None, module=None):\n",
    "    #Set the path to the overall directory with our input files\n",
    "    dir_raw=Path.Path(\"ModuleInformation\")\n",
    "    \n",
    "    #This locates the subdirectory where files by school, level or list can be found\n",
    "    subdirectory=\"\"\n",
    "    #Set the subdirectory \n",
    "    if level != None:\n",
    "        subdirectory+= \"Level=%d\" %(level)\n",
    "    if school != None:\n",
    "        subdirectory+= \"_School=\"+school.replace(\" \", \"-\")\n",
    "    if filename != None:\n",
    "        subdirectory = filename\n",
    "    if module != None:\n",
    "        subdirectory = (\"IndividualModules/%s\" %module)\n",
    "        \n",
    "    #If a subdirectory has indeed been set, change the path to reflect this\n",
    "    if len(subdirectory) > 0:\n",
    "        dir_raw =dir_raw / subdirectory\n",
    "        \n",
    "\n",
    "    #Read the files for the assessment and descriptors in, closing the file immediately after\n",
    "    with open(dir_raw / \"assessments.json\", 'r') as infile:\n",
    "        #print(\"Reading from %s\" % dir_raw)\n",
    "        if module != None:\n",
    "            assessments=pd.read_json(infile, orient=\"columns\")\n",
    "        else:\n",
    "            assessments=pd.read_json(infile)\n",
    "    with open(dir_raw / \"descriptors.json\", 'r') as infile:\n",
    "        #print(\"Reading from %s\" % dir_raw)\n",
    "        if module != None:\n",
    "            descriptors=pd.read_json(infile, typ=\"series\")\n",
    "        else:\n",
    "            descriptors=pd.read_json(infile)\n",
    "\n",
    "    assessments[\"Level\"]=assessments[\"Level\"].apply(lambda x: pd.to_numeric(x.split('(')[0], errors='ignore'))\n",
    "    #This is the dataset cleaning, so that they are ready for presentation\n",
    "    assessments[\"% of Final Grade\"]=pd.to_numeric(assessments[\"% of Final Grade\"], errors='coerce')\n",
    "    assessments=assessments.replace(\"Multiple Choice Questionnaire (Short)\", \"Multiple Choice Questionnaire\")\n",
    "    assessments[\"Assessment Type\"]=assessments[\"Assessment Type\"].astype(\"category\")\n",
    "    assessments[\"Student Credits\"]=((assessments[\"Scaled % of Final Grade\"]/100)*5)*assessments[\"Enrolled Students 22/23\"]\n",
    "    assessments[\"Assessment Credits\"]=((assessments[\"Scaled % of Final Grade\"]/100)*5)\n",
    "    #Return the desired assessment and description information\n",
    "    return assessments, descriptors"
   ]
  },
  {
   "cell_type": "code",
   "execution_count": 4,
   "id": "72b52322",
   "metadata": {},
   "outputs": [],
   "source": [
    "susceptibility={\"Assignment\" :\"susceptible\", \\\n",
    "                \"Attendance\": \"not susceptible\", \\\n",
    "                \"Class Test\" : \"not susceptible\", \\\n",
    "                \"Continuous Assessment\": \"susceptible\", \\\n",
    "               \"Essay\": \"susceptible\", \\\n",
    "                \"Examination\": \"not susceptible\", \\\n",
    "                \"Fieldwork\": \"not susceptible\", \\\n",
    "                \"Group Project\": \"susceptible\", \\\n",
    "                \"Journal\": \"not susceptible\",\\\n",
    "               \"Lab Report\": \"not susceptible\", \\\n",
    "                \"Multiple Choice Questionnaire\": \"not susceptible\", \\\n",
    "                \"Oral Examination\": \"not susceptible\", \\\n",
    "               \"Portfolio\" : \"susceptible\",  \\\n",
    "                \"Practical Examination\": \"not susceptible\", \\\n",
    "                \"Presentation\" : \"not susceptible\", \\\n",
    "                \"Project\": \"susceptible\", \\\n",
    "               \"Seminar\": \"not susceptible\", \\\n",
    "               \"Studio Examination\" : \"not susceptible\",\\\n",
    "               \"Assessments worth <2%\": \"not susceptible\"}"
   ]
  },
  {
   "cell_type": "code",
   "execution_count": 5,
   "id": "a4bef8e1",
   "metadata": {},
   "outputs": [],
   "source": [
    "work_type={\"Assignment\" :\"At home\", \\\n",
    "                \"Attendance\": \"In person\", \\\n",
    "                \"Class Test\" : \"In person\", \\\n",
    "                \"Continuous Assessment\": \"At home\", \\\n",
    "               \"Essay\": \"At home\", \\\n",
    "                \"Examination\": \"In person\", \\\n",
    "                \"Fieldwork\": \"In person\", \\\n",
    "                \"Group Project\": \"Blended\", \\\n",
    "                \"Journal\": \"Blended\",\\\n",
    "               \"Lab Report\": \"Blended\", \\\n",
    "                \"Multiple Choice Questionnaire\": \"Blended\", \\\n",
    "                \"Oral Examination\": \"In person\", \\\n",
    "               \"Portfolio\" : \"Blended\",  \\\n",
    "                \"Practical Examination\": \"In person\", \\\n",
    "                \"Presentation\" : \"In person\", \\\n",
    "                \"Project\": \"At home\", \\\n",
    "               \"Seminar\": \"In person\", \\\n",
    "               \"Studio Examination\" : \"In person\",\\\n",
    "               \"Assessments worth <2%\": \"Unknown\"}"
   ]
  },
  {
   "cell_type": "code",
   "execution_count": 6,
   "id": "3f2e741c",
   "metadata": {},
   "outputs": [],
   "source": [
    "#Test the file finder function \n",
    "assessments, descriptors = file_finder()\n",
    "\n",
    "#Builds a graph to indicate the susceptibility of a module set's assessments to Chat GPT\n",
    "def workType_builder(Weighted=True, School=\"All\", Level=0, module=\"\", Path=None, time=False,\\\n",
    "                     student_credits=False, with_internships=True):\n",
    "    ################################################################################\n",
    "    work_type={\"Assignment\" :\"At home\", \\\n",
    "                \"Attendance\": \"In person\", \\\n",
    "                \"Class Test\" : \"In person\", \\\n",
    "                \"Continuous Assessment\": \"At home\", \\\n",
    "               \"Essay\": \"At home\", \\\n",
    "                \"Examination\": \"In person\", \\\n",
    "                \"Fieldwork\": \"In person\", \\\n",
    "                \"Group Project\": \"Blended\", \\\n",
    "                \"Journal\": \"Blended\",\\\n",
    "               \"Lab Report\": \"Blended\", \\\n",
    "                \"Multiple Choice Questionnaire\": \"Blended\", \\\n",
    "                \"Oral Examination\": \"In person\", \\\n",
    "               \"Portfolio\" : \"Blended\",  \\\n",
    "                \"Practical Examination\": \"In person\", \\\n",
    "                \"Presentation\" : \"In person\", \\\n",
    "                \"Project\": \"At home\", \\\n",
    "               \"Seminar\": \"In person\", \\\n",
    "               \"Studio Examination\" : \"In person\",\\\n",
    "               \"Assessments worth <2%\": \"Unknown\"}\n",
    "    #################################################################################\n",
    "    \n",
    "    new_assessments=assessments\n",
    "    \n",
    "\n",
    "    if Path != None:\n",
    "        path=Path.replace(\" \", \"\")\n",
    "        new_assessments, descriptors = file_finder(filename=path)\n",
    "    if with_internships != True:\n",
    "        internship_file= \"Datasets/UCD_EngArch_InternshipModules.xlsx\"\n",
    "        internships=pd.read_excel(internship_file)\n",
    "\n",
    "        new_assessments=new_assessments[~new_assessments[\"Module Code\"].isin(internships[\"Code\"])]\n",
    "        \n",
    "    #First we will need to filter the dataset as desired\n",
    "    if School != \"All\":\n",
    "        new_assessments=new_assessments[new_assessments[\"School\"]==School]\n",
    "    if Level != 0:\n",
    "        new_assessments=new_assessments[new_assessments[\"Level\"]==Level]\n",
    "    if len(module) > 0:\n",
    "        new_assessments=new_assessments[new_assessments[\"Module Code\"]==module]\n",
    "        \n",
    "    if len(new_assessments)==0:\n",
    "        print(\"***********ERROR: No modules found with given parameters*************\")\n",
    "        \n",
    "    num_unique=len(new_assessments[\"Module Code\"].unique())\n",
    "    \n",
    "    #Data Cleaning and Manipulation Part\n",
    "    #########################################################################################\n",
    "    #First we will reduce the assessments dataframe to just the columns we require here.\n",
    "\n",
    "    #For the pie chart, group by susceptibilty\n",
    "    assessment_sus=new_assessments.groupby(by=\"Work Type\").sum()\n",
    "    #For the bar chart, group by assessment type\n",
    "    assessment_total=new_assessments.groupby(by=\"Assessment Type\").sum()\n",
    "\n",
    "    #Choose whether or not you want to scale by credits, or take all modules to be equal, regardless of credits\n",
    "    if student_credits==True:\n",
    "        assessment_scale=\"Student Credits\"\n",
    "    elif Weighted==True:\n",
    "        assessment_scale=\"Scaled % of Final Grade\"\n",
    "    else:\n",
    "        assessment_scale=\"% of Final Grade\"\n",
    "        \n",
    "        \n",
    "    total=assessment_sus[assessment_scale].sum()\n",
    "\n",
    "    #Get the percentage each assessment type makes up of the overall for both graphs\n",
    "    assessment_sus[\"% of Assessment\"]=assessment_sus[assessment_scale].apply(lambda x: x/total)\n",
    "    assessment_total[\"% of Assessment\"]=assessment_total[assessment_scale].apply(lambda x: x/total)\n",
    "\n",
    "    #The groupby function removed the categorical \"Susceptibility\" column. Bring it back\n",
    "    assessment_total[\"Work Type\"]=assessment_total.index.map(lambda x: work_type[x])\n",
    "\n",
    "    #Sort the totals into descending order, to make it easier to see\n",
    "    sorted_totals=assessment_total.sort_values(by=\"% of Assessment\", ascending=False)\n",
    "    #The groupby function removed the categorical \"Susceptibility\" column. Bring it back\n",
    "    sorted_totals[\"Work Type\"]=sorted_totals.index.map(lambda x: work_type[x])\n",
    "\n",
    "    #Graph building part\n",
    "    #############################################################################################################\n",
    "    #Set the font\n",
    "    plt.rcParams[\"font.family\"] = \"sans\"\n",
    "    \n",
    "    #Make the figure\n",
    "    fig, (ax, bx)=plt.subplots(ncols=2, figsize=(16, 9))\n",
    "\n",
    "    #Make a pie chart on the desired axes\n",
    "    if time == False:\n",
    "        fig, ax=workType_pie(assessment_sus, fig, ax, num_unique)\n",
    "    else:\n",
    "        stage=False\n",
    "        if Path != None:\n",
    "            stage=True\n",
    "        #Make the area level stacked chart\n",
    "        fig, ax=workType_stackedBar(new_assessments, fig, ax, stage=stage, student_credits=student_credits)\n",
    "        \n",
    "    #Make the horizontal bar chart on the desired axes\n",
    "    fig, bx=workType_barh(sorted_totals, fig, bx)\n",
    "    \n",
    "    #Here we want to set the overall title of the charts - to indicate what module subset they are describing\n",
    "    what=\"College of Engineering and Architecture\"\n",
    "    if School != 'All':\n",
    "        what=\"\"\n",
    "        what+=\"School of \"\n",
    "        what+=School\n",
    "    if Level != 0:\n",
    "        what+= \" At Level %d\" %Level\n",
    "    if Path != None:\n",
    "        what=\"\".join([(\" \"+i if i.isupper() else i) for i in Path])\n",
    "    if len(module) > 0:\n",
    "        what = module + \" Module\"\n",
    "    if not with_internships:\n",
    "        what = what + \" Excluding Internships\"\n",
    "    if not time: \n",
    "        what = what + \" Snapshot\"\n",
    "        \n",
    "    #Set the overall title for the two graphs\n",
    "    fig.suptitle(\"Assessment Breakdown in the %s\" %what, fontsize=24)\n",
    "    fig.tight_layout()\n"
   ]
  },
  {
   "cell_type": "code",
   "execution_count": 7,
   "id": "d659aa54",
   "metadata": {},
   "outputs": [],
   "source": [
    "def workType_pie(assessment_sus, fig, ax, num_unique=None):\n",
    "        #These are for selecting colours and hatching for each pie segment\n",
    "    colour_dict={\"At home\": \"#1f78b4\", \"Blended\": \"#a6cee3\", \"In person\":\"#b2df8a\"}\n",
    "    hatching_dict={\"At home\": None, \"Blended\": None, \"In person\":None}\n",
    "    colours=[]\n",
    "    hatching=[]\n",
    "    #Get the colours and hatching for each pie segment\n",
    "    for segment in assessment_sus.index:\n",
    "        colours.append(colour_dict[segment])\n",
    "        hatching.append(hatching_dict[segment])\n",
    "\n",
    "    #Make the susceptibility pie chart\n",
    "    ax.pie(assessment_sus[\"% of Assessment\"],\\\n",
    "           wedgeprops = { 'linewidth' : 1.5, 'edgecolor' : 'white', \"alpha\" : 0.9}, \\\n",
    "           autopct=\"%1.1f%%\", labels=assessment_sus.index, hatch=hatching ,\\\n",
    "           colors=colours, textprops={'fontsize':18})\n",
    "\n",
    "    #Set the title of the pie chart for ease of understanding\n",
    "    ax.set_title(\"Proportions of Different Assessment Kinds\", fontsize=20)\n",
    "    \n",
    "    if num_unique!=None:\n",
    "        ax.set_xlabel(\"\\n\\nNumber of Modules in this Breakdown: %d\" %(num_unique), fontsize=20)\n",
    "    \n",
    "    return fig, ax"
   ]
  },
  {
   "cell_type": "code",
   "execution_count": 8,
   "id": "5fb427da",
   "metadata": {},
   "outputs": [],
   "source": [
    "def workType_barh(sorted_totals, fig, bx):\n",
    "    #These are for selecting colours and hatching for each bar in the bar chart\n",
    "    colour_dict={\"At home\": \"#1f78b4\", \"Blended\": \"#a6cee3\", \"In person\":\"#b2df8a\"}\n",
    "    hatching_dict={\"At home\": None, \"Blended\": None, \"In person\":None}\n",
    "    colours=[]\n",
    "    hatching=[]\n",
    "    #Get the colours and hatching type based on susceptibilty\n",
    "    for sus in sorted_totals[\"Work Type\"]:\n",
    "        colours.append(colour_dict[sus])\n",
    "        hatching.append(hatching_dict[sus])\n",
    "        \n",
    "        \n",
    "    #Make the assessment type breakdown bar chart, with colour and hatching indicating the susceptibility\n",
    "    bx.barh(sorted_totals.index, sorted_totals[\"% of Assessment\"].apply(lambda x:x*100), edgecolor=\"white\", hatch = hatching ,\\\n",
    "           color=colours, alpha=0.9)\n",
    "    \n",
    "    #colors = {'fruit':'red', 'veggie':'green'}         \n",
    "    #Set the options for the axes\n",
    "    bx.tick_params(axis='y', labelsize=16)\n",
    "    bx.tick_params(axis='x', labelsize=14)\n",
    "    \n",
    "    fmt = '%d%%' # Format you want the ticks, e.g. '40%'\n",
    "    xticks = mtick.FormatStrFormatter(fmt)\n",
    "    bx.xaxis.set_major_formatter(xticks)\n",
    "    #ax.legend(fontsize=20)\n",
    "    bx.set_xlabel(\"Percentage of Assessment\",fontsize=18)\n",
    "    #Set the title for the bar chart for ease of understanding\n",
    "    bx.set_title(\"Assessment Type Breakdown\", fontsize=20)\n",
    "    \n",
    "    #Do the legend\n",
    "    labels = list(colour_dict.keys())\n",
    "    handles = [plt.Rectangle((0,0),1,1, color=colour_dict[label]) for label in labels]\n",
    "    bx.legend(handles, labels,fontsize=20)\n",
    "    \n",
    "    return fig, bx"
   ]
  },
  {
   "cell_type": "code",
   "execution_count": 9,
   "id": "c60c0847",
   "metadata": {},
   "outputs": [],
   "source": [
    "def workType_stackedBar(assessments, fig, ax, stage=False, student_credits=False):\n",
    "    #Choose whether or not you want to scale by credits, or take all modules to be equal, regardless of credits\n",
    "    if student_credits==True:\n",
    "        assessment_scale=\"Student Credits\"\n",
    "    else:\n",
    "        assessment_scale=\"Assessment Credits\"\n",
    "        \n",
    "    if stage==False:\n",
    "        time=\"Level\"\n",
    "    else:\n",
    "        time=\"Stage\"\n",
    "        \n",
    "    #assessments[time]=assessments[time].apply(lambda x: \"%d\" %x)\n",
    "    categories=np.array(assessments[time].unique())\n",
    "    \n",
    "    assessments[time]=pd.Categorical(assessments[time], categories=categories, ordered=True)\n",
    "    stackedbar=assessments.groupby(by=[\"Work Type\", time], as_index=False).sum()\n",
    "    \n",
    "    #stackedbar=stackedbar.fillna(\"0\")\n",
    "    #print(stackedbar)\n",
    "    \n",
    "    #These are for selecting colours and hatching for each area segment\n",
    "    colour_dict={\"At home\": \"#1f78b4\", \"Blended\": \"#a6cee3\", \"In person\":\"#b2df8a\"}\n",
    "    hatching_dict={\"At home\": None, \"Blended\": None, \"In person\":None}\n",
    "    colours=[]\n",
    "    Stackedwork={}\n",
    "\n",
    "    \n",
    "    #Get the colours and hatching for each area segment\n",
    "    for i, segment in enumerate(stackedbar[\"Work Type\"].unique().tolist()):\n",
    "        Stackedwork[segment]=stackedbar[stackedbar[\"Work Type\"] == segment][assessment_scale].reset_index(drop=True)\n",
    "        #print(Stackedwork[segment])\n",
    "        #try:\n",
    "        #    if (Stackedwork[segment].empty):\n",
    "        #        Stackedwork[segment]=[0]*len(assessments[time].unique().tolist())\n",
    "        #    else:\n",
    "        #        Stackedwork[segment].fillna(0)\n",
    "        #except:\n",
    "        #    if Stackedwork[segment] == None:\n",
    "        #        Stackedwork[segment]=[0]*len(assessments[time].unique().tolist())\n",
    "        #    elif None in Stacked[segement]:\n",
    "        #        index=Stacked[segement].index(None)\n",
    "        #        Stacked[segement][index]=0\n",
    "                                      \n",
    "        #Make sure there is no difference between the x value and the y\n",
    "        #diff=len(Stackedwork[segment])-len(assessments[time].unique().tolist())\n",
    "        #for i in range(diff):\n",
    "        #    print(\"Here\")\n",
    "        #    Stackedwork[segment][len(Stackedwork[segment])+1]=0.0\n",
    "            \n",
    "        if i ==0:\n",
    "            Totalwork=Stackedwork[segment]\n",
    "        else:\n",
    "            Totalwork=Totalwork+Stackedwork[segment]\n",
    "                                         \n",
    "                                         \n",
    "    #print(Totalwork)\n",
    "    #If any work type are not included in the stacked bar, add in a value for that segment of 0\n",
    "    for work in [\"At home\", \"Blended\", \"In person\"]: \n",
    "        if work not in Stackedwork.keys():\n",
    "                Stackedwork[work]=np.zeros(len(assessments[time].unique().tolist()))\n",
    "\n",
    "            \n",
    " \n",
    "    ax.bar([\"{}\".format(level) for level in assessments[time].unique().tolist()],\\\n",
    "        (Stackedwork[\"At home\"]), color=colour_dict[\"At home\"])\n",
    "        \n",
    "    ax.bar([\"{}\".format(level) for level in assessments[time].unique().tolist()],\\\n",
    "           (Stackedwork[\"Blended\"]), \\\n",
    "           bottom=(Stackedwork[\"At home\"]), color=colour_dict[\"Blended\"])\n",
    "    \n",
    "    ax.bar([\"{}\".format(level) for level in assessments[time].unique().tolist()],\\\n",
    "           (Stackedwork[\"In person\"]), \\\n",
    "           bottom=(Stackedwork[\"Blended\"])+(Stackedwork[\"At home\"]), color=colour_dict[\"In person\"])\n",
    "\n",
    "    # Add percentages as labels to the stacked bars\n",
    "    for idx in assessments[time].unique().tolist():\n",
    "        start = 0\n",
    "        for work in [\"At home\", \"Blended\", \"In person\"]:\n",
    "            y=Stackedwork[work][idx-1]\n",
    "            value = Stackedwork[work][idx-1]\n",
    "            total = Totalwork[idx-1]\n",
    "            if  y/max(Totalwork)> .05 :\n",
    "                ax.text(\n",
    "                x=idx-1,\n",
    "                y=start + y / 2,\n",
    "                s=f\"{round(100 * value / total, 1)}%\",\n",
    "                fontsize=16,\n",
    "                ha=\"center\"\n",
    "                )\n",
    "            start += y\n",
    "            \n",
    "    #Set the options for the axes\n",
    "    ax.tick_params(axis='y', labelsize=16)\n",
    "    ax.tick_params(axis='x', labelsize=16)\n",
    "    \n",
    "    #ax.legend(fontsize=20)\n",
    "    ax.set_ylabel(\"Taught Student Credits\",fontsize=18)\n",
    "    ax.set_xlabel(\"%s\" %time,fontsize=18)\n",
    "    #ax.legend([\"At home\", \"Hybrid\", \"In person\"],fontsize=20)\n",
    "    #Set the title for the bar chart for ease of understanding\n",
    "    ax.set_title(\"Assessment Proportions over %s\" %time , fontsize=20)\n",
    "    \n",
    "    return fig, ax"
   ]
  },
  {
   "cell_type": "code",
   "execution_count": 10,
   "id": "714c5e05",
   "metadata": {
    "scrolled": false
   },
   "outputs": [
    {
     "data": {
      "application/vnd.jupyter.widget-view+json": {
       "model_id": "2a027f9420844c9a939e7c40cf22b912",
       "version_major": 2,
       "version_minor": 0
      },
      "text/plain": [
       "interactive(children=(Checkbox(value=True, description='Weighted'), Dropdown(description='School', index=6, op…"
      ]
     },
     "metadata": {},
     "output_type": "display_data"
    },
    {
     "data": {
      "text/plain": [
       "<function __main__.workType_builder(Weighted=True, School='All', Level=0, module='', Path=None, time=False, student_credits=False, with_internships=True)>"
      ]
     },
     "execution_count": 10,
     "metadata": {},
     "output_type": "execute_result"
    }
   ],
   "source": [
    "school_list=assessments[\"School\"].unique().tolist()\n",
    "school_list.append(\"All\")\n",
    "\n",
    "module_list=assessments[\"Module Code\"].unique().tolist()\n",
    "module_list.append(\"\")\n",
    "\n",
    "dir_raw= Path.Path(\"ModuleInformation\")\n",
    "\n",
    "path_list=[]\n",
    "for file in dir_raw.glob(\"*\"):\n",
    "    if \"Path\" in str(file):\n",
    "        filename=\"\".join([(\" \"+i if i.isupper() else i) for i in str(file)])\n",
    "        filename= filename.split('\\\\')[1]\n",
    "        path_list.append(filename)\n",
    "\n",
    "path_list.append(None)\n",
    "\n",
    "\n",
    "moduleGetter=ipywidgets.Combobox(\n",
    "    # value='John',\n",
    "    placeholder='Enter Module Code',\n",
    "    options=module_list,\n",
    "    description='Module:',\n",
    "    ensure_option=True,\n",
    ")\n",
    "\n",
    "ipywidgets.interact_manual(workType_builder, School=school_list, Level=(0, 5, 1), module=moduleGetter, Path=path_list)"
   ]
  },
  {
   "cell_type": "code",
   "execution_count": 22,
   "id": "d219e76a",
   "metadata": {},
   "outputs": [],
   "source": [
    "#Builds a graph to indicate the susceptibility of a module set's assessments to Chat GPT\n",
    "def workType_plotly(Weighted=True, School=\"All\", Level=0, module=\"\", Path=None):\n",
    "    ################################################################################\n",
    "    work_type={\"Assignment\" :\"At home\", \\\n",
    "                \"Attendance\": \"In person\", \\\n",
    "                \"Class Test\" : \"In person\", \\\n",
    "                \"Continuous Assessment\": \"At home\", \\\n",
    "               \"Essay\": \"At home\", \\\n",
    "                \"Examination\": \"In person\", \\\n",
    "                \"Fieldwork\": \"In person\", \\\n",
    "                \"Group Project\": \"Blended\", \\\n",
    "                \"Journal\": \"Blended\",\\\n",
    "               \"Lab Report\": \"Blended\", \\\n",
    "                \"Multiple Choice Questionnaire\": \"Blended\", \\\n",
    "                \"Oral Examination\": \"In person\", \\\n",
    "               \"Portfolio\" : \"Blended\",  \\\n",
    "                \"Practical Examination\": \"In person\", \\\n",
    "                \"Presentation\" : \"In person\", \\\n",
    "                \"Project\": \"At home\", \\\n",
    "               \"Seminar\": \"In person\", \\\n",
    "               \"Studio Examination\" : \"In person\",\\\n",
    "               \"Assessments worth <2%\": \"Unknown\"}\n",
    "    #################################################################################\n",
    "    \n",
    "    new_assessments=assessments\n",
    "    if Path != None:\n",
    "        path=Path.replace(\" \", \"\")\n",
    "        new_assessments, descriptors = file_finder(filename=path)\n",
    "        \n",
    "    #First we will need to filter the dataset as desired\n",
    "    if School != \"All\":\n",
    "        new_assessments=new_assessments[new_assessments[\"School\"]==School]\n",
    "    if Level != 0:\n",
    "        new_assessments=new_assessments[new_assessments[\"Level\"]==Level]\n",
    "    if len(module) > 0:\n",
    "        new_assessments=new_assessments[new_assessments[\"Module Code\"]==module]\n",
    "        \n",
    "    if len(new_assessments)==0:\n",
    "        print(\"***********ERROR: No modules found with given parameters*************\")\n",
    "        \n",
    "    num_unique=len(new_assessments[\"Module Code\"].unique())\n",
    "    \n",
    "    #Data Cleaning and Manipulation Part\n",
    "    #########################################################################################\n",
    "    #First we will reduce the assessments dataframe to just the columns we require here.\n",
    "    new_assessments=new_assessments[[\"Assessment Type\", \"% of Final Grade\", \"Scaled % of Final Grade\", \"Work Type\"]]\n",
    "\n",
    "    #For the pie chart, group by susceptibilty\n",
    "    assessment_sus=new_assessments.groupby(by=\"Work Type\").sum()\n",
    "    #For the bar chart, group by assessment type\n",
    "    assessment_total=new_assessments.groupby(by=\"Assessment Type\").sum()\n",
    "\n",
    "    #Choose whether or not you want to scale by credits, or take all modules to be equal, regardless of credits\n",
    "    if Weighted==True:\n",
    "        assessment_scale=\"Scaled % of Final Grade\"\n",
    "    else:\n",
    "        assessment_scale=\"% of Final Grade\"\n",
    "        \n",
    "    total=assessment_sus[assessment_scale].sum()\n",
    "\n",
    "    #Get the percentage each assessment type makes up of the overall for both graphs\n",
    "    assessment_sus[\"% of Assessment\"]=assessment_sus[assessment_scale].apply(lambda x: x/total)\n",
    "    assessment_total[\"% of Assessment\"]=assessment_total[assessment_scale].apply(lambda x: x/total)\n",
    "\n",
    "    #The groupby function removed the categorical \"Susceptibility\" column. Bring it back\n",
    "    assessment_total[\"Work Type\"]=assessment_total.index.map(lambda x: work_type[x])\n",
    "\n",
    "    #Sort the totals into descending order, to make it easier to see\n",
    "    sorted_totals=assessment_total.sort_values(by=\"% of Assessment\", ascending=False)\n",
    "    #The groupby function removed the categorical \"Susceptibility\" column. Bring it back\n",
    "    sorted_totals[\"Work Type\"]=sorted_totals.index.map(lambda x: work_type[x])\n",
    "\n",
    "    #Graph building part\n",
    "    #############################################################################################################\n",
    "    #Make the figure with subplots\n",
    "    fig= make_subplots(\n",
    "    cols=2,\n",
    "    column_widths=[0.5, 0.5],\n",
    "    specs=[[{\"type\": \"pie\"}, {\"type\": \"bar\"}]])\n",
    "\n",
    "    #These are for selecting colours and hatching for each pie segment\n",
    "    colour_dict={\"At home\": \"#1f78b4\", \"Blended\": \"#a6cee3\", \"In person\":\"#b2df8a\"}\n",
    "\n",
    "    colours=[]\n",
    "    #Get the colours and hatching for each pie segment\n",
    "    for segment in assessment_sus.index:\n",
    "        colours.append(colour_dict[segment])\n",
    "\n",
    "    #Build the plotly bar chart trace\n",
    "           # Add locations bar chart\n",
    "    # Add scattergeo globe map of volcano locations\n",
    "    fig.add_trace(\n",
    "    go.Pie(values=assessment_sus[\"% of Assessment\"],\n",
    "            labels=assessment_sus.index,\n",
    "           marker=dict(colors=colours),\n",
    "           #pattern=dict(shape=hatching),\n",
    "            showlegend=True),\n",
    "    row=1, col=1\n",
    "    )\n",
    "    #Make the susceptibility pie chart\n",
    "    #ax.pie(assessment_sus[\"% of Assessment\"], wedgeprops = { 'linewidth' : 1.5, 'edgecolor' : 'white' }, \\\n",
    "     #      autopct=\"%1.1f%%\", labels=assessment_sus.index, hatch=hatching ,\\\n",
    "     #      colors=colours, textprops={'fontsize':18})\n",
    "\n",
    "    #Set the title of the pie chart for ease of understanding\n",
    "    #ax.set_title(\"Proportions of Different Assessment Kinds\", fontsize=20)\n",
    "    #ax.set_xlabel(\"\\n\\nNumber of Modules in this Breakdown: %d\" %(num_unique), fontsize=20)\n",
    "    #These are for selecting colours and hatching for each bar in the bar chart\n",
    "    colour_dict={\"At home\": \"#1f78b4\", \"Blended\": \"#a6cee3\", \"In person\":\"#b2df8a\"}\n",
    "    colours=[]\n",
    "\n",
    "    #Get the colours and hatching type based on susceptibilty\n",
    "    for sus in sorted_totals[\"Work Type\"]:\n",
    "        colours.append(colour_dict[sus])\n",
    "\n",
    "        \n",
    "    fig.add_trace(\n",
    "    go.Bar(x=sorted_totals.index,y=sorted_totals[\"% of Assessment\"].apply(lambda x: x*100),\\\n",
    "            marker=dict(color=colours),\n",
    "           #color=sorted_totals[\"Work Type\"],\n",
    "           #legendgroup=\"Work Type\",\n",
    "           showlegend=False, orientation='v'),\n",
    "    row=1, col=2\n",
    "    )\n",
    "    #fig.update_trace(marker_color=colours)\n",
    "    #Make the assessment type breakdown bar chart, with colour and hatching indicating the susceptibility\n",
    "    #bx.barh(sorted_totals.index, sorted_totals[\"% of Assessment\"].apply(lambda x:x*100), edgecolor=\"white\", hatch = hatching ,\\\n",
    "     #color=colours)\n",
    "    \n",
    "    #Set the options for the axes\n",
    "    #bx.tick_params(axis='y', labelsize=16)\n",
    "    #bx.tick_params(axis='x', labelsize=14)\n",
    "    #ax.legend(fontsize=20)\n",
    "    #bx.set_xlabel(\"% of Assessment\",fontsize=18)\n",
    "    #Set the title for the bar chart for ease of understanding\n",
    "    #bx.set_title(\"Assessment Type Breakdown\", fontsize=20)\n",
    "    \n",
    "\n",
    "    #Here we want to set the overall title of the charts - to indicate what module subset they are describing\n",
    "    what=\"College of Engineering and Architecture\"\n",
    "    if Path != None:\n",
    "        what= Path\n",
    "    if School != 'All':\n",
    "        what=\"\"\n",
    "        what+=\"School of \"\n",
    "        what+=School\n",
    "    if Level != 0:\n",
    "        what+= \" At Level %d\" %Level\n",
    "    if len(module) > 0:\n",
    "        what = module + \" Module\"\n",
    "        \n",
    "    #Set the overall title for the two graphs\n",
    "    #fig.suptitle(\"Assessment Breakdown in the %s\" %what, fontsize=24)\n",
    "    #fig.tight_layout()\n",
    "           \n",
    "    fig.show()"
   ]
  },
  {
   "cell_type": "code",
   "execution_count": 23,
   "id": "c7b31b7d",
   "metadata": {},
   "outputs": [
    {
     "data": {
      "application/vnd.plotly.v1+json": {
       "config": {
        "plotlyServerURL": "https://plot.ly"
       },
       "data": [
        {
         "domain": {
          "x": [
           0,
           0.45
          ],
          "y": [
           0,
           1
          ]
         },
         "labels": [
          "At home",
          "Blended",
          "In person"
         ],
         "marker": {
          "colors": [
           "#1f78b4",
           "#a6cee3",
           "#b2df8a"
          ]
         },
         "showlegend": true,
         "type": "pie",
         "values": [
          0.6194581678452646,
          0.13121723874412047,
          0.24932459341061491
         ]
        },
        {
         "marker": {
          "color": [
           "#1f78b4",
           "#1f78b4",
           "#1f78b4",
           "#b2df8a",
           "#a6cee3",
           "#b2df8a",
           "#b2df8a",
           "#1f78b4",
           "#a6cee3",
           "#a6cee3",
           "#b2df8a",
           "#a6cee3",
           "#b2df8a",
           "#a6cee3",
           "#b2df8a",
           "#b2df8a",
           "#b2df8a",
           "#b2df8a"
          ]
         },
         "orientation": "v",
         "showlegend": false,
         "type": "bar",
         "x": [
          "Assignment",
          "Project",
          "Continuous Assessment",
          "Examination",
          "Portfolio",
          "Presentation",
          "Oral Examination",
          "Essay",
          "Group Project",
          "Journal",
          "Fieldwork",
          "Lab Report",
          "Class Test",
          "Multiple Choice Questionnaire",
          "Attendance",
          "Studio Examination",
          "Seminar",
          "Practical Examination"
         ],
         "xaxis": "x",
         "y": [
          23.956214278794924,
          19.304250487046186,
          12.464076980206013,
          11.303776895174744,
          4.811262875779005,
          4.768209069284338,
          4.332289278525837,
          4.25694511716017,
          4.07289009439547,
          2.4863573250670026,
          2.2387979377226688,
          1.8383975373222685,
          1.758747995307135,
          0.7577469943061341,
          0.7297620200846008,
          0.6565705490436673,
          0.21526903247333354,
          0.04843553230650005
         ],
         "yaxis": "y"
        }
       ],
       "layout": {
        "template": {
         "data": {
          "bar": [
           {
            "error_x": {
             "color": "#2a3f5f"
            },
            "error_y": {
             "color": "#2a3f5f"
            },
            "marker": {
             "line": {
              "color": "#E5ECF6",
              "width": 0.5
             },
             "pattern": {
              "fillmode": "overlay",
              "size": 10,
              "solidity": 0.2
             }
            },
            "type": "bar"
           }
          ],
          "barpolar": [
           {
            "marker": {
             "line": {
              "color": "#E5ECF6",
              "width": 0.5
             },
             "pattern": {
              "fillmode": "overlay",
              "size": 10,
              "solidity": 0.2
             }
            },
            "type": "barpolar"
           }
          ],
          "carpet": [
           {
            "aaxis": {
             "endlinecolor": "#2a3f5f",
             "gridcolor": "white",
             "linecolor": "white",
             "minorgridcolor": "white",
             "startlinecolor": "#2a3f5f"
            },
            "baxis": {
             "endlinecolor": "#2a3f5f",
             "gridcolor": "white",
             "linecolor": "white",
             "minorgridcolor": "white",
             "startlinecolor": "#2a3f5f"
            },
            "type": "carpet"
           }
          ],
          "choropleth": [
           {
            "colorbar": {
             "outlinewidth": 0,
             "ticks": ""
            },
            "type": "choropleth"
           }
          ],
          "contour": [
           {
            "colorbar": {
             "outlinewidth": 0,
             "ticks": ""
            },
            "colorscale": [
             [
              0,
              "#0d0887"
             ],
             [
              0.1111111111111111,
              "#46039f"
             ],
             [
              0.2222222222222222,
              "#7201a8"
             ],
             [
              0.3333333333333333,
              "#9c179e"
             ],
             [
              0.4444444444444444,
              "#bd3786"
             ],
             [
              0.5555555555555556,
              "#d8576b"
             ],
             [
              0.6666666666666666,
              "#ed7953"
             ],
             [
              0.7777777777777778,
              "#fb9f3a"
             ],
             [
              0.8888888888888888,
              "#fdca26"
             ],
             [
              1,
              "#f0f921"
             ]
            ],
            "type": "contour"
           }
          ],
          "contourcarpet": [
           {
            "colorbar": {
             "outlinewidth": 0,
             "ticks": ""
            },
            "type": "contourcarpet"
           }
          ],
          "heatmap": [
           {
            "colorbar": {
             "outlinewidth": 0,
             "ticks": ""
            },
            "colorscale": [
             [
              0,
              "#0d0887"
             ],
             [
              0.1111111111111111,
              "#46039f"
             ],
             [
              0.2222222222222222,
              "#7201a8"
             ],
             [
              0.3333333333333333,
              "#9c179e"
             ],
             [
              0.4444444444444444,
              "#bd3786"
             ],
             [
              0.5555555555555556,
              "#d8576b"
             ],
             [
              0.6666666666666666,
              "#ed7953"
             ],
             [
              0.7777777777777778,
              "#fb9f3a"
             ],
             [
              0.8888888888888888,
              "#fdca26"
             ],
             [
              1,
              "#f0f921"
             ]
            ],
            "type": "heatmap"
           }
          ],
          "heatmapgl": [
           {
            "colorbar": {
             "outlinewidth": 0,
             "ticks": ""
            },
            "colorscale": [
             [
              0,
              "#0d0887"
             ],
             [
              0.1111111111111111,
              "#46039f"
             ],
             [
              0.2222222222222222,
              "#7201a8"
             ],
             [
              0.3333333333333333,
              "#9c179e"
             ],
             [
              0.4444444444444444,
              "#bd3786"
             ],
             [
              0.5555555555555556,
              "#d8576b"
             ],
             [
              0.6666666666666666,
              "#ed7953"
             ],
             [
              0.7777777777777778,
              "#fb9f3a"
             ],
             [
              0.8888888888888888,
              "#fdca26"
             ],
             [
              1,
              "#f0f921"
             ]
            ],
            "type": "heatmapgl"
           }
          ],
          "histogram": [
           {
            "marker": {
             "pattern": {
              "fillmode": "overlay",
              "size": 10,
              "solidity": 0.2
             }
            },
            "type": "histogram"
           }
          ],
          "histogram2d": [
           {
            "colorbar": {
             "outlinewidth": 0,
             "ticks": ""
            },
            "colorscale": [
             [
              0,
              "#0d0887"
             ],
             [
              0.1111111111111111,
              "#46039f"
             ],
             [
              0.2222222222222222,
              "#7201a8"
             ],
             [
              0.3333333333333333,
              "#9c179e"
             ],
             [
              0.4444444444444444,
              "#bd3786"
             ],
             [
              0.5555555555555556,
              "#d8576b"
             ],
             [
              0.6666666666666666,
              "#ed7953"
             ],
             [
              0.7777777777777778,
              "#fb9f3a"
             ],
             [
              0.8888888888888888,
              "#fdca26"
             ],
             [
              1,
              "#f0f921"
             ]
            ],
            "type": "histogram2d"
           }
          ],
          "histogram2dcontour": [
           {
            "colorbar": {
             "outlinewidth": 0,
             "ticks": ""
            },
            "colorscale": [
             [
              0,
              "#0d0887"
             ],
             [
              0.1111111111111111,
              "#46039f"
             ],
             [
              0.2222222222222222,
              "#7201a8"
             ],
             [
              0.3333333333333333,
              "#9c179e"
             ],
             [
              0.4444444444444444,
              "#bd3786"
             ],
             [
              0.5555555555555556,
              "#d8576b"
             ],
             [
              0.6666666666666666,
              "#ed7953"
             ],
             [
              0.7777777777777778,
              "#fb9f3a"
             ],
             [
              0.8888888888888888,
              "#fdca26"
             ],
             [
              1,
              "#f0f921"
             ]
            ],
            "type": "histogram2dcontour"
           }
          ],
          "mesh3d": [
           {
            "colorbar": {
             "outlinewidth": 0,
             "ticks": ""
            },
            "type": "mesh3d"
           }
          ],
          "parcoords": [
           {
            "line": {
             "colorbar": {
              "outlinewidth": 0,
              "ticks": ""
             }
            },
            "type": "parcoords"
           }
          ],
          "pie": [
           {
            "automargin": true,
            "type": "pie"
           }
          ],
          "scatter": [
           {
            "fillpattern": {
             "fillmode": "overlay",
             "size": 10,
             "solidity": 0.2
            },
            "type": "scatter"
           }
          ],
          "scatter3d": [
           {
            "line": {
             "colorbar": {
              "outlinewidth": 0,
              "ticks": ""
             }
            },
            "marker": {
             "colorbar": {
              "outlinewidth": 0,
              "ticks": ""
             }
            },
            "type": "scatter3d"
           }
          ],
          "scattercarpet": [
           {
            "marker": {
             "colorbar": {
              "outlinewidth": 0,
              "ticks": ""
             }
            },
            "type": "scattercarpet"
           }
          ],
          "scattergeo": [
           {
            "marker": {
             "colorbar": {
              "outlinewidth": 0,
              "ticks": ""
             }
            },
            "type": "scattergeo"
           }
          ],
          "scattergl": [
           {
            "marker": {
             "colorbar": {
              "outlinewidth": 0,
              "ticks": ""
             }
            },
            "type": "scattergl"
           }
          ],
          "scattermapbox": [
           {
            "marker": {
             "colorbar": {
              "outlinewidth": 0,
              "ticks": ""
             }
            },
            "type": "scattermapbox"
           }
          ],
          "scatterpolar": [
           {
            "marker": {
             "colorbar": {
              "outlinewidth": 0,
              "ticks": ""
             }
            },
            "type": "scatterpolar"
           }
          ],
          "scatterpolargl": [
           {
            "marker": {
             "colorbar": {
              "outlinewidth": 0,
              "ticks": ""
             }
            },
            "type": "scatterpolargl"
           }
          ],
          "scatterternary": [
           {
            "marker": {
             "colorbar": {
              "outlinewidth": 0,
              "ticks": ""
             }
            },
            "type": "scatterternary"
           }
          ],
          "surface": [
           {
            "colorbar": {
             "outlinewidth": 0,
             "ticks": ""
            },
            "colorscale": [
             [
              0,
              "#0d0887"
             ],
             [
              0.1111111111111111,
              "#46039f"
             ],
             [
              0.2222222222222222,
              "#7201a8"
             ],
             [
              0.3333333333333333,
              "#9c179e"
             ],
             [
              0.4444444444444444,
              "#bd3786"
             ],
             [
              0.5555555555555556,
              "#d8576b"
             ],
             [
              0.6666666666666666,
              "#ed7953"
             ],
             [
              0.7777777777777778,
              "#fb9f3a"
             ],
             [
              0.8888888888888888,
              "#fdca26"
             ],
             [
              1,
              "#f0f921"
             ]
            ],
            "type": "surface"
           }
          ],
          "table": [
           {
            "cells": {
             "fill": {
              "color": "#EBF0F8"
             },
             "line": {
              "color": "white"
             }
            },
            "header": {
             "fill": {
              "color": "#C8D4E3"
             },
             "line": {
              "color": "white"
             }
            },
            "type": "table"
           }
          ]
         },
         "layout": {
          "annotationdefaults": {
           "arrowcolor": "#2a3f5f",
           "arrowhead": 0,
           "arrowwidth": 1
          },
          "autotypenumbers": "strict",
          "coloraxis": {
           "colorbar": {
            "outlinewidth": 0,
            "ticks": ""
           }
          },
          "colorscale": {
           "diverging": [
            [
             0,
             "#8e0152"
            ],
            [
             0.1,
             "#c51b7d"
            ],
            [
             0.2,
             "#de77ae"
            ],
            [
             0.3,
             "#f1b6da"
            ],
            [
             0.4,
             "#fde0ef"
            ],
            [
             0.5,
             "#f7f7f7"
            ],
            [
             0.6,
             "#e6f5d0"
            ],
            [
             0.7,
             "#b8e186"
            ],
            [
             0.8,
             "#7fbc41"
            ],
            [
             0.9,
             "#4d9221"
            ],
            [
             1,
             "#276419"
            ]
           ],
           "sequential": [
            [
             0,
             "#0d0887"
            ],
            [
             0.1111111111111111,
             "#46039f"
            ],
            [
             0.2222222222222222,
             "#7201a8"
            ],
            [
             0.3333333333333333,
             "#9c179e"
            ],
            [
             0.4444444444444444,
             "#bd3786"
            ],
            [
             0.5555555555555556,
             "#d8576b"
            ],
            [
             0.6666666666666666,
             "#ed7953"
            ],
            [
             0.7777777777777778,
             "#fb9f3a"
            ],
            [
             0.8888888888888888,
             "#fdca26"
            ],
            [
             1,
             "#f0f921"
            ]
           ],
           "sequentialminus": [
            [
             0,
             "#0d0887"
            ],
            [
             0.1111111111111111,
             "#46039f"
            ],
            [
             0.2222222222222222,
             "#7201a8"
            ],
            [
             0.3333333333333333,
             "#9c179e"
            ],
            [
             0.4444444444444444,
             "#bd3786"
            ],
            [
             0.5555555555555556,
             "#d8576b"
            ],
            [
             0.6666666666666666,
             "#ed7953"
            ],
            [
             0.7777777777777778,
             "#fb9f3a"
            ],
            [
             0.8888888888888888,
             "#fdca26"
            ],
            [
             1,
             "#f0f921"
            ]
           ]
          },
          "colorway": [
           "#636efa",
           "#EF553B",
           "#00cc96",
           "#ab63fa",
           "#FFA15A",
           "#19d3f3",
           "#FF6692",
           "#B6E880",
           "#FF97FF",
           "#FECB52"
          ],
          "font": {
           "color": "#2a3f5f"
          },
          "geo": {
           "bgcolor": "white",
           "lakecolor": "white",
           "landcolor": "#E5ECF6",
           "showlakes": true,
           "showland": true,
           "subunitcolor": "white"
          },
          "hoverlabel": {
           "align": "left"
          },
          "hovermode": "closest",
          "mapbox": {
           "style": "light"
          },
          "paper_bgcolor": "white",
          "plot_bgcolor": "#E5ECF6",
          "polar": {
           "angularaxis": {
            "gridcolor": "white",
            "linecolor": "white",
            "ticks": ""
           },
           "bgcolor": "#E5ECF6",
           "radialaxis": {
            "gridcolor": "white",
            "linecolor": "white",
            "ticks": ""
           }
          },
          "scene": {
           "xaxis": {
            "backgroundcolor": "#E5ECF6",
            "gridcolor": "white",
            "gridwidth": 2,
            "linecolor": "white",
            "showbackground": true,
            "ticks": "",
            "zerolinecolor": "white"
           },
           "yaxis": {
            "backgroundcolor": "#E5ECF6",
            "gridcolor": "white",
            "gridwidth": 2,
            "linecolor": "white",
            "showbackground": true,
            "ticks": "",
            "zerolinecolor": "white"
           },
           "zaxis": {
            "backgroundcolor": "#E5ECF6",
            "gridcolor": "white",
            "gridwidth": 2,
            "linecolor": "white",
            "showbackground": true,
            "ticks": "",
            "zerolinecolor": "white"
           }
          },
          "shapedefaults": {
           "line": {
            "color": "#2a3f5f"
           }
          },
          "ternary": {
           "aaxis": {
            "gridcolor": "white",
            "linecolor": "white",
            "ticks": ""
           },
           "baxis": {
            "gridcolor": "white",
            "linecolor": "white",
            "ticks": ""
           },
           "bgcolor": "#E5ECF6",
           "caxis": {
            "gridcolor": "white",
            "linecolor": "white",
            "ticks": ""
           }
          },
          "title": {
           "x": 0.05
          },
          "xaxis": {
           "automargin": true,
           "gridcolor": "white",
           "linecolor": "white",
           "ticks": "",
           "title": {
            "standoff": 15
           },
           "zerolinecolor": "white",
           "zerolinewidth": 2
          },
          "yaxis": {
           "automargin": true,
           "gridcolor": "white",
           "linecolor": "white",
           "ticks": "",
           "title": {
            "standoff": 15
           },
           "zerolinecolor": "white",
           "zerolinewidth": 2
          }
         }
        },
        "xaxis": {
         "anchor": "y",
         "domain": [
          0.55,
          1
         ]
        },
        "yaxis": {
         "anchor": "x",
         "domain": [
          0,
          1
         ]
        }
       }
      },
      "text/html": [
       "<div>                            <div id=\"c3d5e469-be5a-417c-a16f-b19f334a0c1f\" class=\"plotly-graph-div\" style=\"height:525px; width:100%;\"></div>            <script type=\"text/javascript\">                require([\"plotly\"], function(Plotly) {                    window.PLOTLYENV=window.PLOTLYENV || {};                                    if (document.getElementById(\"c3d5e469-be5a-417c-a16f-b19f334a0c1f\")) {                    Plotly.newPlot(                        \"c3d5e469-be5a-417c-a16f-b19f334a0c1f\",                        [{\"labels\":[\"At home\",\"Blended\",\"In person\"],\"marker\":{\"colors\":[\"#1f78b4\",\"#a6cee3\",\"#b2df8a\"]},\"showlegend\":true,\"values\":[0.6194581678452646,0.13121723874412047,0.24932459341061491],\"type\":\"pie\",\"domain\":{\"x\":[0.0,0.45],\"y\":[0.0,1.0]}},{\"marker\":{\"color\":[\"#1f78b4\",\"#1f78b4\",\"#1f78b4\",\"#b2df8a\",\"#a6cee3\",\"#b2df8a\",\"#b2df8a\",\"#1f78b4\",\"#a6cee3\",\"#a6cee3\",\"#b2df8a\",\"#a6cee3\",\"#b2df8a\",\"#a6cee3\",\"#b2df8a\",\"#b2df8a\",\"#b2df8a\",\"#b2df8a\"]},\"orientation\":\"v\",\"showlegend\":false,\"x\":[\"Assignment\",\"Project\",\"Continuous Assessment\",\"Examination\",\"Portfolio\",\"Presentation\",\"Oral Examination\",\"Essay\",\"Group Project\",\"Journal\",\"Fieldwork\",\"Lab Report\",\"Class Test\",\"Multiple Choice Questionnaire\",\"Attendance\",\"Studio Examination\",\"Seminar\",\"Practical Examination\"],\"y\":[23.956214278794924,19.304250487046186,12.464076980206013,11.303776895174744,4.811262875779005,4.768209069284338,4.332289278525837,4.25694511716017,4.07289009439547,2.4863573250670026,2.2387979377226688,1.8383975373222685,1.758747995307135,0.7577469943061341,0.7297620200846008,0.6565705490436673,0.21526903247333354,0.04843553230650005],\"type\":\"bar\",\"xaxis\":\"x\",\"yaxis\":\"y\"}],                        {\"template\":{\"data\":{\"histogram2dcontour\":[{\"type\":\"histogram2dcontour\",\"colorbar\":{\"outlinewidth\":0,\"ticks\":\"\"},\"colorscale\":[[0.0,\"#0d0887\"],[0.1111111111111111,\"#46039f\"],[0.2222222222222222,\"#7201a8\"],[0.3333333333333333,\"#9c179e\"],[0.4444444444444444,\"#bd3786\"],[0.5555555555555556,\"#d8576b\"],[0.6666666666666666,\"#ed7953\"],[0.7777777777777778,\"#fb9f3a\"],[0.8888888888888888,\"#fdca26\"],[1.0,\"#f0f921\"]]}],\"choropleth\":[{\"type\":\"choropleth\",\"colorbar\":{\"outlinewidth\":0,\"ticks\":\"\"}}],\"histogram2d\":[{\"type\":\"histogram2d\",\"colorbar\":{\"outlinewidth\":0,\"ticks\":\"\"},\"colorscale\":[[0.0,\"#0d0887\"],[0.1111111111111111,\"#46039f\"],[0.2222222222222222,\"#7201a8\"],[0.3333333333333333,\"#9c179e\"],[0.4444444444444444,\"#bd3786\"],[0.5555555555555556,\"#d8576b\"],[0.6666666666666666,\"#ed7953\"],[0.7777777777777778,\"#fb9f3a\"],[0.8888888888888888,\"#fdca26\"],[1.0,\"#f0f921\"]]}],\"heatmap\":[{\"type\":\"heatmap\",\"colorbar\":{\"outlinewidth\":0,\"ticks\":\"\"},\"colorscale\":[[0.0,\"#0d0887\"],[0.1111111111111111,\"#46039f\"],[0.2222222222222222,\"#7201a8\"],[0.3333333333333333,\"#9c179e\"],[0.4444444444444444,\"#bd3786\"],[0.5555555555555556,\"#d8576b\"],[0.6666666666666666,\"#ed7953\"],[0.7777777777777778,\"#fb9f3a\"],[0.8888888888888888,\"#fdca26\"],[1.0,\"#f0f921\"]]}],\"heatmapgl\":[{\"type\":\"heatmapgl\",\"colorbar\":{\"outlinewidth\":0,\"ticks\":\"\"},\"colorscale\":[[0.0,\"#0d0887\"],[0.1111111111111111,\"#46039f\"],[0.2222222222222222,\"#7201a8\"],[0.3333333333333333,\"#9c179e\"],[0.4444444444444444,\"#bd3786\"],[0.5555555555555556,\"#d8576b\"],[0.6666666666666666,\"#ed7953\"],[0.7777777777777778,\"#fb9f3a\"],[0.8888888888888888,\"#fdca26\"],[1.0,\"#f0f921\"]]}],\"contourcarpet\":[{\"type\":\"contourcarpet\",\"colorbar\":{\"outlinewidth\":0,\"ticks\":\"\"}}],\"contour\":[{\"type\":\"contour\",\"colorbar\":{\"outlinewidth\":0,\"ticks\":\"\"},\"colorscale\":[[0.0,\"#0d0887\"],[0.1111111111111111,\"#46039f\"],[0.2222222222222222,\"#7201a8\"],[0.3333333333333333,\"#9c179e\"],[0.4444444444444444,\"#bd3786\"],[0.5555555555555556,\"#d8576b\"],[0.6666666666666666,\"#ed7953\"],[0.7777777777777778,\"#fb9f3a\"],[0.8888888888888888,\"#fdca26\"],[1.0,\"#f0f921\"]]}],\"surface\":[{\"type\":\"surface\",\"colorbar\":{\"outlinewidth\":0,\"ticks\":\"\"},\"colorscale\":[[0.0,\"#0d0887\"],[0.1111111111111111,\"#46039f\"],[0.2222222222222222,\"#7201a8\"],[0.3333333333333333,\"#9c179e\"],[0.4444444444444444,\"#bd3786\"],[0.5555555555555556,\"#d8576b\"],[0.6666666666666666,\"#ed7953\"],[0.7777777777777778,\"#fb9f3a\"],[0.8888888888888888,\"#fdca26\"],[1.0,\"#f0f921\"]]}],\"mesh3d\":[{\"type\":\"mesh3d\",\"colorbar\":{\"outlinewidth\":0,\"ticks\":\"\"}}],\"scatter\":[{\"fillpattern\":{\"fillmode\":\"overlay\",\"size\":10,\"solidity\":0.2},\"type\":\"scatter\"}],\"parcoords\":[{\"type\":\"parcoords\",\"line\":{\"colorbar\":{\"outlinewidth\":0,\"ticks\":\"\"}}}],\"scatterpolargl\":[{\"type\":\"scatterpolargl\",\"marker\":{\"colorbar\":{\"outlinewidth\":0,\"ticks\":\"\"}}}],\"bar\":[{\"error_x\":{\"color\":\"#2a3f5f\"},\"error_y\":{\"color\":\"#2a3f5f\"},\"marker\":{\"line\":{\"color\":\"#E5ECF6\",\"width\":0.5},\"pattern\":{\"fillmode\":\"overlay\",\"size\":10,\"solidity\":0.2}},\"type\":\"bar\"}],\"scattergeo\":[{\"type\":\"scattergeo\",\"marker\":{\"colorbar\":{\"outlinewidth\":0,\"ticks\":\"\"}}}],\"scatterpolar\":[{\"type\":\"scatterpolar\",\"marker\":{\"colorbar\":{\"outlinewidth\":0,\"ticks\":\"\"}}}],\"histogram\":[{\"marker\":{\"pattern\":{\"fillmode\":\"overlay\",\"size\":10,\"solidity\":0.2}},\"type\":\"histogram\"}],\"scattergl\":[{\"type\":\"scattergl\",\"marker\":{\"colorbar\":{\"outlinewidth\":0,\"ticks\":\"\"}}}],\"scatter3d\":[{\"type\":\"scatter3d\",\"line\":{\"colorbar\":{\"outlinewidth\":0,\"ticks\":\"\"}},\"marker\":{\"colorbar\":{\"outlinewidth\":0,\"ticks\":\"\"}}}],\"scattermapbox\":[{\"type\":\"scattermapbox\",\"marker\":{\"colorbar\":{\"outlinewidth\":0,\"ticks\":\"\"}}}],\"scatterternary\":[{\"type\":\"scatterternary\",\"marker\":{\"colorbar\":{\"outlinewidth\":0,\"ticks\":\"\"}}}],\"scattercarpet\":[{\"type\":\"scattercarpet\",\"marker\":{\"colorbar\":{\"outlinewidth\":0,\"ticks\":\"\"}}}],\"carpet\":[{\"aaxis\":{\"endlinecolor\":\"#2a3f5f\",\"gridcolor\":\"white\",\"linecolor\":\"white\",\"minorgridcolor\":\"white\",\"startlinecolor\":\"#2a3f5f\"},\"baxis\":{\"endlinecolor\":\"#2a3f5f\",\"gridcolor\":\"white\",\"linecolor\":\"white\",\"minorgridcolor\":\"white\",\"startlinecolor\":\"#2a3f5f\"},\"type\":\"carpet\"}],\"table\":[{\"cells\":{\"fill\":{\"color\":\"#EBF0F8\"},\"line\":{\"color\":\"white\"}},\"header\":{\"fill\":{\"color\":\"#C8D4E3\"},\"line\":{\"color\":\"white\"}},\"type\":\"table\"}],\"barpolar\":[{\"marker\":{\"line\":{\"color\":\"#E5ECF6\",\"width\":0.5},\"pattern\":{\"fillmode\":\"overlay\",\"size\":10,\"solidity\":0.2}},\"type\":\"barpolar\"}],\"pie\":[{\"automargin\":true,\"type\":\"pie\"}]},\"layout\":{\"autotypenumbers\":\"strict\",\"colorway\":[\"#636efa\",\"#EF553B\",\"#00cc96\",\"#ab63fa\",\"#FFA15A\",\"#19d3f3\",\"#FF6692\",\"#B6E880\",\"#FF97FF\",\"#FECB52\"],\"font\":{\"color\":\"#2a3f5f\"},\"hovermode\":\"closest\",\"hoverlabel\":{\"align\":\"left\"},\"paper_bgcolor\":\"white\",\"plot_bgcolor\":\"#E5ECF6\",\"polar\":{\"bgcolor\":\"#E5ECF6\",\"angularaxis\":{\"gridcolor\":\"white\",\"linecolor\":\"white\",\"ticks\":\"\"},\"radialaxis\":{\"gridcolor\":\"white\",\"linecolor\":\"white\",\"ticks\":\"\"}},\"ternary\":{\"bgcolor\":\"#E5ECF6\",\"aaxis\":{\"gridcolor\":\"white\",\"linecolor\":\"white\",\"ticks\":\"\"},\"baxis\":{\"gridcolor\":\"white\",\"linecolor\":\"white\",\"ticks\":\"\"},\"caxis\":{\"gridcolor\":\"white\",\"linecolor\":\"white\",\"ticks\":\"\"}},\"coloraxis\":{\"colorbar\":{\"outlinewidth\":0,\"ticks\":\"\"}},\"colorscale\":{\"sequential\":[[0.0,\"#0d0887\"],[0.1111111111111111,\"#46039f\"],[0.2222222222222222,\"#7201a8\"],[0.3333333333333333,\"#9c179e\"],[0.4444444444444444,\"#bd3786\"],[0.5555555555555556,\"#d8576b\"],[0.6666666666666666,\"#ed7953\"],[0.7777777777777778,\"#fb9f3a\"],[0.8888888888888888,\"#fdca26\"],[1.0,\"#f0f921\"]],\"sequentialminus\":[[0.0,\"#0d0887\"],[0.1111111111111111,\"#46039f\"],[0.2222222222222222,\"#7201a8\"],[0.3333333333333333,\"#9c179e\"],[0.4444444444444444,\"#bd3786\"],[0.5555555555555556,\"#d8576b\"],[0.6666666666666666,\"#ed7953\"],[0.7777777777777778,\"#fb9f3a\"],[0.8888888888888888,\"#fdca26\"],[1.0,\"#f0f921\"]],\"diverging\":[[0,\"#8e0152\"],[0.1,\"#c51b7d\"],[0.2,\"#de77ae\"],[0.3,\"#f1b6da\"],[0.4,\"#fde0ef\"],[0.5,\"#f7f7f7\"],[0.6,\"#e6f5d0\"],[0.7,\"#b8e186\"],[0.8,\"#7fbc41\"],[0.9,\"#4d9221\"],[1,\"#276419\"]]},\"xaxis\":{\"gridcolor\":\"white\",\"linecolor\":\"white\",\"ticks\":\"\",\"title\":{\"standoff\":15},\"zerolinecolor\":\"white\",\"automargin\":true,\"zerolinewidth\":2},\"yaxis\":{\"gridcolor\":\"white\",\"linecolor\":\"white\",\"ticks\":\"\",\"title\":{\"standoff\":15},\"zerolinecolor\":\"white\",\"automargin\":true,\"zerolinewidth\":2},\"scene\":{\"xaxis\":{\"backgroundcolor\":\"#E5ECF6\",\"gridcolor\":\"white\",\"linecolor\":\"white\",\"showbackground\":true,\"ticks\":\"\",\"zerolinecolor\":\"white\",\"gridwidth\":2},\"yaxis\":{\"backgroundcolor\":\"#E5ECF6\",\"gridcolor\":\"white\",\"linecolor\":\"white\",\"showbackground\":true,\"ticks\":\"\",\"zerolinecolor\":\"white\",\"gridwidth\":2},\"zaxis\":{\"backgroundcolor\":\"#E5ECF6\",\"gridcolor\":\"white\",\"linecolor\":\"white\",\"showbackground\":true,\"ticks\":\"\",\"zerolinecolor\":\"white\",\"gridwidth\":2}},\"shapedefaults\":{\"line\":{\"color\":\"#2a3f5f\"}},\"annotationdefaults\":{\"arrowcolor\":\"#2a3f5f\",\"arrowhead\":0,\"arrowwidth\":1},\"geo\":{\"bgcolor\":\"white\",\"landcolor\":\"#E5ECF6\",\"subunitcolor\":\"white\",\"showland\":true,\"showlakes\":true,\"lakecolor\":\"white\"},\"title\":{\"x\":0.05},\"mapbox\":{\"style\":\"light\"}}},\"xaxis\":{\"anchor\":\"y\",\"domain\":[0.55,1.0]},\"yaxis\":{\"anchor\":\"x\",\"domain\":[0.0,1.0]}},                        {\"responsive\": true}                    ).then(function(){\n",
       "                            \n",
       "var gd = document.getElementById('c3d5e469-be5a-417c-a16f-b19f334a0c1f');\n",
       "var x = new MutationObserver(function (mutations, observer) {{\n",
       "        var display = window.getComputedStyle(gd).display;\n",
       "        if (!display || display === 'none') {{\n",
       "            console.log([gd, 'removed!']);\n",
       "            Plotly.purge(gd);\n",
       "            observer.disconnect();\n",
       "        }}\n",
       "}});\n",
       "\n",
       "// Listen for the removal of the full notebook cells\n",
       "var notebookContainer = gd.closest('#notebook-container');\n",
       "if (notebookContainer) {{\n",
       "    x.observe(notebookContainer, {childList: true});\n",
       "}}\n",
       "\n",
       "// Listen for the clearing of the current output cell\n",
       "var outputEl = gd.closest('.output');\n",
       "if (outputEl) {{\n",
       "    x.observe(outputEl, {childList: true});\n",
       "}}\n",
       "\n",
       "                        })                };                });            </script>        </div>"
      ]
     },
     "metadata": {},
     "output_type": "display_data"
    }
   ],
   "source": [
    "workType_plotly()"
   ]
  },
  {
   "cell_type": "code",
   "execution_count": null,
   "id": "5d4b0a89",
   "metadata": {},
   "outputs": [],
   "source": []
  },
  {
   "cell_type": "code",
   "execution_count": null,
   "id": "4f9792fe",
   "metadata": {},
   "outputs": [],
   "source": []
  }
 ],
 "metadata": {
  "kernelspec": {
   "display_name": "Python 3 (ipykernel)",
   "language": "python",
   "name": "python3"
  },
  "language_info": {
   "codemirror_mode": {
    "name": "ipython",
    "version": 3
   },
   "file_extension": ".py",
   "mimetype": "text/x-python",
   "name": "python",
   "nbconvert_exporter": "python",
   "pygments_lexer": "ipython3",
   "version": "3.9.13"
  }
 },
 "nbformat": 4,
 "nbformat_minor": 5
}
