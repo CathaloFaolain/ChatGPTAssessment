{
 "cells": [
  {
   "cell_type": "markdown",
   "id": "b7e7b250",
   "metadata": {},
   "source": [
    "# Module Information Scraper\n",
    "This code is to scrape assessment details from UCD module-by-module. From there, we can find out how vulnerable UCD is to ChatGPT and other similar AI helpers. First we will need to import some packages to do this."
   ]
  },
  {
   "cell_type": "code",
   "execution_count": 2,
   "id": "91ddfb57",
   "metadata": {},
   "outputs": [],
   "source": [
    "import pandas as pd\n",
    "import numpy as np\n",
    "import requests\n",
    "from bs4 import BeautifulSoup\n",
    "import re\n",
    "import pathlib as Path\n",
    "import html5lib\n",
    "import json"
   ]
  },
  {
   "cell_type": "markdown",
   "id": "c6b58396",
   "metadata": {},
   "source": [
    "Next we will need to set the path to the datasets that we will use. This currently pulls in a specific file, that of MODULES.csv, which has all collected module information for the school of Engineering and Architecture. However, this could easily be changed to analyze sub-schools or other schools."
   ]
  },
  {
   "cell_type": "code",
   "execution_count": 3,
   "id": "a4b1d91d",
   "metadata": {},
   "outputs": [
    {
     "data": {
      "text/html": [
       "<div>\n",
       "<style scoped>\n",
       "    .dataframe tbody tr th:only-of-type {\n",
       "        vertical-align: middle;\n",
       "    }\n",
       "\n",
       "    .dataframe tbody tr th {\n",
       "        vertical-align: top;\n",
       "    }\n",
       "\n",
       "    .dataframe thead th {\n",
       "        text-align: right;\n",
       "    }\n",
       "</style>\n",
       "<table border=\"1\" class=\"dataframe\">\n",
       "  <thead>\n",
       "    <tr style=\"text-align: right;\">\n",
       "      <th></th>\n",
       "      <th>Code</th>\n",
       "      <th>Module</th>\n",
       "      <th>School</th>\n",
       "    </tr>\n",
       "  </thead>\n",
       "  <tbody>\n",
       "    <tr>\n",
       "      <th>0</th>\n",
       "      <td>DSCY10060</td>\n",
       "      <td>Energy, Climate Change &amp; Policy</td>\n",
       "      <td>EEE</td>\n",
       "    </tr>\n",
       "    <tr>\n",
       "      <th>1</th>\n",
       "      <td>EEEN10010</td>\n",
       "      <td>Electronic and Electrical Engineering I</td>\n",
       "      <td>EEE</td>\n",
       "    </tr>\n",
       "    <tr>\n",
       "      <th>2</th>\n",
       "      <td>EEEN10020</td>\n",
       "      <td>Robotics Design Project</td>\n",
       "      <td>EEE</td>\n",
       "    </tr>\n",
       "    <tr>\n",
       "      <th>3</th>\n",
       "      <td>EEEN20010</td>\n",
       "      <td>Computer Engineering</td>\n",
       "      <td>EEE</td>\n",
       "    </tr>\n",
       "    <tr>\n",
       "      <th>4</th>\n",
       "      <td>EEEN20020</td>\n",
       "      <td>Electrical and Electronic Circuits</td>\n",
       "      <td>EEE</td>\n",
       "    </tr>\n",
       "    <tr>\n",
       "      <th>...</th>\n",
       "      <td>...</td>\n",
       "      <td>...</td>\n",
       "      <td>...</td>\n",
       "    </tr>\n",
       "    <tr>\n",
       "      <th>519</th>\n",
       "      <td>MEEN50050</td>\n",
       "      <td>Creative Thinking &amp; Innovation</td>\n",
       "      <td>MME</td>\n",
       "    </tr>\n",
       "    <tr>\n",
       "      <th>520</th>\n",
       "      <td>MEEN50060</td>\n",
       "      <td>Research Techniques Space Eng</td>\n",
       "      <td>MME</td>\n",
       "    </tr>\n",
       "    <tr>\n",
       "      <th>521</th>\n",
       "      <td>MEEN50070</td>\n",
       "      <td>Industrial Research I</td>\n",
       "      <td>MME</td>\n",
       "    </tr>\n",
       "    <tr>\n",
       "      <th>522</th>\n",
       "      <td>MEEN50080</td>\n",
       "      <td>Industrial Research II</td>\n",
       "      <td>MME</td>\n",
       "    </tr>\n",
       "    <tr>\n",
       "      <th>523</th>\n",
       "      <td>MEEN50090</td>\n",
       "      <td>Industrial Research III</td>\n",
       "      <td>MME</td>\n",
       "    </tr>\n",
       "  </tbody>\n",
       "</table>\n",
       "<p>524 rows × 3 columns</p>\n",
       "</div>"
      ],
      "text/plain": [
       "          Code                                   Module School\n",
       "0    DSCY10060          Energy, Climate Change & Policy    EEE\n",
       "1    EEEN10010  Electronic and Electrical Engineering I    EEE\n",
       "2    EEEN10020                  Robotics Design Project    EEE\n",
       "3    EEEN20010                     Computer Engineering    EEE\n",
       "4    EEEN20020       Electrical and Electronic Circuits    EEE\n",
       "..         ...                                      ...    ...\n",
       "519  MEEN50050           Creative Thinking & Innovation    MME\n",
       "520  MEEN50060            Research Techniques Space Eng    MME\n",
       "521  MEEN50070                    Industrial Research I    MME\n",
       "522  MEEN50080                   Industrial Research II    MME\n",
       "523  MEEN50090                  Industrial Research III    MME\n",
       "\n",
       "[524 rows x 3 columns]"
      ]
     },
     "execution_count": 3,
     "metadata": {},
     "output_type": "execute_result"
    }
   ],
   "source": [
    "dir_raw=Path.Path(\"Datasets\")\n",
    "\n",
    "moduleCodes= dir_raw / \"MODULES.csv\"\n",
    "\n",
    "modules=pd.read_csv(moduleCodes)\n",
    "\n",
    "modules"
   ]
  },
  {
   "cell_type": "markdown",
   "id": "8b852b57",
   "metadata": {},
   "source": [
    "The module descriptor scraper pulls all module descriptor information from the UCD module website. This includes information such as who runs the module, and importantly for our analysis, the number of credits for each module."
   ]
  },
  {
   "cell_type": "code",
   "execution_count": 4,
   "id": "98326584",
   "metadata": {},
   "outputs": [],
   "source": [
    "def module_descriptor_scraper(url, level=None, school=None):\n",
    "    #url= \"https://hub.ucd.ie/usis/!W_HU_MENU.P_PUBLISH?p_tag=MODULE&MODULE=\" + modules.iloc[0][\"Code\"]\n",
    "\n",
    "    request=requests.get(url)\n",
    "    soup=BeautifulSoup(request.content, 'html.parser')\n",
    "\n",
    "#print(soup)\n",
    "#Create all_h1_tags as empty list\n",
    "    descriptor_list={}\n",
    "\n",
    "# Set all_h1_tags to all h1 tags of the soup\n",
    "    for element in soup.select('dl'):\n",
    "        credit_list=element.text\n",
    "        for items in zip(soup.select('dt'), soup.select('dd')):\n",
    "            #print(items[0].text + \" \" + items[1].text)\n",
    "            descriptor_list[items[0].text]=items[1].text\n",
    "        #descriptor_item.append(items[1])\n",
    "        \n",
    "#print(\"%d , %d\" %(len(descriptor_type),len(descriptor_item)))\n",
    "\n",
    "    \n",
    "    module_descriptor=pd.Series(descriptor_list)\n",
    "    module_descriptor[\"Credits:\"]=pd.to_numeric(module_descriptor[\"Credits:\"], errors='coerce')\n",
    "    #print(module_descriptor)\n",
    "#print(element)\n",
    "\n",
    "    filtered=False\n",
    "    \n",
    "    #If filters exist, check that the module is not filtered out\n",
    "    if (level != None):\n",
    "        filtered= (pd.to_numeric(module_descriptor[\"Level:\"].split('(')[0], errors='ignore') != level)\n",
    "                   \n",
    "    #If it wasn't filtered out by level, check if it is filtered out by school\n",
    "    if (filtered == False) and (school != None):\n",
    "        filtered = (module_descriptor[\"School:\"] != school)\n",
    "                   \n",
    "\n",
    "    #if (filtered ==False) and (codeList != None):\n",
    "     #   if codeList.find(code) != -1:\n",
    "      #      print(\"%s is in the code list\" %code)\n",
    "       #else:\n",
    "        #    filtered=True\n",
    "\n",
    "    return module_descriptor, filtered"
   ]
  },
  {
   "cell_type": "code",
   "execution_count": 5,
   "id": "cb159fbe",
   "metadata": {},
   "outputs": [],
   "source": [
    "#This asserts that the filter works correctly\n",
    "def assert_filtered(module_descriptors, level=None, school=None):\n",
    "    all_descriptors=pd.concat(module_descriptors)\n",
    "    \n",
    "    if level !=None:\n",
    "        assert (all_descriptors[\"Level:\"].nunique() == 1)\n",
    "    if school != None:\n",
    "        assert (all_descriptors[\"School:\"].nunique() == 1)\n",
    "        \n",
    "    print(all_descriptors[\"School:\"].unique())\n",
    "    return all_descriptors[\"School:\"].nunique(), all_descriptors[\"Level:\"].nunique()"
   ]
  },
  {
   "cell_type": "markdown",
   "id": "8d7516c8",
   "metadata": {},
   "source": [
    "The below code collects all module assessment and module descriptor information into two lists. It also creates a \"Scaled % of Final Grade\" column in the asssessment table. This weights the assessment based on the number of credits the module has overall. In this way, the median and normal amount of credits, 5.0, has assessments weighting that add up to 100%. Those above and below are given assessment weightings that scale with how much more or less they are worth then a normal module - a 10 credit module will have assessments that add up to 200%, because they are worth twice the amount as a normal module.\n",
    "\n",
    "Error module details are stored for inspection later, to see why they occurred. The code continues on even if errors occur, after having stored these details it simply proceeds to the next module."
   ]
  },
  {
   "cell_type": "code",
   "execution_count": 6,
   "id": "b93e1df4",
   "metadata": {},
   "outputs": [],
   "source": [
    "def save_module_files(module_assessments, module_descriptors, codeList=None, level=None, school=None, foldername=None):\n",
    "    #The directory to save outputs to\n",
    "    dir_output=Path.Path(\"ModuleInformation\")\n",
    "    dir_output.mkdir(parents=True, exist_ok=True)\n",
    "    \n",
    "    \n",
    "    #filenames={module_assessments: \"assessments\", module_descriptors:\"descriptors\"}\n",
    "    subdirectory=\"\"\n",
    "    #Save the file in its desired format\n",
    "    if level != None:\n",
    "        subdirectory+=\"Level=%d\" %(level)\n",
    "        \n",
    "    if school != None:\n",
    "        subdirectory+=\"_School=\"+school.replace(\" \", \"-\")\n",
    "    \n",
    "    if codeList != None:\n",
    "        subdirectory+=\"SelectedModules\"\n",
    "        \n",
    "    if foldername != None:\n",
    "        subdirectory=foldername\n",
    "        \n",
    "    #if the modules have been filtered, and thus belong in a sub directory, make that directory\n",
    "    if len(subdirectory) > 0:\n",
    "        dir_output=dir_output / subdirectory\n",
    "        dir_output.mkdir(parents=True, exist_ok=True)\n",
    "        \n",
    "   \n",
    "        \n",
    "    #Save our two module detail files\n",
    "    with open(dir_output / \"assessments.json\", 'w') as outfile:\n",
    "        if len(module_assessments) > 2:\n",
    "            module_assessments=pd.concat(module_assessments, ignore_index=True)\n",
    "            #print(module_assessments)\n",
    "        print(\"saving to %s\" % dir_output)\n",
    "        outfile.write(module_assessments.to_json())\n",
    "        \n",
    "    with open(dir_output / \"descriptors.json\", 'w') as outfile:\n",
    "        print(\"saving to %s\" % dir_output)\n",
    "        if len(module_descriptors) > 2:\n",
    "            module_descriptors=pd.DataFrame(module_descriptors)\n",
    "        outfile.write(module_descriptors.to_json())"
   ]
  },
  {
   "cell_type": "code",
   "execution_count": 33,
   "id": "8a910083",
   "metadata": {
    "scrolled": true
   },
   "outputs": [],
   "source": [
    "#This functiom will allow school and year functions to be placed on it\n",
    "def collector(codeList=None, level=None, school=None, foldername=None):\n",
    "    #This stores module information\n",
    "    module_assessments=[]\n",
    "    module_descriptors=[]\n",
    "\n",
    "    #This stores error module information\n",
    "    error_modules=[]\n",
    "    error_module_descriptors=[]\n",
    "\n",
    "    moduleCodes\n",
    "    #Pick where to get the module codes from\n",
    "    if codeList!=None:\n",
    "        modulesCodes=codeList\n",
    "    else:\n",
    "        modulesCodes=modules[\"Code\"].iloc\n",
    "    for i in modulesCodes:\n",
    "        print(\".\",end=\"\")\n",
    "        \n",
    "        #Check that the code is allowed \n",
    "        #if codeList !=None:\n",
    "        #    if codeList.find(i[\"Code\"]) != -1:\n",
    "        #        print(\"%s is in the code list\" %i[\"Code\"])\n",
    "        #    else:\n",
    "         #       continue\n",
    "            \n",
    "        url= \"https://hub.ucd.ie/usis/!W_HU_MENU.P_PUBLISH?p_tag=MODULE&MODULE=\" + i\n",
    "\n",
    "        #Get the module descriptor\n",
    "        descriptor, filtered=module_descriptor_scraper(url, level=level, school=school)\n",
    "        #If the module is in violation of the filters, continue to the next without saving\n",
    "        if filtered==True:\n",
    "            continue\n",
    "        #Use pandas to read in the asssessment html tables too\n",
    "        table=pd.read_html(url, match=\"Description\")\n",
    "        \n",
    "        #print(descriptor)\n",
    "        #Get the first table, and turn it into a dataframe\n",
    "        df=pd.DataFrame(table[0])\n",
    "        df[\"Assessment Type\"] = df['Description'].str.split(':').str[0]\n",
    "        try:\n",
    "            df[\"Scaled % of Final Grade\"]= df['% of Final Grade'].apply(lambda x: x * (descriptor[\"Credits:\"]/5.0))\n",
    "        except:\n",
    "            print(\"\\nERROR MODULE DETECTED.\")\n",
    "            #print(df[\"% of Final Grade\"])\n",
    "            #print(descriptor[\"Credits:\"])\n",
    "            print(\"Module may need to be inspected, saving information as an error module and continuing without it\")\n",
    "        \n",
    "            error_modules.append(df)\n",
    "            error_module_descriptors.append(descriptor)\n",
    "            #Continue after noting and saving the error\n",
    "            continue\n",
    "        \n",
    "        #Append the dataframe to the module assessments list\n",
    "        module_assessments.append(df)\n",
    "        module_descriptors.append(descriptor)\n",
    "    \n",
    "    #This asserts that the filters were properly imposed, if imposed at all\n",
    "    num_schools, num_levels=assert_filtered(module_descriptors, level, school)\n",
    "\n",
    "    print(\"\\nFINISHED, SCRAPED DETAILS ON %d MODULES, OVER %d SCHOOLS AND %d LEVELS\" \\\n",
    "          %(len(module_assessments), num_schools, num_levels))\n",
    "    \n",
    "    #Save the output files\n",
    "    save_module_files(module_assessments, module_descriptors, codeList=codeList, level=level, school=school, \\\n",
    "                      foldername=foldername)\n",
    "    \n",
    "    return module_assessments, module_descriptors, error_modules, error_module_descriptors\n",
    "\n"
   ]
  },
  {
   "cell_type": "code",
   "execution_count": 27,
   "id": "7d52f368",
   "metadata": {},
   "outputs": [],
   "source": [
    "#This function reads in an excel sheet with module codes\n",
    "def excelListReader(filename, excel_table=True):\n",
    "\n",
    "    #Get the input file path\n",
    "    coreCodes= dir_raw / filename\n",
    "\n",
    "    #Make sure that it is in the desired excel table format\n",
    "    if excel_table:\n",
    "        \n",
    "        #If it is, read in the excel sheet, and get the values in the \"Module\" column as a list\n",
    "        coreModules=pd.read_excel(coreCodes)\n",
    "        coreList=coreModules[\"Module\"].values.tolist()\n",
    "        \n",
    "    else:\n",
    "        print(\"ERROR: not in excel table format\")\n",
    "        return None\n",
    "\n",
    "    #print the module codes that we found, and then return them\n",
    "    print(coreList)\n",
    "    return coreList"
   ]
  },
  {
   "cell_type": "code",
   "execution_count": 34,
   "id": "63af01a8",
   "metadata": {},
   "outputs": [
    {
     "name": "stdout",
     "output_type": "stream",
     "text": [
      ".......................................................................................................................\n",
      "ERROR MODULE DETECTED.\n",
      "Module may need to be inspected, saving information as an error module and continuing without it\n",
      "..........................................................................................................................\n",
      "ERROR MODULE DETECTED.\n",
      "Module may need to be inspected, saving information as an error module and continuing without it\n",
      "...................................................\n",
      "ERROR MODULE DETECTED.\n",
      "Module may need to be inspected, saving information as an error module and continuing without it\n",
      ".\n",
      "ERROR MODULE DETECTED.\n",
      "Module may need to be inspected, saving information as an error module and continuing without it\n",
      "..\n",
      "ERROR MODULE DETECTED.\n",
      "Module may need to be inspected, saving information as an error module and continuing without it\n",
      ".....\n",
      "ERROR MODULE DETECTED.\n",
      "Module may need to be inspected, saving information as an error module and continuing without it\n",
      "...........................................................................................................................................................\n",
      "ERROR MODULE DETECTED.\n",
      "Module may need to be inspected, saving information as an error module and continuing without it\n",
      "..................\n",
      "ERROR MODULE DETECTED.\n",
      "Module may need to be inspected, saving information as an error module and continuing without it\n",
      "........................\n",
      "ERROR MODULE DETECTED.\n",
      "Module may need to be inspected, saving information as an error module and continuing without it\n",
      ".\n",
      "ERROR MODULE DETECTED.\n",
      "Module may need to be inspected, saving information as an error module and continuing without it\n",
      "......................\n",
      "ERROR MODULE DETECTED.\n",
      "Module may need to be inspected, saving information as an error module and continuing without it\n",
      "....['Electrical & Electronic Eng' 'Civil Engineering'\n",
      " 'Chem & Bioprocess Engineering' 'Biosystems & Food Engineering'\n",
      " 'Architecture, Plan & Env Pol' 'Mechanical & Materials Eng']\n",
      "\n",
      "FINISHED, SCRAPED DETAILS ON 513 MODULES, OVER 6 SCHOOLS AND 5 LEVELS\n",
      "saving to ModuleInformation\n",
      "saving to ModuleInformation\n"
     ]
    }
   ],
   "source": [
    "#Run the above function in its base form\n",
    "module_assessments, module_descriptors, ALL_error_modules, ALL_error_module_descriptors=collector()"
   ]
  },
  {
   "cell_type": "code",
   "execution_count": 35,
   "id": "22a5cfb4",
   "metadata": {},
   "outputs": [
    {
     "name": "stdout",
     "output_type": "stream",
     "text": [
      "['CHEM10030', 'CHEN10040', 'CVEN10040', 'EEEN10010', 'MATH10250', 'PHYC10150', 'MATH10260', 'MEEN10030', 'MEEN10050', 'PHYC10160', 'COMP10060', 'EEEN10020', 'EEEN20010', 'EEEN20020', 'EEEN20050', 'EEEN20070', 'MATH20290', 'EEEN20030', 'EEEN20040', 'EEEN20060', 'EEEN20090', 'STAT20060', 'SCI20020', 'COMP20200', 'ACM30030', 'COMP20080', 'EEEN30020', 'EEEN30110', 'EEEN30030', 'EEEN30050', 'EEEN30120', 'EEEN30150', 'EEEN30190', 'EEEN30060', 'EEEN30160', 'COMP20180']\n",
      "....................................['Chemistry' 'Chem & Bioprocess Engineering' 'Civil Engineering'\n",
      " 'Electrical & Electronic Eng' 'Mathematics & Statistics' 'Physics'\n",
      " 'Mechanical & Materials Eng' 'Computer Science']\n",
      "\n",
      "FINISHED, SCRAPED DETAILS ON 36 MODULES, OVER 8 SCHOOLS AND 3 LEVELS\n",
      "saving to ModuleInformation\\ElectronicPath\n",
      "saving to ModuleInformation\\ElectronicPath\n"
     ]
    }
   ],
   "source": [
    "module_assessments, module_descriptors, error_modules, error_module_descriptors\\\n",
    "=collector(codeList=excelListReader(\"UCD_EngArch_Path_Electronic_UG_Modules.xlsx\"), foldername=\"ElectronicPath\")"
   ]
  },
  {
   "cell_type": "code",
   "execution_count": null,
   "id": "8f3f5943",
   "metadata": {},
   "outputs": [],
   "source": [
    "module_assessments, module_descriptors, error_modules, error_module_descriptors\\\n",
    "=collector(codeList=excelListReader(\"UCD_EngArch_Path_Electronic_UG_Modules.xlsx\"), foldername=\"ElectricalPath\")"
   ]
  },
  {
   "cell_type": "code",
   "execution_count": 29,
   "id": "59e1a663",
   "metadata": {},
   "outputs": [
    {
     "name": "stdout",
     "output_type": "stream",
     "text": [
      "['ARCT10010', 'ARCT10030', 'ARCT10070', 'ARCT10120', 'ARCT10020', 'ARCT10040', 'ARCT10090', 'CVEN10060', 'ARCT20020', 'ARCT20040', 'ARCT20050', 'ARCT20130', 'ARCT20010', 'ARCT20100', 'CVEN20040', 'ARCT20170', 'ARCT30010', 'ARCT30030', 'ARCT30090', 'CVEN30100', 'ARCT30040', 'ARCT30100', 'ARCT30130', 'ARCT20170']\n",
      "........................['Architecture, Plan & Env Pol' 'Civil Engineering']\n",
      "\n",
      "FINISHED, SCRAPED DETAILS ON 24 MODULES, OVER 2 SCHOOLS AND 3 LEVELS\n",
      "saving to ModuleInformation\\ArchitecturePath\n",
      "saving to ModuleInformation\\ArchitecturePath\n"
     ]
    }
   ],
   "source": [
    "module_assessments, module_descriptors, error_modules, error_module_descriptors\\\n",
    "=collector(codeList=excelListReader(\"UCD_EngArch_Path_Architecture_UG_Modules.xlsx\"), foldername=\"ArchitecturePath\")"
   ]
  },
  {
   "cell_type": "code",
   "execution_count": 31,
   "id": "65a6d6fe",
   "metadata": {},
   "outputs": [
    {
     "name": "stdout",
     "output_type": "stream",
     "text": [
      "['CHEM10030', 'CHEN10040', 'CVEN10040', 'EEEN10010', 'MATH10250', 'PHYC10150', 'MATH10260', 'MEEN10030', 'MEEN10050', 'PHYC10160', 'COMP10060', 'DSCY10060', 'EEEN20020', 'MATH20290', 'MEEN20010', 'MEEN20020', 'MEEN20050', 'MEEN20030', 'MEEN20040', 'MEEN20060', 'MEEN20070', 'STAT20060', 'COMP20080', 'SCI20020', 'ACM30030', 'MEEN30030', 'MEEN30040', 'MEEN30090', 'MEEN30100', 'EEEN20090', 'EEEN30150', 'MEEN30010', 'MEEN30020', 'MEEN30140', 'MEEN30130', 'MEEN30160']\n",
      "....................................['Chemistry' 'Chem & Bioprocess Engineering' 'Civil Engineering'\n",
      " 'Electrical & Electronic Eng' 'Mathematics & Statistics' 'Physics'\n",
      " 'Mechanical & Materials Eng' 'Computer Science']\n",
      "\n",
      "FINISHED, SCRAPED DETAILS ON 36 MODULES, OVER 8 SCHOOLS AND 3 LEVELS\n",
      "saving to ModuleInformation\\MechanicalPath\n",
      "saving to ModuleInformation\\MechanicalPath\n"
     ]
    }
   ],
   "source": [
    "module_assessments, module_descriptors, error_modules, error_module_descriptors\\\n",
    "=collector(codeList=excelListReader(\"UCD_EngArch_Path_Mechanical_UG_Modules.xlsx\"), foldername=\"MechanicalPath\")"
   ]
  },
  {
   "cell_type": "code",
   "execution_count": 10,
   "id": "4f2c7edc",
   "metadata": {},
   "outputs": [
    {
     "name": "stdout",
     "output_type": "stream",
     "text": [
      "............................................................................................................................................................................................................................................................................................................................................................................................................................................................................................................................................['Electrical & Electronic Eng' 'Civil Engineering'\n",
      " 'Chem & Bioprocess Engineering' 'Biosystems & Food Engineering'\n",
      " 'Architecture, Plan & Env Pol' 'Mechanical & Materials Eng']\n",
      "\n",
      "FINISHED, SCRAPED DETAILS ON 32 MODULES, OVER 6 SCHOOLS AND 1 LEVELS\n",
      "saving to ModuleInformation\\Level=1\n",
      "saving to ModuleInformation\\Level=1\n"
     ]
    }
   ],
   "source": [
    "#Run the collector function to only collect level 1 modules in the college of Engineering and Architecture\n",
    "module_assessments, module_descriptors, error_modules, error_module_descriptors=collector(level=1)"
   ]
  },
  {
   "cell_type": "code",
   "execution_count": 11,
   "id": "143861bf",
   "metadata": {},
   "outputs": [
    {
     "name": "stdout",
     "output_type": "stream",
     "text": [
      "............................................................................................................................................................................................................................................................................................................................................................................................................................................................................................................................................['Electrical & Electronic Eng' 'Civil Engineering'\n",
      " 'Chem & Bioprocess Engineering' 'Biosystems & Food Engineering'\n",
      " 'Architecture, Plan & Env Pol' 'Mechanical & Materials Eng']\n",
      "\n",
      "FINISHED, SCRAPED DETAILS ON 55 MODULES, OVER 6 SCHOOLS AND 1 LEVELS\n",
      "saving to ModuleInformation\\Level=2\n",
      "saving to ModuleInformation\\Level=2\n"
     ]
    }
   ],
   "source": [
    "#Run the collector function to only collect level 1 modules in the college of Engineering and Architecture\n",
    "module_assessments, module_descriptors, error_modules, error_module_descriptors=collector(level=2)"
   ]
  },
  {
   "cell_type": "code",
   "execution_count": 12,
   "id": "f600d48e",
   "metadata": {},
   "outputs": [
    {
     "name": "stdout",
     "output_type": "stream",
     "text": [
      "............................................................................................................................................................................................................................................................................................................................................................................................................................................................................................................................................['Electrical & Electronic Eng' 'Civil Engineering'\n",
      " 'Chem & Bioprocess Engineering' 'Biosystems & Food Engineering'\n",
      " 'Architecture, Plan & Env Pol' 'Mechanical & Materials Eng']\n",
      "\n",
      "FINISHED, SCRAPED DETAILS ON 88 MODULES, OVER 6 SCHOOLS AND 1 LEVELS\n",
      "saving to ModuleInformation\\Level=3\n",
      "saving to ModuleInformation\\Level=3\n"
     ]
    }
   ],
   "source": [
    "#Run the collector function to only collect level 1 modules in the college of Engineering and Architecture\n",
    "module_assessments, module_descriptors, error_modules, error_module_descriptors=collector(level=3)"
   ]
  },
  {
   "cell_type": "code",
   "execution_count": 13,
   "id": "3a048019",
   "metadata": {},
   "outputs": [
    {
     "name": "stdout",
     "output_type": "stream",
     "text": [
      ".......................................................................................................................\n",
      "ERROR MODULE DETECTED.\n",
      "Module may need to be inspected, saving information as an error module and continuing without it\n",
      "..........................................................................................................................\n",
      "ERROR MODULE DETECTED.\n",
      "Module may need to be inspected, saving information as an error module and continuing without it\n",
      "...................................................\n",
      "ERROR MODULE DETECTED.\n",
      "Module may need to be inspected, saving information as an error module and continuing without it\n",
      ".\n",
      "ERROR MODULE DETECTED.\n",
      "Module may need to be inspected, saving information as an error module and continuing without it\n",
      "..\n",
      "ERROR MODULE DETECTED.\n",
      "Module may need to be inspected, saving information as an error module and continuing without it\n",
      ".....\n",
      "ERROR MODULE DETECTED.\n",
      "Module may need to be inspected, saving information as an error module and continuing without it\n",
      "...........................................................................................................................................................\n",
      "ERROR MODULE DETECTED.\n",
      "Module may need to be inspected, saving information as an error module and continuing without it\n",
      "..................\n",
      "ERROR MODULE DETECTED.\n",
      "Module may need to be inspected, saving information as an error module and continuing without it\n",
      "........................\n",
      "ERROR MODULE DETECTED.\n",
      "Module may need to be inspected, saving information as an error module and continuing without it\n",
      ".\n",
      "ERROR MODULE DETECTED.\n",
      "Module may need to be inspected, saving information as an error module and continuing without it\n",
      "..........................['Electrical & Electronic Eng' 'Civil Engineering'\n",
      " 'Chem & Bioprocess Engineering' 'Biosystems & Food Engineering'\n",
      " 'Architecture, Plan & Env Pol' 'Mechanical & Materials Eng']\n",
      "\n",
      "FINISHED, SCRAPED DETAILS ON 326 MODULES, OVER 6 SCHOOLS AND 1 LEVELS\n",
      "saving to ModuleInformation\\Level=4\n",
      "saving to ModuleInformation\\Level=4\n"
     ]
    }
   ],
   "source": [
    "#Run the collector function to only collect level 1 modules in the college of Engineering and Architecture\n",
    "module_assessments, module_descriptors, error_modules, error_module_descriptors=collector(level=4)"
   ]
  },
  {
   "cell_type": "code",
   "execution_count": 14,
   "id": "bb466c33",
   "metadata": {},
   "outputs": [
    {
     "name": "stdout",
     "output_type": "stream",
     "text": [
      "........................................................................................................................................................................................................................................................................................................................................................................................................................................................................................................................................\n",
      "ERROR MODULE DETECTED.\n",
      "Module may need to be inspected, saving information as an error module and continuing without it\n",
      "....['Electrical & Electronic Eng' 'Chem & Bioprocess Engineering'\n",
      " 'Architecture, Plan & Env Pol' 'Mechanical & Materials Eng']\n",
      "\n",
      "FINISHED, SCRAPED DETAILS ON 12 MODULES, OVER 4 SCHOOLS AND 1 LEVELS\n",
      "saving to ModuleInformation\\Level=5\n",
      "saving to ModuleInformation\\Level=5\n"
     ]
    }
   ],
   "source": [
    "#Run the collector function to only collect level 1 modules in the college of Engineering and Architecture\n",
    "module_assessments, module_descriptors, error_modules, error_module_descriptors=collector(level=5)"
   ]
  },
  {
   "cell_type": "code",
   "execution_count": 15,
   "id": "c4f0c840",
   "metadata": {},
   "outputs": [
    {
     "name": "stdout",
     "output_type": "stream",
     "text": [
      ".......................................................................................................................................................................................................................................................................................................................................................................................................................................................................\n",
      "ERROR MODULE DETECTED.\n",
      "Module may need to be inspected, saving information as an error module and continuing without it\n",
      "..................\n",
      "ERROR MODULE DETECTED.\n",
      "Module may need to be inspected, saving information as an error module and continuing without it\n",
      "........................\n",
      "ERROR MODULE DETECTED.\n",
      "Module may need to be inspected, saving information as an error module and continuing without it\n",
      ".\n",
      "ERROR MODULE DETECTED.\n",
      "Module may need to be inspected, saving information as an error module and continuing without it\n",
      "......................\n",
      "ERROR MODULE DETECTED.\n",
      "Module may need to be inspected, saving information as an error module and continuing without it\n",
      "....['Mechanical & Materials Eng']\n",
      "\n",
      "FINISHED, SCRAPED DETAILS ON 100 MODULES, OVER 1 SCHOOLS AND 5 LEVELS\n",
      "saving to ModuleInformation\\_School=Mechanical-&-Materials-Eng\n",
      "saving to ModuleInformation\\_School=Mechanical-&-Materials-Eng\n"
     ]
    }
   ],
   "source": [
    "#Run the collector function to only collect level 1 modules in the college of Engineering and Architecture\n",
    "module_assessments, module_descriptors, error_modules, error_module_descriptors=collector(school=\"Mechanical & Materials Eng\")"
   ]
  },
  {
   "cell_type": "code",
   "execution_count": 16,
   "id": "b5d9a095",
   "metadata": {},
   "outputs": [
    {
     "name": "stdout",
     "output_type": "stream",
     "text": [
      ".......................................................................................................................\n",
      "ERROR MODULE DETECTED.\n",
      "Module may need to be inspected, saving information as an error module and continuing without it\n",
      ".....................................................................................................................................................................................................................................................................................................................................................................................................................['Civil Engineering']\n",
      "\n",
      "FINISHED, SCRAPED DETAILS ON 57 MODULES, OVER 1 SCHOOLS AND 4 LEVELS\n",
      "saving to ModuleInformation\\_School=Civil-Engineering\n",
      "saving to ModuleInformation\\_School=Civil-Engineering\n"
     ]
    }
   ],
   "source": [
    "module_assessments, module_descriptors, error_modules, error_module_descriptors=collector(school=\"Civil Engineering\")"
   ]
  },
  {
   "cell_type": "code",
   "execution_count": 17,
   "id": "4cfeb136",
   "metadata": {},
   "outputs": [
    {
     "name": "stdout",
     "output_type": "stream",
     "text": [
      "............................................................................................................................................................................................................................................................................................................................................................................................................................................................................................................................................['Chem & Bioprocess Engineering']\n",
      "\n",
      "FINISHED, SCRAPED DETAILS ON 67 MODULES, OVER 1 SCHOOLS AND 5 LEVELS\n",
      "saving to ModuleInformation\\_School=Chem-&-Bioprocess-Engineering\n",
      "saving to ModuleInformation\\_School=Chem-&-Bioprocess-Engineering\n"
     ]
    }
   ],
   "source": [
    "module_assessments, module_descriptors, error_modules, error_module_descriptors=collector(school=\"Chem & Bioprocess Engineering\")"
   ]
  },
  {
   "cell_type": "code",
   "execution_count": 18,
   "id": "0415e4d5",
   "metadata": {},
   "outputs": [
    {
     "name": "stdout",
     "output_type": "stream",
     "text": [
      ".................................................................................................................................................................................................................................................\n",
      "ERROR MODULE DETECTED.\n",
      "Module may need to be inspected, saving information as an error module and continuing without it\n",
      "...........................................................................................................................................................................................................................................................................................['Biosystems & Food Engineering']\n",
      "\n",
      "FINISHED, SCRAPED DETAILS ON 64 MODULES, OVER 1 SCHOOLS AND 4 LEVELS\n",
      "saving to ModuleInformation\\_School=Biosystems-&-Food-Engineering\n",
      "saving to ModuleInformation\\_School=Biosystems-&-Food-Engineering\n"
     ]
    }
   ],
   "source": [
    "module_assessments, module_descriptors, error_modules, error_module_descriptors=collector(school=\"Biosystems & Food Engineering\")"
   ]
  },
  {
   "cell_type": "code",
   "execution_count": 19,
   "id": "5cc77435",
   "metadata": {},
   "outputs": [
    {
     "name": "stdout",
     "output_type": "stream",
     "text": [
      "....................................................................................................................................................................................................................................................................................................\n",
      "ERROR MODULE DETECTED.\n",
      "Module may need to be inspected, saving information as an error module and continuing without it\n",
      ".\n",
      "ERROR MODULE DETECTED.\n",
      "Module may need to be inspected, saving information as an error module and continuing without it\n",
      "..\n",
      "ERROR MODULE DETECTED.\n",
      "Module may need to be inspected, saving information as an error module and continuing without it\n",
      ".....\n",
      "ERROR MODULE DETECTED.\n",
      "Module may need to be inspected, saving information as an error module and continuing without it\n",
      "................................................................................................................................................................................................................................['Architecture, Plan & Env Pol']\n",
      "\n",
      "FINISHED, SCRAPED DETAILS ON 159 MODULES, OVER 1 SCHOOLS AND 5 LEVELS\n",
      "saving to ModuleInformation\\_School=Architecture,-Plan-&-Env-Pol\n",
      "saving to ModuleInformation\\_School=Architecture,-Plan-&-Env-Pol\n"
     ]
    }
   ],
   "source": [
    "module_assessments, module_descriptors, error_modules, error_module_descriptors=collector(school=\"Architecture, Plan & Env Pol\")"
   ]
  },
  {
   "cell_type": "code",
   "execution_count": 20,
   "id": "ace211cf",
   "metadata": {},
   "outputs": [
    {
     "name": "stdout",
     "output_type": "stream",
     "text": [
      "............................................................................................................................................................................................................................................................................................................................................................................................................................................................................................................................................['Electrical & Electronic Eng']\n",
      "\n",
      "FINISHED, SCRAPED DETAILS ON 66 MODULES, OVER 1 SCHOOLS AND 5 LEVELS\n",
      "saving to ModuleInformation\\_School=Electrical-&-Electronic-Eng\n",
      "saving to ModuleInformation\\_School=Electrical-&-Electronic-Eng\n"
     ]
    }
   ],
   "source": [
    "module_assessments, module_descriptors, error_modules, error_module_descriptors=collector(school=\"Electrical & Electronic Eng\")"
   ]
  },
  {
   "cell_type": "code",
   "execution_count": 21,
   "id": "1eb1851a",
   "metadata": {},
   "outputs": [],
   "source": [
    "#Inspect the error modules just in case\n",
    "for i, error in enumerate(zip(ALL_error_modules, ALL_error_module_descriptors)):\n",
    "    print(\"********ERROR COUNT %d*********\" %i)\n",
    "    print(error[0])\n",
    "    print(error[1])\n",
    "    "
   ]
  }
 ],
 "metadata": {
  "kernelspec": {
   "display_name": "Python 3 (ipykernel)",
   "language": "python",
   "name": "python3"
  },
  "language_info": {
   "codemirror_mode": {
    "name": "ipython",
    "version": 3
   },
   "file_extension": ".py",
   "mimetype": "text/x-python",
   "name": "python",
   "nbconvert_exporter": "python",
   "pygments_lexer": "ipython3",
   "version": "3.9.13"
  }
 },
 "nbformat": 4,
 "nbformat_minor": 5
}
