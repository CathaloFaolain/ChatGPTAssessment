{
 "cells": [
  {
   "cell_type": "markdown",
   "id": "b7e7b250",
   "metadata": {},
   "source": [
    "# Module Information Scraper\n",
    "This code is to scrape assessment details from UCD module-by-module. From there, we can find out how vulnerable UCD is to ChatGPT and other similar AI helpers. First we will need to import some packages to do this."
   ]
  },
  {
   "cell_type": "code",
   "execution_count": 1,
   "id": "91ddfb57",
   "metadata": {},
   "outputs": [],
   "source": [
    "import pandas as pd\n",
    "import numpy as np\n",
    "import requests\n",
    "from bs4 import BeautifulSoup\n",
    "import re\n",
    "import pathlib as Path\n",
    "import html5lib\n",
    "import json"
   ]
  },
  {
   "cell_type": "markdown",
   "id": "c6b58396",
   "metadata": {},
   "source": [
    "Next we will need to set the path to the datasets that we will use. This currently pulls in a specific file, that of MODULES.csv, which has all collected module information for the school of Engineering and Architecture. However, this could easily be changed to analyze sub-schools or other schools."
   ]
  },
  {
   "cell_type": "code",
   "execution_count": 2,
   "id": "a4b1d91d",
   "metadata": {},
   "outputs": [
    {
     "data": {
      "text/html": [
       "<div>\n",
       "<style scoped>\n",
       "    .dataframe tbody tr th:only-of-type {\n",
       "        vertical-align: middle;\n",
       "    }\n",
       "\n",
       "    .dataframe tbody tr th {\n",
       "        vertical-align: top;\n",
       "    }\n",
       "\n",
       "    .dataframe thead th {\n",
       "        text-align: right;\n",
       "    }\n",
       "</style>\n",
       "<table border=\"1\" class=\"dataframe\">\n",
       "  <thead>\n",
       "    <tr style=\"text-align: right;\">\n",
       "      <th></th>\n",
       "      <th>Code</th>\n",
       "      <th>Module</th>\n",
       "      <th>School</th>\n",
       "    </tr>\n",
       "  </thead>\n",
       "  <tbody>\n",
       "    <tr>\n",
       "      <th>0</th>\n",
       "      <td>DSCY10060</td>\n",
       "      <td>Energy, Climate Change &amp; Policy</td>\n",
       "      <td>EEE</td>\n",
       "    </tr>\n",
       "    <tr>\n",
       "      <th>1</th>\n",
       "      <td>EEEN10010</td>\n",
       "      <td>Electronic and Electrical Engineering I</td>\n",
       "      <td>EEE</td>\n",
       "    </tr>\n",
       "    <tr>\n",
       "      <th>2</th>\n",
       "      <td>EEEN10020</td>\n",
       "      <td>Robotics Design Project</td>\n",
       "      <td>EEE</td>\n",
       "    </tr>\n",
       "    <tr>\n",
       "      <th>3</th>\n",
       "      <td>EEEN20010</td>\n",
       "      <td>Computer Engineering</td>\n",
       "      <td>EEE</td>\n",
       "    </tr>\n",
       "    <tr>\n",
       "      <th>4</th>\n",
       "      <td>EEEN20020</td>\n",
       "      <td>Electrical and Electronic Circuits</td>\n",
       "      <td>EEE</td>\n",
       "    </tr>\n",
       "    <tr>\n",
       "      <th>...</th>\n",
       "      <td>...</td>\n",
       "      <td>...</td>\n",
       "      <td>...</td>\n",
       "    </tr>\n",
       "    <tr>\n",
       "      <th>519</th>\n",
       "      <td>MEEN50050</td>\n",
       "      <td>Creative Thinking &amp; Innovation</td>\n",
       "      <td>MME</td>\n",
       "    </tr>\n",
       "    <tr>\n",
       "      <th>520</th>\n",
       "      <td>MEEN50060</td>\n",
       "      <td>Research Techniques Space Eng</td>\n",
       "      <td>MME</td>\n",
       "    </tr>\n",
       "    <tr>\n",
       "      <th>521</th>\n",
       "      <td>MEEN50070</td>\n",
       "      <td>Industrial Research I</td>\n",
       "      <td>MME</td>\n",
       "    </tr>\n",
       "    <tr>\n",
       "      <th>522</th>\n",
       "      <td>MEEN50080</td>\n",
       "      <td>Industrial Research II</td>\n",
       "      <td>MME</td>\n",
       "    </tr>\n",
       "    <tr>\n",
       "      <th>523</th>\n",
       "      <td>MEEN50090</td>\n",
       "      <td>Industrial Research III</td>\n",
       "      <td>MME</td>\n",
       "    </tr>\n",
       "  </tbody>\n",
       "</table>\n",
       "<p>524 rows × 3 columns</p>\n",
       "</div>"
      ],
      "text/plain": [
       "          Code                                   Module School\n",
       "0    DSCY10060          Energy, Climate Change & Policy    EEE\n",
       "1    EEEN10010  Electronic and Electrical Engineering I    EEE\n",
       "2    EEEN10020                  Robotics Design Project    EEE\n",
       "3    EEEN20010                     Computer Engineering    EEE\n",
       "4    EEEN20020       Electrical and Electronic Circuits    EEE\n",
       "..         ...                                      ...    ...\n",
       "519  MEEN50050           Creative Thinking & Innovation    MME\n",
       "520  MEEN50060            Research Techniques Space Eng    MME\n",
       "521  MEEN50070                    Industrial Research I    MME\n",
       "522  MEEN50080                   Industrial Research II    MME\n",
       "523  MEEN50090                  Industrial Research III    MME\n",
       "\n",
       "[524 rows x 3 columns]"
      ]
     },
     "execution_count": 2,
     "metadata": {},
     "output_type": "execute_result"
    }
   ],
   "source": [
    "dir_raw=Path.Path(\"Datasets\")\n",
    "\n",
    "moduleCodes= dir_raw / \"MODULES.csv\"\n",
    "\n",
    "modules=pd.read_csv(moduleCodes)\n",
    "\n",
    "modules"
   ]
  },
  {
   "cell_type": "markdown",
   "id": "8b852b57",
   "metadata": {},
   "source": [
    "The module descriptor scraper pulls all module descriptor information from the UCD module website. This includes information such as who runs the module, and importantly for our analysis, the number of credits for each module."
   ]
  },
  {
   "cell_type": "code",
   "execution_count": 27,
   "id": "98326584",
   "metadata": {},
   "outputs": [],
   "source": [
    "def module_descriptor_scraper(url, code, codeList=None, level=None, school=None):\n",
    "    #url= \"https://hub.ucd.ie/usis/!W_HU_MENU.P_PUBLISH?p_tag=MODULE&MODULE=\" + modules.iloc[0][\"Code\"]\n",
    "\n",
    "    request=requests.get(url)\n",
    "    soup=BeautifulSoup(request.content, 'html.parser')\n",
    "\n",
    "#print(soup)\n",
    "#Create all_h1_tags as empty list\n",
    "    descriptor_list={}\n",
    "\n",
    "# Set all_h1_tags to all h1 tags of the soup\n",
    "    for element in soup.select('dl'):\n",
    "        credit_list=element.text\n",
    "        for items in zip(soup.select('dt'), soup.select('dd')):\n",
    "            #print(items[0].text + \" \" + items[1].text)\n",
    "            descriptor_list[items[0].text]=items[1].text\n",
    "        #descriptor_item.append(items[1])\n",
    "        \n",
    "#print(\"%d , %d\" %(len(descriptor_type),len(descriptor_item)))\n",
    "\n",
    "    \n",
    "    module_descriptor=pd.Series(descriptor_list)\n",
    "    module_descriptor[\"Credits:\"]=pd.to_numeric(module_descriptor[\"Credits:\"], errors='coerce')\n",
    "    #print(module_descriptor)\n",
    "#print(element)\n",
    "\n",
    "    filtered=False\n",
    "    \n",
    "    #If filters exist, check that the module is not filtered out\n",
    "    if (level != None):\n",
    "        filtered= (pd.to_numeric(module_descriptor[\"Level:\"].split('(')[0], errors='ignore') != level)\n",
    "                   \n",
    "    #If it wasn't filtered out by level, check if it is filtered out by school\n",
    "    if (filtered == False) and (school != None):\n",
    "        filtered = (module_descriptor[\"School:\"] != school)\n",
    "                   \n",
    "\n",
    "    if (filtered ==False) and (codeList != None):\n",
    "        filtered=any(code==allowed_codes  for allowed_codes in codeList)\n",
    "        if filtered:\n",
    "            print(\"%s is in list : %s\" %(code, filtered))\n",
    "\n",
    "    return module_descriptor, filtered"
   ]
  },
  {
   "cell_type": "code",
   "execution_count": 24,
   "id": "cb159fbe",
   "metadata": {},
   "outputs": [],
   "source": [
    "#This asserts that the filter works correctly\n",
    "def assert_filtered(module_descriptors, level=None, school=None):\n",
    "    all_descriptors=pd.concat(module_descriptors)\n",
    "    \n",
    "    if level !=None:\n",
    "        assert (all_descriptors[\"Level:\"].nunique() == 1)\n",
    "    if school != None:\n",
    "        assert (all_descriptors[\"School:\"].nunique() == 1)\n",
    "        \n",
    "    print(all_descriptors[\"School:\"].unique())\n",
    "    return all_descriptors[\"School:\"].nunique(), all_descriptors[\"Level:\"].nunique()"
   ]
  },
  {
   "cell_type": "markdown",
   "id": "8d7516c8",
   "metadata": {},
   "source": [
    "The below code collects all module assessment and module descriptor information into two lists. It also creates a \"Scaled % of Final Grade\" column in the asssessment table. This weights the assessment based on the number of credits the module has overall. In this way, the median and normal amount of credits, 5.0, has assessments weighting that add up to 100%. Those above and below are given assessment weightings that scale with how much more or less they are worth then a normal module - a 10 credit module will have assessments that add up to 200%, because they are worth twice the amount as a normal module.\n",
    "\n",
    "Error module details are stored for inspection later, to see why they occurred. The code continues on even if errors occur, after having stored these details it simply proceeds to the next module."
   ]
  },
  {
   "cell_type": "code",
   "execution_count": 25,
   "id": "b93e1df4",
   "metadata": {},
   "outputs": [],
   "source": [
    "def save_module_files(module_assessments, module_descriptors, level, school):\n",
    "    #The directory to save outputs to\n",
    "    dir_output=Path.Path(\"ModuleInformation\")\n",
    "    dir_output.mkdir(parents=True, exist_ok=True)\n",
    "    \n",
    "    \n",
    "    #filenames={module_assessments: \"assessments\", module_descriptors:\"descriptors\"}\n",
    "    subdirectory=\"\"\n",
    "    #Save the file in its desired format\n",
    "    if level != None:\n",
    "        subdirectory+=\"Level=%d\" %(level)\n",
    "        \n",
    "    if school != None:\n",
    "        subdirectory+=\"_School=\"+school.replace(\" \", \"-\")\n",
    "    \n",
    "    #if the modules have been filtered, and thus belong in a sub directory, make that directory\n",
    "    if len(subdirectory) > 0:\n",
    "        dir_output=dir_output / subdirectory\n",
    "        dir_output.mkdir(parents=True, exist_ok=True)\n",
    "        \n",
    "    #Save our two module detail files\n",
    "    with open(dir_output / \"assessments.json\", 'w') as outfile:\n",
    "        if len(module_assessments) > 2:\n",
    "            module_assessments=pd.concat(module_assessments, ignore_index=True)\n",
    "            #print(module_assessments)\n",
    "        print(\"saving to %s\" % dir_output)\n",
    "        outfile.write(module_assessments.to_json())\n",
    "        \n",
    "    with open(dir_output / \"descriptors.json\", 'w') as outfile:\n",
    "        print(\"saving to %s\" % dir_output)\n",
    "        if len(module_descriptors) > 2:\n",
    "            module_descriptors=pd.DataFrame(module_descriptors)\n",
    "        outfile.write(module_descriptors.to_json())"
   ]
  },
  {
   "cell_type": "code",
   "execution_count": 28,
   "id": "8a910083",
   "metadata": {
    "scrolled": true
   },
   "outputs": [],
   "source": [
    "#This functiom will allow school and year functions to be placed on it\n",
    "def collector(codeList=None, level=None, school=None):\n",
    "    #This stores module information\n",
    "    module_assessments=[]\n",
    "    module_descriptors=[]\n",
    "\n",
    "    #This stores error module information\n",
    "    error_modules=[]\n",
    "    error_module_descriptors=[]\n",
    "\n",
    "    for i in modules.iloc:\n",
    "        print(\".\",end=\"\")\n",
    "        url= \"https://hub.ucd.ie/usis/!W_HU_MENU.P_PUBLISH?p_tag=MODULE&MODULE=\" + i[\"Code\"]\n",
    "\n",
    "        #Get the module descriptor\n",
    "        descriptor, filtered=module_descriptor_scraper(url, i[\"Code\"], codeList=codeList, level=level, school=school)\n",
    "        #If the module is in violation of the filters, continue to the next without saving\n",
    "        if filtered==True:\n",
    "            continue\n",
    "        #Use pandas to read in the asssessment html tables too\n",
    "        table=pd.read_html(url, match=\"Description\")\n",
    "        \n",
    "        #print(descriptor)\n",
    "        #Get the first table, and turn it into a dataframe\n",
    "        df=pd.DataFrame(table[0])\n",
    "        df[\"Assessment Type\"] = df['Description'].str.split(':').str[0]\n",
    "        try:\n",
    "            df[\"Scaled % of Final Grade\"]= df['% of Final Grade'].apply(lambda x: x * (descriptor[\"Credits:\"]/5.0))\n",
    "        except:\n",
    "            print(\"\\nERROR MODULE DETECTED.\")\n",
    "            #print(df[\"% of Final Grade\"])\n",
    "            #print(descriptor[\"Credits:\"])\n",
    "            print(\"Module may need to be inspected, saving information as an error module and continuing without it\")\n",
    "        \n",
    "            error_modules.append(df)\n",
    "            error_module_descriptors.append(descriptor)\n",
    "            #Continue after noting and saving the error\n",
    "            continue\n",
    "        \n",
    "        #Append the dataframe to the module assessments list\n",
    "        module_assessments.append(df)\n",
    "        module_descriptors.append(descriptor)\n",
    "    \n",
    "    #This asserts that the filters were properly imposed, if imposed at all\n",
    "    num_schools, num_levels=assert_filtered(module_descriptors, level, school)\n",
    "\n",
    "    print(\"\\nFINISHED, SCRAPED DETAILS ON %d MODULES, OVER %d SCHOOLS AND %d LEVELS\" \\\n",
    "          %(len(module_assessments), num_schools, num_levels))\n",
    "    \n",
    "    #Save the output files\n",
    "    save_module_files(module_assessments, module_descriptors, level, school)\n",
    "    \n",
    "    return module_assessments, module_descriptors, error_modules, error_module_descriptors\n",
    "\n"
   ]
  },
  {
   "cell_type": "code",
   "execution_count": null,
   "id": "a7b4943b",
   "metadata": {},
   "outputs": [],
   "source": [
    "#Run the above function in its base form\n",
    "module_assessments, module_descriptors, error_modules, error_module_descriptors=collector()"
   ]
  },
  {
   "cell_type": "code",
   "execution_count": 15,
   "id": "7ec20e8a",
   "metadata": {},
   "outputs": [
    {
     "name": "stdout",
     "output_type": "stream",
     "text": [
      "[['EEEN20020'], ['MEEN20010'], ['MEEN20020'], ['MEEN20050'], ['MEEN20030'], ['MEEN20040'], ['MEEN20060'], ['MEEN20070'], ['MEEN30030'], ['MEEN30040'], ['MEEN30090'], ['MEEN30100'], ['EEEN20090'], ['EEEN30150'], ['MEEN30010'], ['MEEN30020'], ['MEEN30140'], ['CHEN10040'], ['CVEN10040'], ['EEEN10010'], ['MEEN10030'], ['MEEN10050']]\n"
     ]
    }
   ],
   "source": [
    "coreCodes= dir_raw / \"UCD_EngArch_Mech_UG_Modules.xlsx\"\n",
    "\n",
    "coreModules=pd.read_excel(coreCodes, header=None)\n",
    "\n",
    "coreList=coreModules.values.tolist()\n",
    "\n",
    "print(coreList)"
   ]
  },
  {
   "cell_type": "code",
   "execution_count": null,
   "id": "5b129e89",
   "metadata": {},
   "outputs": [
    {
     "name": "stdout",
     "output_type": "stream",
     "text": [
      ".......................................................................................................................\n",
      "ERROR MODULE DETECTED.\n",
      "Module may need to be inspected, saving information as an error module and continuing without it\n",
      "..........................................................."
     ]
    }
   ],
   "source": [
    "module_assessments, module_descriptors, error_modules, error_module_descriptors=collector(codeList=coreList)"
   ]
  },
  {
   "cell_type": "code",
   "execution_count": 7,
   "id": "4f2c7edc",
   "metadata": {},
   "outputs": [
    {
     "name": "stdout",
     "output_type": "stream",
     "text": [
      "............................................................................................................................................................................................................................................................................................................................................................................................................................................................................................................................................['Electrical & Electronic Eng' 'Civil Engineering'\n",
      " 'Chem & Bioprocess Engineering' 'Biosystems & Food Engineering'\n",
      " 'Architecture, Plan & Env Pol' 'Mechanical & Materials Eng']\n",
      "\n",
      "FINISHED, SCRAPED DETAILS ON 32 MODULES, OVER 6 SCHOOLS AND 1 LEVELS\n",
      "saving to ModuleInformation\\Level=1\n",
      "saving to ModuleInformation\\Level=1\n"
     ]
    }
   ],
   "source": [
    "#Run the collector function to only collect level 1 modules in the college of Engineering and Architecture\n",
    "module_assessments, module_descriptors, error_modules, error_module_descriptors=collector(level=1)"
   ]
  },
  {
   "cell_type": "code",
   "execution_count": 8,
   "id": "143861bf",
   "metadata": {},
   "outputs": [
    {
     "name": "stdout",
     "output_type": "stream",
     "text": [
      "................................................................................................................."
     ]
    },
    {
     "ename": "KeyboardInterrupt",
     "evalue": "",
     "output_type": "error",
     "traceback": [
      "\u001b[1;31m---------------------------------------------------------------------------\u001b[0m",
      "\u001b[1;31mKeyboardInterrupt\u001b[0m                         Traceback (most recent call last)",
      "Cell \u001b[1;32mIn[8], line 2\u001b[0m\n\u001b[0;32m      1\u001b[0m \u001b[38;5;66;03m#Run the collector function to only collect level 1 modules in the college of Engineering and Architecture\u001b[39;00m\n\u001b[1;32m----> 2\u001b[0m module_assessments, module_descriptors, error_modules, error_module_descriptors\u001b[38;5;241m=\u001b[39m\u001b[43mcollector\u001b[49m\u001b[43m(\u001b[49m\u001b[43mlevel\u001b[49m\u001b[38;5;241;43m=\u001b[39;49m\u001b[38;5;241;43m2\u001b[39;49m\u001b[43m)\u001b[49m\n",
      "Cell \u001b[1;32mIn[6], line 16\u001b[0m, in \u001b[0;36mcollector\u001b[1;34m(level, school)\u001b[0m\n\u001b[0;32m     13\u001b[0m url\u001b[38;5;241m=\u001b[39m \u001b[38;5;124m\"\u001b[39m\u001b[38;5;124mhttps://hub.ucd.ie/usis/!W_HU_MENU.P_PUBLISH?p_tag=MODULE&MODULE=\u001b[39m\u001b[38;5;124m\"\u001b[39m \u001b[38;5;241m+\u001b[39m i[\u001b[38;5;124m\"\u001b[39m\u001b[38;5;124mCode\u001b[39m\u001b[38;5;124m\"\u001b[39m]\n\u001b[0;32m     15\u001b[0m \u001b[38;5;66;03m#Get the module descriptor\u001b[39;00m\n\u001b[1;32m---> 16\u001b[0m descriptor, filtered\u001b[38;5;241m=\u001b[39m\u001b[43mmodule_descriptor_scraper\u001b[49m\u001b[43m(\u001b[49m\u001b[43murl\u001b[49m\u001b[43m,\u001b[49m\u001b[43m \u001b[49m\u001b[43mlevel\u001b[49m\u001b[38;5;241;43m=\u001b[39;49m\u001b[43mlevel\u001b[49m\u001b[43m,\u001b[49m\u001b[43m \u001b[49m\u001b[43mschool\u001b[49m\u001b[38;5;241;43m=\u001b[39;49m\u001b[43mschool\u001b[49m\u001b[43m)\u001b[49m\n\u001b[0;32m     17\u001b[0m \u001b[38;5;66;03m#If the module is in violation of the filters, continue to the next without saving\u001b[39;00m\n\u001b[0;32m     18\u001b[0m \u001b[38;5;28;01mif\u001b[39;00m filtered\u001b[38;5;241m==\u001b[39m\u001b[38;5;28;01mTrue\u001b[39;00m:\n",
      "Cell \u001b[1;32mIn[3], line 4\u001b[0m, in \u001b[0;36mmodule_descriptor_scraper\u001b[1;34m(url, level, school)\u001b[0m\n\u001b[0;32m      1\u001b[0m \u001b[38;5;28;01mdef\u001b[39;00m \u001b[38;5;21mmodule_descriptor_scraper\u001b[39m(url, level\u001b[38;5;241m=\u001b[39m\u001b[38;5;28;01mNone\u001b[39;00m, school\u001b[38;5;241m=\u001b[39m\u001b[38;5;28;01mNone\u001b[39;00m):\n\u001b[0;32m      2\u001b[0m     \u001b[38;5;66;03m#url= \"https://hub.ucd.ie/usis/!W_HU_MENU.P_PUBLISH?p_tag=MODULE&MODULE=\" + modules.iloc[0][\"Code\"]\u001b[39;00m\n\u001b[1;32m----> 4\u001b[0m     request\u001b[38;5;241m=\u001b[39m\u001b[43mrequests\u001b[49m\u001b[38;5;241;43m.\u001b[39;49m\u001b[43mget\u001b[49m\u001b[43m(\u001b[49m\u001b[43murl\u001b[49m\u001b[43m)\u001b[49m\n\u001b[0;32m      5\u001b[0m     soup\u001b[38;5;241m=\u001b[39mBeautifulSoup(request\u001b[38;5;241m.\u001b[39mcontent, \u001b[38;5;124m'\u001b[39m\u001b[38;5;124mhtml.parser\u001b[39m\u001b[38;5;124m'\u001b[39m)\n\u001b[0;32m      7\u001b[0m \u001b[38;5;66;03m#print(soup)\u001b[39;00m\n\u001b[0;32m      8\u001b[0m \u001b[38;5;66;03m#Create all_h1_tags as empty list\u001b[39;00m\n",
      "File \u001b[1;32m~\\anaconda3\\lib\\site-packages\\requests\\api.py:73\u001b[0m, in \u001b[0;36mget\u001b[1;34m(url, params, **kwargs)\u001b[0m\n\u001b[0;32m     62\u001b[0m \u001b[38;5;28;01mdef\u001b[39;00m \u001b[38;5;21mget\u001b[39m(url, params\u001b[38;5;241m=\u001b[39m\u001b[38;5;28;01mNone\u001b[39;00m, \u001b[38;5;241m*\u001b[39m\u001b[38;5;241m*\u001b[39mkwargs):\n\u001b[0;32m     63\u001b[0m \u001b[38;5;250m    \u001b[39m\u001b[38;5;124mr\u001b[39m\u001b[38;5;124;03m\"\"\"Sends a GET request.\u001b[39;00m\n\u001b[0;32m     64\u001b[0m \n\u001b[0;32m     65\u001b[0m \u001b[38;5;124;03m    :param url: URL for the new :class:`Request` object.\u001b[39;00m\n\u001b[1;32m   (...)\u001b[0m\n\u001b[0;32m     70\u001b[0m \u001b[38;5;124;03m    :rtype: requests.Response\u001b[39;00m\n\u001b[0;32m     71\u001b[0m \u001b[38;5;124;03m    \"\"\"\u001b[39;00m\n\u001b[1;32m---> 73\u001b[0m     \u001b[38;5;28;01mreturn\u001b[39;00m request(\u001b[38;5;124m\"\u001b[39m\u001b[38;5;124mget\u001b[39m\u001b[38;5;124m\"\u001b[39m, url, params\u001b[38;5;241m=\u001b[39mparams, \u001b[38;5;241m*\u001b[39m\u001b[38;5;241m*\u001b[39mkwargs)\n",
      "File \u001b[1;32m~\\anaconda3\\lib\\site-packages\\requests\\api.py:59\u001b[0m, in \u001b[0;36mrequest\u001b[1;34m(method, url, **kwargs)\u001b[0m\n\u001b[0;32m     55\u001b[0m \u001b[38;5;66;03m# By using the 'with' statement we are sure the session is closed, thus we\u001b[39;00m\n\u001b[0;32m     56\u001b[0m \u001b[38;5;66;03m# avoid leaving sockets open which can trigger a ResourceWarning in some\u001b[39;00m\n\u001b[0;32m     57\u001b[0m \u001b[38;5;66;03m# cases, and look like a memory leak in others.\u001b[39;00m\n\u001b[0;32m     58\u001b[0m \u001b[38;5;28;01mwith\u001b[39;00m sessions\u001b[38;5;241m.\u001b[39mSession() \u001b[38;5;28;01mas\u001b[39;00m session:\n\u001b[1;32m---> 59\u001b[0m     \u001b[38;5;28;01mreturn\u001b[39;00m session\u001b[38;5;241m.\u001b[39mrequest(method\u001b[38;5;241m=\u001b[39mmethod, url\u001b[38;5;241m=\u001b[39murl, \u001b[38;5;241m*\u001b[39m\u001b[38;5;241m*\u001b[39mkwargs)\n",
      "File \u001b[1;32m~\\anaconda3\\lib\\site-packages\\requests\\sessions.py:587\u001b[0m, in \u001b[0;36mSession.request\u001b[1;34m(self, method, url, params, data, headers, cookies, files, auth, timeout, allow_redirects, proxies, hooks, stream, verify, cert, json)\u001b[0m\n\u001b[0;32m    582\u001b[0m send_kwargs \u001b[38;5;241m=\u001b[39m {\n\u001b[0;32m    583\u001b[0m     \u001b[38;5;124m\"\u001b[39m\u001b[38;5;124mtimeout\u001b[39m\u001b[38;5;124m\"\u001b[39m: timeout,\n\u001b[0;32m    584\u001b[0m     \u001b[38;5;124m\"\u001b[39m\u001b[38;5;124mallow_redirects\u001b[39m\u001b[38;5;124m\"\u001b[39m: allow_redirects,\n\u001b[0;32m    585\u001b[0m }\n\u001b[0;32m    586\u001b[0m send_kwargs\u001b[38;5;241m.\u001b[39mupdate(settings)\n\u001b[1;32m--> 587\u001b[0m resp \u001b[38;5;241m=\u001b[39m \u001b[38;5;28mself\u001b[39m\u001b[38;5;241m.\u001b[39msend(prep, \u001b[38;5;241m*\u001b[39m\u001b[38;5;241m*\u001b[39msend_kwargs)\n\u001b[0;32m    589\u001b[0m \u001b[38;5;28;01mreturn\u001b[39;00m resp\n",
      "File \u001b[1;32m~\\anaconda3\\lib\\site-packages\\requests\\sessions.py:701\u001b[0m, in \u001b[0;36mSession.send\u001b[1;34m(self, request, **kwargs)\u001b[0m\n\u001b[0;32m    698\u001b[0m start \u001b[38;5;241m=\u001b[39m preferred_clock()\n\u001b[0;32m    700\u001b[0m \u001b[38;5;66;03m# Send the request\u001b[39;00m\n\u001b[1;32m--> 701\u001b[0m r \u001b[38;5;241m=\u001b[39m adapter\u001b[38;5;241m.\u001b[39msend(request, \u001b[38;5;241m*\u001b[39m\u001b[38;5;241m*\u001b[39mkwargs)\n\u001b[0;32m    703\u001b[0m \u001b[38;5;66;03m# Total elapsed time of the request (approximately)\u001b[39;00m\n\u001b[0;32m    704\u001b[0m elapsed \u001b[38;5;241m=\u001b[39m preferred_clock() \u001b[38;5;241m-\u001b[39m start\n",
      "File \u001b[1;32m~\\anaconda3\\lib\\site-packages\\requests\\adapters.py:487\u001b[0m, in \u001b[0;36mHTTPAdapter.send\u001b[1;34m(self, request, stream, timeout, verify, cert, proxies)\u001b[0m\n\u001b[0;32m    484\u001b[0m     timeout \u001b[38;5;241m=\u001b[39m TimeoutSauce(connect\u001b[38;5;241m=\u001b[39mtimeout, read\u001b[38;5;241m=\u001b[39mtimeout)\n\u001b[0;32m    486\u001b[0m \u001b[38;5;28;01mtry\u001b[39;00m:\n\u001b[1;32m--> 487\u001b[0m     resp \u001b[38;5;241m=\u001b[39m \u001b[43mconn\u001b[49m\u001b[38;5;241;43m.\u001b[39;49m\u001b[43murlopen\u001b[49m\u001b[43m(\u001b[49m\n\u001b[0;32m    488\u001b[0m \u001b[43m        \u001b[49m\u001b[43mmethod\u001b[49m\u001b[38;5;241;43m=\u001b[39;49m\u001b[43mrequest\u001b[49m\u001b[38;5;241;43m.\u001b[39;49m\u001b[43mmethod\u001b[49m\u001b[43m,\u001b[49m\n\u001b[0;32m    489\u001b[0m \u001b[43m        \u001b[49m\u001b[43murl\u001b[49m\u001b[38;5;241;43m=\u001b[39;49m\u001b[43murl\u001b[49m\u001b[43m,\u001b[49m\n\u001b[0;32m    490\u001b[0m \u001b[43m        \u001b[49m\u001b[43mbody\u001b[49m\u001b[38;5;241;43m=\u001b[39;49m\u001b[43mrequest\u001b[49m\u001b[38;5;241;43m.\u001b[39;49m\u001b[43mbody\u001b[49m\u001b[43m,\u001b[49m\n\u001b[0;32m    491\u001b[0m \u001b[43m        \u001b[49m\u001b[43mheaders\u001b[49m\u001b[38;5;241;43m=\u001b[39;49m\u001b[43mrequest\u001b[49m\u001b[38;5;241;43m.\u001b[39;49m\u001b[43mheaders\u001b[49m\u001b[43m,\u001b[49m\n\u001b[0;32m    492\u001b[0m \u001b[43m        \u001b[49m\u001b[43mredirect\u001b[49m\u001b[38;5;241;43m=\u001b[39;49m\u001b[38;5;28;43;01mFalse\u001b[39;49;00m\u001b[43m,\u001b[49m\n\u001b[0;32m    493\u001b[0m \u001b[43m        \u001b[49m\u001b[43massert_same_host\u001b[49m\u001b[38;5;241;43m=\u001b[39;49m\u001b[38;5;28;43;01mFalse\u001b[39;49;00m\u001b[43m,\u001b[49m\n\u001b[0;32m    494\u001b[0m \u001b[43m        \u001b[49m\u001b[43mpreload_content\u001b[49m\u001b[38;5;241;43m=\u001b[39;49m\u001b[38;5;28;43;01mFalse\u001b[39;49;00m\u001b[43m,\u001b[49m\n\u001b[0;32m    495\u001b[0m \u001b[43m        \u001b[49m\u001b[43mdecode_content\u001b[49m\u001b[38;5;241;43m=\u001b[39;49m\u001b[38;5;28;43;01mFalse\u001b[39;49;00m\u001b[43m,\u001b[49m\n\u001b[0;32m    496\u001b[0m \u001b[43m        \u001b[49m\u001b[43mretries\u001b[49m\u001b[38;5;241;43m=\u001b[39;49m\u001b[38;5;28;43mself\u001b[39;49m\u001b[38;5;241;43m.\u001b[39;49m\u001b[43mmax_retries\u001b[49m\u001b[43m,\u001b[49m\n\u001b[0;32m    497\u001b[0m \u001b[43m        \u001b[49m\u001b[43mtimeout\u001b[49m\u001b[38;5;241;43m=\u001b[39;49m\u001b[43mtimeout\u001b[49m\u001b[43m,\u001b[49m\n\u001b[0;32m    498\u001b[0m \u001b[43m        \u001b[49m\u001b[43mchunked\u001b[49m\u001b[38;5;241;43m=\u001b[39;49m\u001b[43mchunked\u001b[49m\u001b[43m,\u001b[49m\n\u001b[0;32m    499\u001b[0m \u001b[43m    \u001b[49m\u001b[43m)\u001b[49m\n\u001b[0;32m    501\u001b[0m \u001b[38;5;28;01mexcept\u001b[39;00m (ProtocolError, \u001b[38;5;167;01mOSError\u001b[39;00m) \u001b[38;5;28;01mas\u001b[39;00m err:\n\u001b[0;32m    502\u001b[0m     \u001b[38;5;28;01mraise\u001b[39;00m \u001b[38;5;167;01mConnectionError\u001b[39;00m(err, request\u001b[38;5;241m=\u001b[39mrequest)\n",
      "File \u001b[1;32m~\\anaconda3\\lib\\site-packages\\urllib3\\connectionpool.py:703\u001b[0m, in \u001b[0;36mHTTPConnectionPool.urlopen\u001b[1;34m(self, method, url, body, headers, retries, redirect, assert_same_host, timeout, pool_timeout, release_conn, chunked, body_pos, **response_kw)\u001b[0m\n\u001b[0;32m    700\u001b[0m     \u001b[38;5;28mself\u001b[39m\u001b[38;5;241m.\u001b[39m_prepare_proxy(conn)\n\u001b[0;32m    702\u001b[0m \u001b[38;5;66;03m# Make the request on the httplib connection object.\u001b[39;00m\n\u001b[1;32m--> 703\u001b[0m httplib_response \u001b[38;5;241m=\u001b[39m \u001b[38;5;28;43mself\u001b[39;49m\u001b[38;5;241;43m.\u001b[39;49m\u001b[43m_make_request\u001b[49m\u001b[43m(\u001b[49m\n\u001b[0;32m    704\u001b[0m \u001b[43m    \u001b[49m\u001b[43mconn\u001b[49m\u001b[43m,\u001b[49m\n\u001b[0;32m    705\u001b[0m \u001b[43m    \u001b[49m\u001b[43mmethod\u001b[49m\u001b[43m,\u001b[49m\n\u001b[0;32m    706\u001b[0m \u001b[43m    \u001b[49m\u001b[43murl\u001b[49m\u001b[43m,\u001b[49m\n\u001b[0;32m    707\u001b[0m \u001b[43m    \u001b[49m\u001b[43mtimeout\u001b[49m\u001b[38;5;241;43m=\u001b[39;49m\u001b[43mtimeout_obj\u001b[49m\u001b[43m,\u001b[49m\n\u001b[0;32m    708\u001b[0m \u001b[43m    \u001b[49m\u001b[43mbody\u001b[49m\u001b[38;5;241;43m=\u001b[39;49m\u001b[43mbody\u001b[49m\u001b[43m,\u001b[49m\n\u001b[0;32m    709\u001b[0m \u001b[43m    \u001b[49m\u001b[43mheaders\u001b[49m\u001b[38;5;241;43m=\u001b[39;49m\u001b[43mheaders\u001b[49m\u001b[43m,\u001b[49m\n\u001b[0;32m    710\u001b[0m \u001b[43m    \u001b[49m\u001b[43mchunked\u001b[49m\u001b[38;5;241;43m=\u001b[39;49m\u001b[43mchunked\u001b[49m\u001b[43m,\u001b[49m\n\u001b[0;32m    711\u001b[0m \u001b[43m\u001b[49m\u001b[43m)\u001b[49m\n\u001b[0;32m    713\u001b[0m \u001b[38;5;66;03m# If we're going to release the connection in ``finally:``, then\u001b[39;00m\n\u001b[0;32m    714\u001b[0m \u001b[38;5;66;03m# the response doesn't need to know about the connection. Otherwise\u001b[39;00m\n\u001b[0;32m    715\u001b[0m \u001b[38;5;66;03m# it will also try to release it and we'll have a double-release\u001b[39;00m\n\u001b[0;32m    716\u001b[0m \u001b[38;5;66;03m# mess.\u001b[39;00m\n\u001b[0;32m    717\u001b[0m response_conn \u001b[38;5;241m=\u001b[39m conn \u001b[38;5;28;01mif\u001b[39;00m \u001b[38;5;129;01mnot\u001b[39;00m release_conn \u001b[38;5;28;01melse\u001b[39;00m \u001b[38;5;28;01mNone\u001b[39;00m\n",
      "File \u001b[1;32m~\\anaconda3\\lib\\site-packages\\urllib3\\connectionpool.py:449\u001b[0m, in \u001b[0;36mHTTPConnectionPool._make_request\u001b[1;34m(self, conn, method, url, timeout, chunked, **httplib_request_kw)\u001b[0m\n\u001b[0;32m    444\u001b[0m             httplib_response \u001b[38;5;241m=\u001b[39m conn\u001b[38;5;241m.\u001b[39mgetresponse()\n\u001b[0;32m    445\u001b[0m         \u001b[38;5;28;01mexcept\u001b[39;00m \u001b[38;5;167;01mBaseException\u001b[39;00m \u001b[38;5;28;01mas\u001b[39;00m e:\n\u001b[0;32m    446\u001b[0m             \u001b[38;5;66;03m# Remove the TypeError from the exception chain in\u001b[39;00m\n\u001b[0;32m    447\u001b[0m             \u001b[38;5;66;03m# Python 3 (including for exceptions like SystemExit).\u001b[39;00m\n\u001b[0;32m    448\u001b[0m             \u001b[38;5;66;03m# Otherwise it looks like a bug in the code.\u001b[39;00m\n\u001b[1;32m--> 449\u001b[0m             \u001b[43msix\u001b[49m\u001b[38;5;241;43m.\u001b[39;49m\u001b[43mraise_from\u001b[49m\u001b[43m(\u001b[49m\u001b[43me\u001b[49m\u001b[43m,\u001b[49m\u001b[43m \u001b[49m\u001b[38;5;28;43;01mNone\u001b[39;49;00m\u001b[43m)\u001b[49m\n\u001b[0;32m    450\u001b[0m \u001b[38;5;28;01mexcept\u001b[39;00m (SocketTimeout, BaseSSLError, SocketError) \u001b[38;5;28;01mas\u001b[39;00m e:\n\u001b[0;32m    451\u001b[0m     \u001b[38;5;28mself\u001b[39m\u001b[38;5;241m.\u001b[39m_raise_timeout(err\u001b[38;5;241m=\u001b[39me, url\u001b[38;5;241m=\u001b[39murl, timeout_value\u001b[38;5;241m=\u001b[39mread_timeout)\n",
      "File \u001b[1;32m<string>:3\u001b[0m, in \u001b[0;36mraise_from\u001b[1;34m(value, from_value)\u001b[0m\n",
      "File \u001b[1;32m~\\anaconda3\\lib\\site-packages\\urllib3\\connectionpool.py:444\u001b[0m, in \u001b[0;36mHTTPConnectionPool._make_request\u001b[1;34m(self, conn, method, url, timeout, chunked, **httplib_request_kw)\u001b[0m\n\u001b[0;32m    441\u001b[0m \u001b[38;5;28;01mexcept\u001b[39;00m \u001b[38;5;167;01mTypeError\u001b[39;00m:\n\u001b[0;32m    442\u001b[0m     \u001b[38;5;66;03m# Python 3\u001b[39;00m\n\u001b[0;32m    443\u001b[0m     \u001b[38;5;28;01mtry\u001b[39;00m:\n\u001b[1;32m--> 444\u001b[0m         httplib_response \u001b[38;5;241m=\u001b[39m \u001b[43mconn\u001b[49m\u001b[38;5;241;43m.\u001b[39;49m\u001b[43mgetresponse\u001b[49m\u001b[43m(\u001b[49m\u001b[43m)\u001b[49m\n\u001b[0;32m    445\u001b[0m     \u001b[38;5;28;01mexcept\u001b[39;00m \u001b[38;5;167;01mBaseException\u001b[39;00m \u001b[38;5;28;01mas\u001b[39;00m e:\n\u001b[0;32m    446\u001b[0m         \u001b[38;5;66;03m# Remove the TypeError from the exception chain in\u001b[39;00m\n\u001b[0;32m    447\u001b[0m         \u001b[38;5;66;03m# Python 3 (including for exceptions like SystemExit).\u001b[39;00m\n\u001b[0;32m    448\u001b[0m         \u001b[38;5;66;03m# Otherwise it looks like a bug in the code.\u001b[39;00m\n\u001b[0;32m    449\u001b[0m         six\u001b[38;5;241m.\u001b[39mraise_from(e, \u001b[38;5;28;01mNone\u001b[39;00m)\n",
      "File \u001b[1;32m~\\anaconda3\\lib\\http\\client.py:1377\u001b[0m, in \u001b[0;36mHTTPConnection.getresponse\u001b[1;34m(self)\u001b[0m\n\u001b[0;32m   1375\u001b[0m \u001b[38;5;28;01mtry\u001b[39;00m:\n\u001b[0;32m   1376\u001b[0m     \u001b[38;5;28;01mtry\u001b[39;00m:\n\u001b[1;32m-> 1377\u001b[0m         \u001b[43mresponse\u001b[49m\u001b[38;5;241;43m.\u001b[39;49m\u001b[43mbegin\u001b[49m\u001b[43m(\u001b[49m\u001b[43m)\u001b[49m\n\u001b[0;32m   1378\u001b[0m     \u001b[38;5;28;01mexcept\u001b[39;00m \u001b[38;5;167;01mConnectionError\u001b[39;00m:\n\u001b[0;32m   1379\u001b[0m         \u001b[38;5;28mself\u001b[39m\u001b[38;5;241m.\u001b[39mclose()\n",
      "File \u001b[1;32m~\\anaconda3\\lib\\http\\client.py:320\u001b[0m, in \u001b[0;36mHTTPResponse.begin\u001b[1;34m(self)\u001b[0m\n\u001b[0;32m    318\u001b[0m \u001b[38;5;66;03m# read until we get a non-100 response\u001b[39;00m\n\u001b[0;32m    319\u001b[0m \u001b[38;5;28;01mwhile\u001b[39;00m \u001b[38;5;28;01mTrue\u001b[39;00m:\n\u001b[1;32m--> 320\u001b[0m     version, status, reason \u001b[38;5;241m=\u001b[39m \u001b[38;5;28;43mself\u001b[39;49m\u001b[38;5;241;43m.\u001b[39;49m\u001b[43m_read_status\u001b[49m\u001b[43m(\u001b[49m\u001b[43m)\u001b[49m\n\u001b[0;32m    321\u001b[0m     \u001b[38;5;28;01mif\u001b[39;00m status \u001b[38;5;241m!=\u001b[39m CONTINUE:\n\u001b[0;32m    322\u001b[0m         \u001b[38;5;28;01mbreak\u001b[39;00m\n",
      "File \u001b[1;32m~\\anaconda3\\lib\\http\\client.py:281\u001b[0m, in \u001b[0;36mHTTPResponse._read_status\u001b[1;34m(self)\u001b[0m\n\u001b[0;32m    280\u001b[0m \u001b[38;5;28;01mdef\u001b[39;00m \u001b[38;5;21m_read_status\u001b[39m(\u001b[38;5;28mself\u001b[39m):\n\u001b[1;32m--> 281\u001b[0m     line \u001b[38;5;241m=\u001b[39m \u001b[38;5;28mstr\u001b[39m(\u001b[38;5;28;43mself\u001b[39;49m\u001b[38;5;241;43m.\u001b[39;49m\u001b[43mfp\u001b[49m\u001b[38;5;241;43m.\u001b[39;49m\u001b[43mreadline\u001b[49m\u001b[43m(\u001b[49m\u001b[43m_MAXLINE\u001b[49m\u001b[43m \u001b[49m\u001b[38;5;241;43m+\u001b[39;49m\u001b[43m \u001b[49m\u001b[38;5;241;43m1\u001b[39;49m\u001b[43m)\u001b[49m, \u001b[38;5;124m\"\u001b[39m\u001b[38;5;124miso-8859-1\u001b[39m\u001b[38;5;124m\"\u001b[39m)\n\u001b[0;32m    282\u001b[0m     \u001b[38;5;28;01mif\u001b[39;00m \u001b[38;5;28mlen\u001b[39m(line) \u001b[38;5;241m>\u001b[39m _MAXLINE:\n\u001b[0;32m    283\u001b[0m         \u001b[38;5;28;01mraise\u001b[39;00m LineTooLong(\u001b[38;5;124m\"\u001b[39m\u001b[38;5;124mstatus line\u001b[39m\u001b[38;5;124m\"\u001b[39m)\n",
      "File \u001b[1;32m~\\anaconda3\\lib\\socket.py:704\u001b[0m, in \u001b[0;36mSocketIO.readinto\u001b[1;34m(self, b)\u001b[0m\n\u001b[0;32m    702\u001b[0m \u001b[38;5;28;01mwhile\u001b[39;00m \u001b[38;5;28;01mTrue\u001b[39;00m:\n\u001b[0;32m    703\u001b[0m     \u001b[38;5;28;01mtry\u001b[39;00m:\n\u001b[1;32m--> 704\u001b[0m         \u001b[38;5;28;01mreturn\u001b[39;00m \u001b[38;5;28;43mself\u001b[39;49m\u001b[38;5;241;43m.\u001b[39;49m\u001b[43m_sock\u001b[49m\u001b[38;5;241;43m.\u001b[39;49m\u001b[43mrecv_into\u001b[49m\u001b[43m(\u001b[49m\u001b[43mb\u001b[49m\u001b[43m)\u001b[49m\n\u001b[0;32m    705\u001b[0m     \u001b[38;5;28;01mexcept\u001b[39;00m timeout:\n\u001b[0;32m    706\u001b[0m         \u001b[38;5;28mself\u001b[39m\u001b[38;5;241m.\u001b[39m_timeout_occurred \u001b[38;5;241m=\u001b[39m \u001b[38;5;28;01mTrue\u001b[39;00m\n",
      "File \u001b[1;32m~\\anaconda3\\lib\\ssl.py:1242\u001b[0m, in \u001b[0;36mSSLSocket.recv_into\u001b[1;34m(self, buffer, nbytes, flags)\u001b[0m\n\u001b[0;32m   1238\u001b[0m     \u001b[38;5;28;01mif\u001b[39;00m flags \u001b[38;5;241m!=\u001b[39m \u001b[38;5;241m0\u001b[39m:\n\u001b[0;32m   1239\u001b[0m         \u001b[38;5;28;01mraise\u001b[39;00m \u001b[38;5;167;01mValueError\u001b[39;00m(\n\u001b[0;32m   1240\u001b[0m           \u001b[38;5;124m\"\u001b[39m\u001b[38;5;124mnon-zero flags not allowed in calls to recv_into() on \u001b[39m\u001b[38;5;132;01m%s\u001b[39;00m\u001b[38;5;124m\"\u001b[39m \u001b[38;5;241m%\u001b[39m\n\u001b[0;32m   1241\u001b[0m           \u001b[38;5;28mself\u001b[39m\u001b[38;5;241m.\u001b[39m\u001b[38;5;18m__class__\u001b[39m)\n\u001b[1;32m-> 1242\u001b[0m     \u001b[38;5;28;01mreturn\u001b[39;00m \u001b[38;5;28;43mself\u001b[39;49m\u001b[38;5;241;43m.\u001b[39;49m\u001b[43mread\u001b[49m\u001b[43m(\u001b[49m\u001b[43mnbytes\u001b[49m\u001b[43m,\u001b[49m\u001b[43m \u001b[49m\u001b[43mbuffer\u001b[49m\u001b[43m)\u001b[49m\n\u001b[0;32m   1243\u001b[0m \u001b[38;5;28;01melse\u001b[39;00m:\n\u001b[0;32m   1244\u001b[0m     \u001b[38;5;28;01mreturn\u001b[39;00m \u001b[38;5;28msuper\u001b[39m()\u001b[38;5;241m.\u001b[39mrecv_into(buffer, nbytes, flags)\n",
      "File \u001b[1;32m~\\anaconda3\\lib\\ssl.py:1100\u001b[0m, in \u001b[0;36mSSLSocket.read\u001b[1;34m(self, len, buffer)\u001b[0m\n\u001b[0;32m   1098\u001b[0m \u001b[38;5;28;01mtry\u001b[39;00m:\n\u001b[0;32m   1099\u001b[0m     \u001b[38;5;28;01mif\u001b[39;00m buffer \u001b[38;5;129;01mis\u001b[39;00m \u001b[38;5;129;01mnot\u001b[39;00m \u001b[38;5;28;01mNone\u001b[39;00m:\n\u001b[1;32m-> 1100\u001b[0m         \u001b[38;5;28;01mreturn\u001b[39;00m \u001b[38;5;28;43mself\u001b[39;49m\u001b[38;5;241;43m.\u001b[39;49m\u001b[43m_sslobj\u001b[49m\u001b[38;5;241;43m.\u001b[39;49m\u001b[43mread\u001b[49m\u001b[43m(\u001b[49m\u001b[38;5;28;43mlen\u001b[39;49m\u001b[43m,\u001b[49m\u001b[43m \u001b[49m\u001b[43mbuffer\u001b[49m\u001b[43m)\u001b[49m\n\u001b[0;32m   1101\u001b[0m     \u001b[38;5;28;01melse\u001b[39;00m:\n\u001b[0;32m   1102\u001b[0m         \u001b[38;5;28;01mreturn\u001b[39;00m \u001b[38;5;28mself\u001b[39m\u001b[38;5;241m.\u001b[39m_sslobj\u001b[38;5;241m.\u001b[39mread(\u001b[38;5;28mlen\u001b[39m)\n",
      "\u001b[1;31mKeyboardInterrupt\u001b[0m: "
     ]
    }
   ],
   "source": [
    "#Run the collector function to only collect level 1 modules in the college of Engineering and Architecture\n",
    "module_assessments, module_descriptors, error_modules, error_module_descriptors=collector(level=2)"
   ]
  },
  {
   "cell_type": "code",
   "execution_count": null,
   "id": "f600d48e",
   "metadata": {},
   "outputs": [],
   "source": [
    "#Run the collector function to only collect level 1 modules in the college of Engineering and Architecture\n",
    "module_assessments, module_descriptors, error_modules, error_module_descriptors=collector(level=3)"
   ]
  },
  {
   "cell_type": "code",
   "execution_count": null,
   "id": "3a048019",
   "metadata": {},
   "outputs": [],
   "source": [
    "#Run the collector function to only collect level 1 modules in the college of Engineering and Architecture\n",
    "module_assessments, module_descriptors, error_modules, error_module_descriptors=collector(level=4)"
   ]
  },
  {
   "cell_type": "code",
   "execution_count": null,
   "id": "bb466c33",
   "metadata": {},
   "outputs": [],
   "source": [
    "#Run the collector function to only collect level 1 modules in the college of Engineering and Architecture\n",
    "module_assessments, module_descriptors, error_modules, error_module_descriptors=collector(level=5)"
   ]
  },
  {
   "cell_type": "code",
   "execution_count": null,
   "id": "c4f0c840",
   "metadata": {},
   "outputs": [],
   "source": [
    "#Run the collector function to only collect level 1 modules in the college of Engineering and Architecture\n",
    "module_assessments, module_descriptors, error_modules, error_module_descriptors=collector(school=\"Mechanical & Materials Eng\")"
   ]
  },
  {
   "cell_type": "code",
   "execution_count": null,
   "id": "b5d9a095",
   "metadata": {},
   "outputs": [],
   "source": [
    "module_assessments, module_descriptors, error_modules, error_module_descriptors=collector(school=\"Civil Engineering\")"
   ]
  },
  {
   "cell_type": "code",
   "execution_count": null,
   "id": "4cfeb136",
   "metadata": {},
   "outputs": [],
   "source": [
    "module_assessments, module_descriptors, error_modules, error_module_descriptors=collector(school=\"Chem & Bioprocess Engineering\")"
   ]
  },
  {
   "cell_type": "code",
   "execution_count": null,
   "id": "0415e4d5",
   "metadata": {},
   "outputs": [],
   "source": [
    "module_assessments, module_descriptors, error_modules, error_module_descriptors=collector(school=\"Biosystems & Food Engineering\")"
   ]
  },
  {
   "cell_type": "code",
   "execution_count": null,
   "id": "5cc77435",
   "metadata": {},
   "outputs": [],
   "source": [
    "module_assessments, module_descriptors, error_modules, error_module_descriptors=collector(school=\"Architecture, Plan & Env Pol\")"
   ]
  },
  {
   "cell_type": "code",
   "execution_count": null,
   "id": "ace211cf",
   "metadata": {},
   "outputs": [],
   "source": [
    "module_assessments, module_descriptors, error_modules, error_module_descriptors=collector(school=\"Electrical & Electronic Eng\")"
   ]
  },
  {
   "cell_type": "code",
   "execution_count": null,
   "id": "1eb1851a",
   "metadata": {},
   "outputs": [],
   "source": [
    "#Inspect the error modules just in case\n",
    "for i, error in enumerate(zip(error_modules, error_module_descriptors)):\n",
    "    print(\"********ERROR COUNT %d*********\" %i)\n",
    "    print(error[0])\n",
    "    print(error[1])\n",
    "    "
   ]
  },
  {
   "cell_type": "markdown",
   "id": "2bf56b77",
   "metadata": {},
   "source": [
    "Next we combine all the modules assessment information together, ready for later aggregation and analysis."
   ]
  },
  {
   "cell_type": "code",
   "execution_count": null,
   "id": "d403689a",
   "metadata": {},
   "outputs": [],
   "source": [
    "aggreg_modules=pd.concat(module_assessments)\n",
    "\n",
    "aggreg_modules"
   ]
  },
  {
   "cell_type": "code",
   "execution_count": null,
   "id": "df0d663b",
   "metadata": {},
   "outputs": [],
   "source": [
    "assessments=aggreg_modules[[\"Assessment Type\", \"% of Final Grade\"]]\n",
    "\n",
    "#This is the dataset cleaning, so that they are ready for presentation\n",
    "assessments[\"% of Final Grade\"]=pd.to_numeric(assessments[\"% of Final Grade\"], errors='coerce')\n",
    "assessments=assessments.replace(\"Multiple Choice Questionnaire (Short)\", \"Multiple Choice Questionnaire\")\n",
    "assessments=assessments.dropna()\n",
    "assessments[\"Assessment Type\"]=assessments[\"Assessment Type\"].astype(\"category\")\n",
    "\n",
    "assessments"
   ]
  },
  {
   "cell_type": "code",
   "execution_count": null,
   "id": "58981d81",
   "metadata": {},
   "outputs": [],
   "source": [
    "assessments.describe()"
   ]
  },
  {
   "cell_type": "code",
   "execution_count": null,
   "id": "a56725e4",
   "metadata": {},
   "outputs": [],
   "source": [
    "#assessments=assessments.replace(\"Multiple Choice Questionnaire (Short)\", \"Multiple Choice Questionnaire\")\n",
    "assessments[\"Assessment Type\"].value_counts()"
   ]
  },
  {
   "cell_type": "code",
   "execution_count": null,
   "id": "c7f5059c",
   "metadata": {},
   "outputs": [],
   "source": [
    "assessments[\"Assessment Type\"].nunique()"
   ]
  },
  {
   "cell_type": "code",
   "execution_count": null,
   "id": "1c21946b",
   "metadata": {},
   "outputs": [],
   "source": [
    "#assessments = assessments.drop(\"No yet recorded.\")\n",
    "assessment_average=assessments.groupby(by=\"Assessment Type\", as_index=False).mean()\n",
    "\n",
    "assessment_average"
   ]
  },
  {
   "cell_type": "code",
   "execution_count": null,
   "id": "ecea7104",
   "metadata": {},
   "outputs": [],
   "source": [
    "sorted_averages=assessment_average.sort_values(\"% of Final Grade\", ascending=False)\n",
    "\n",
    "sorted_averages"
   ]
  },
  {
   "cell_type": "code",
   "execution_count": null,
   "id": "758c203b",
   "metadata": {},
   "outputs": [],
   "source": [
    "import matplotlib.pyplot as plt\n",
    "\n",
    "fig, ax=plt.subplots( figsize=(15, 10))\n",
    "\n",
    "#barWidth=0.25\n",
    "colormap={\"Essay\": \"gold\", \"Assignment\": \"gold\", \"Examination\": \"mediumseagreen\", \"Attendance\": \"mediumseagreen\", \\\n",
    "          \"Class Test\":\"mediumseagreen\", \"Continuous Assessment\": \"gold\", \"Fieldwork\": \"mediumseagreen\", \"Group Project\": \"gold\",\\\n",
    "         \"Journal\": \"gold\", \"Lab Report\" : \"mediumseagreen\", \"Multiple Choice Questionnaire (MCQ)\": \"mediumseagreen\", \\\n",
    "          \"Oral Examination\" : \"mediumseagreen\", \"Portfolio\": \"gold\", \"Practical Examination\": \"mediumseagreen\",\\\n",
    "          \"Presentation\":\"mediumseagreen\", \"Project\": \"gold\", \"Seminar\": \"mediumseagreen\",\\\n",
    "          \"Studio Examination\": \"mediumseagreen\", \"Assessments worth <2%\": \"mediumseagreen\"}\n",
    "\n",
    "# Make the plot\n",
    "ax.bar(sorted_averages[\"Assessment Type\"], sorted_averages[\"% of Final Grade\"], edgecolor=\"grey\", color=[\"mediumseagreen\", \"gold\", \\\n",
    "\"gold\", \"mediumseagreen\", \"mediumseagreen\", \"gold\", \"gold\",  \"mediumseagreen\", \"gold\", \"gold\", \"gold\", \"mediumseagreen\",\\\n",
    "                                                                                       \"mediumseagreen\", \"mediumseagreen\", \\\n",
    "                                                \"mediumseagreen\", \"gold\", \"mediumseagreen\", \"mediumseagreen\"] )\n",
    "\n",
    "\n",
    "#Set the options for the axes\n",
    "ax.tick_params(axis='y', labelsize=16)\n",
    "ax.tick_params(axis='x', rotation=90, labelsize=14)\n",
    "#ax.legend(fontsize=20)\n",
    "ax.set_xlabel(\"Assessment Type\", fontsize=18)\n",
    "ax.set_ylabel(\"% of Final Grade\",fontsize=18)\n",
    "#Add the date lines for context\n",
    "ax.set_title(\"Average Module Percentage When Assessment Type is Used\", fontsize=20)"
   ]
  },
  {
   "cell_type": "code",
   "execution_count": null,
   "id": "a920046e",
   "metadata": {},
   "outputs": [],
   "source": [
    "assessment_total=assessments.groupby(by=\"Assessment Type\", as_index=False).sum()\n",
    " \n",
    "assessment_total"
   ]
  },
  {
   "cell_type": "code",
   "execution_count": null,
   "id": "04d9dc3e",
   "metadata": {},
   "outputs": [],
   "source": [
    "total=assessment_total[\"% of Final Grade\"].sum()\n",
    "\n",
    "assessment_total[\"% of Assessment\"]=assessment_total[\"% of Final Grade\"].apply(lambda x: x/total)\n",
    "assessment_total[\"Assessment Type\"]=assessment_total[\"Assessment Type\"].cat.add_categories(\"Assessments worth <2%\")\n",
    "assessment_total.loc[assessment_total[\"% of Assessment\"] < 0.02, \"Assessment Type\"] = \"Assessments worth <2%\"\n",
    "\n",
    "assessment_total"
   ]
  },
  {
   "cell_type": "code",
   "execution_count": null,
   "id": "2066abe2",
   "metadata": {},
   "outputs": [],
   "source": [
    "assessment_total[\"Assessment Type\"]= assessment_total[\"Assessment Type\"].cat.remove_categories([\"Fieldwork\", \"Journal\", \\\n",
    "                                                                             \"Attendance\", \"Oral Examination\", \\\n",
    "                                                \"Practical Examination\", \"Seminar\", \"Studio Examination\",\\\n",
    "                                                                                             \"Multiple Choice Questionnaire\"])\n",
    "\n",
    "assessment_total"
   ]
  },
  {
   "cell_type": "code",
   "execution_count": null,
   "id": "39163da1",
   "metadata": {},
   "outputs": [],
   "source": [
    "filtered_asses=assessment_total.groupby(by=\"Assessment Type\").sum()\n",
    "\n",
    "pie_assessment=filtered_asses[\"% of Assessment\"]\n",
    "\n",
    "sorted_totals=pie_assessment.sort_values(ascending=False)\n",
    "\n",
    "sorted_totals"
   ]
  },
  {
   "cell_type": "code",
   "execution_count": null,
   "id": "2b60241a",
   "metadata": {},
   "outputs": [],
   "source": [
    "fig, ax=plt.subplots(figsize=(15,12))\n",
    "\n",
    "#exploded=[0.03, 0, 0.03, 0.03, 0, 0.03, 0.03, 0.03, 0, 0, 0]\n",
    "ax.pie(sorted_totals, wedgeprops = { 'linewidth' : 0.5, 'edgecolor' : 'grey' }, \\\n",
    "       autopct=\"%1.1f%%\", labels=sorted_totals.index, colors=[\"gold\",\"mediumseagreen\", \\\n",
    "\"gold\", \"gold\", \"mediumseagreen\",  \"gold\", \"gold\", \"gold\", \"mediumseagreen\",\\\n",
    "                                                              \"mediumseagreen\", \"mediumseagreen\", \"mediumseagreen\"])\n",
    "\n",
    "#my_circle=ax.Circle( (0,0), 0.7, color='white')\n",
    "#p=ax.gcf()\n",
    "\n",
    "ax.set_title(\"Assessment type as a Percentage of Module Assessments\", fontsize=20)"
   ]
  },
  {
   "cell_type": "code",
   "execution_count": null,
   "id": "d658e0e9",
   "metadata": {},
   "outputs": [],
   "source": []
  }
 ],
 "metadata": {
  "kernelspec": {
   "display_name": "Python 3 (ipykernel)",
   "language": "python",
   "name": "python3"
  },
  "language_info": {
   "codemirror_mode": {
    "name": "ipython",
    "version": 3
   },
   "file_extension": ".py",
   "mimetype": "text/x-python",
   "name": "python",
   "nbconvert_exporter": "python",
   "pygments_lexer": "ipython3",
   "version": "3.9.13"
  }
 },
 "nbformat": 4,
 "nbformat_minor": 5
}
