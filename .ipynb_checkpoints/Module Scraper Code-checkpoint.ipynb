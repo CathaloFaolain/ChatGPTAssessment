{
 "cells": [
  {
   "cell_type": "markdown",
   "id": "b7e7b250",
   "metadata": {},
   "source": [
    "# Module Information Scraper\n",
    "This code is to scrape assessment details from UCD module-by-module. From there, we can find out how vulnerable UCD is to ChatGPT and other similar AI helpers. First we will need to import some packages to do this.\n",
    "\n",
    "## Imports and Global Variables"
   ]
  },
  {
   "cell_type": "code",
   "execution_count": null,
   "id": "91ddfb57",
   "metadata": {},
   "outputs": [],
   "source": [
    "import pandas as pd\n",
    "import numpy as np\n",
    "import requests\n",
    "from bs4 import BeautifulSoup\n",
    "import re\n",
    "import pathlib as Path\n",
    "import html5lib\n",
    "import json"
   ]
  },
  {
   "cell_type": "markdown",
   "id": "c6b58396",
   "metadata": {},
   "source": [
    "Next we will need to set the path to the datasets that we will use. This currently pulls in a specific file, that of MODULES.csv, which has all collected module information for the school of Engineering and Architecture. However, this could easily be changed to analyze sub-schools or other schools."
   ]
  },
  {
   "cell_type": "code",
   "execution_count": null,
   "id": "a4b1d91d",
   "metadata": {},
   "outputs": [],
   "source": [
    "#This is the directory that holds all our input datasets\n",
    "dir_raw=Path.Path(\"Datasets\")\n",
    "\n",
    "#Read in the csv that has all of our modules, if desired\n",
    "moduleCodes= dir_raw / \"MODULES.csv\"\n",
    "modules=pd.read_csv(moduleCodes)\n",
    "\n",
    "#Print the csv with all our modules\n",
    "modules"
   ]
  },
  {
   "cell_type": "markdown",
   "id": "927a26ee",
   "metadata": {},
   "source": [
    "The below function will be used to read in modules. This can be by school if required, and otherwise includes all modules."
   ]
  },
  {
   "cell_type": "code",
   "execution_count": null,
   "id": "4440fd86",
   "metadata": {},
   "outputs": [],
   "source": [
    "def input_Modules(school= None, filename=None):\n",
    "    #This is the directory that holds all our input datasets\n",
    "    dir_raw=Path.Path(\"Datasets\")\n",
    "    \n",
    "    #This is the dict that holds the filename for each school\n",
    "    school_filenames={\"Civil Engineering\":\"MODULES_CE.csv\", \\\n",
    "                     \"Mechanical & Materials Eng\": \"MODULES_MME.csv\", \\\n",
    "                     \"Chem & Bioprocess Engineering\": \"MODULES_CBE.csv\", \\\n",
    "                     \"Biosystems & Food Engineering\": \"MODULES_BFE.csv\", \\\n",
    "                     \"Architecture, Plan & Env Pol\": \"MODULES_APEP.csv\", \\\n",
    "                     \"Electrical & Electronic Eng\": \"MODULES_EEE.csv\"}\n",
    "    \n",
    "    #If the school is not equal to none, do only modules from the set school\n",
    "    if school != None:\n",
    "        #Get the file for the school's modules\n",
    "        moduleCodes = dir_raw / school_filenames[school]\n",
    "        \n",
    "        #Read in the desired module codes into a dataframe\n",
    "        modules=pd.read_csv(moduleCodes)\n",
    "        \n",
    "        print(modules)\n",
    "        #Return a list of the module codes\n",
    "        return modules[\"Unnamed: 0\"].iloc, None\n",
    "        \n",
    "    elif filename != None:\n",
    "        #If the file is an excel sheet, check it out\n",
    "        if filename.endswith(\"xlsx\"):\n",
    "            corelist, excelTable=excelListReader(filename)\n",
    "            \n",
    "            return corelist, excelTable\n",
    "        else:\n",
    "            print(\"FILENAME ERROR: check filename, make sure its in excel format\")\n",
    "            return None, None\n",
    "    else:\n",
    "        #Set the code to look at the csv that has all of our modules, if desired\n",
    "        moduleCodes= dir_raw / \"MODULES.csv\"\n",
    "        \n",
    "        #Read in the desired module codes into a dataframe\n",
    "        modules=pd.read_csv(moduleCodes)\n",
    "\n",
    "        #Return a list of the module codes\n",
    "        return modules[\"Code\"].iloc, None"
   ]
  },
  {
   "cell_type": "code",
   "execution_count": null,
   "id": "fbf7acbf",
   "metadata": {},
   "outputs": [],
   "source": [
    "def input_Infohub(school=None):\n",
    "    #This is the directory that holds all our input datasets\n",
    "    dir_raw=Path.Path(\"Datasets\")\n",
    "    \n",
    "    #This is a list of schools\n",
    "    schools=[\"Civil Engineering\", \\\n",
    "                     \"Mechanical & Materials Eng\", \\\n",
    "                     \"Chem & Bioprocess Engineering\", \\\n",
    "                     \"Biosystems & Food Engineering\", \\\n",
    "                     \"Architecture, Plan & Env Pol\", \\\n",
    "                     \"Electrical & Electronic Eng\"]\n",
    "    #This is the dict that holds the filename for each school\n",
    "    school_filenames={\"Civil Engineering\":\"SCE Module places by Term 22 23.csv\", \\\n",
    "                     \"Mechanical & Materials Eng\": \"SMME Module places by Term 22 23.csv\", \\\n",
    "                     \"Chem & Bioprocess Engineering\": \"SCBE Module places by Term 22 23.csv\", \\\n",
    "                     \"Biosystems & Food Engineering\": \"SBFE Module places by Term 22 23.csv\", \\\n",
    "                     \"Architecture, Plan & Env Pol\": \"SAPEP Module places by Term 22 23.csv\", \\\n",
    "                     \"Electrical & Electronic Eng\": \"SEEE Module places by Term 22 23.csv\"}\n",
    "    \n",
    "    #If the school is not set, loop through all of them\n",
    "    if school == None:\n",
    "        schoolHubs=[]\n",
    "        for school in schools:\n",
    "            print(\"Getting file on the School of %s at %s\"  %(school, school_filenames[school]))\n",
    "            \n",
    "            #Find the file location\n",
    "            dir_in= dir_raw / school_filenames[school]\n",
    "            schoolHubs.append(pd.read_csv(dir_in))\n",
    "            \n",
    "    \n",
    "        #Combine all the module details together\n",
    "        infohub=pd.concat(schoolHubs)\n",
    "    #Otherwise just get that one school\n",
    "    else:\n",
    "        dir_in= dir_raw / school_filenames[school]\n",
    "        infohub=pd.read_csv(dir_in)\n",
    "        \n",
    "    #Get rid of any modules that end in a letter\n",
    "    infohub[\"Module\"]=infohub[\"Module\"].apply(lambda x : None if(re.search(r'\\d+$', x) == None) else x)\n",
    "    infohub.dropna(subset=[\"Module\"], inplace=True)\n",
    "    \n",
    "    return infohub"
   ]
  },
  {
   "cell_type": "code",
   "execution_count": null,
   "id": "2b725af5",
   "metadata": {},
   "outputs": [],
   "source": [
    "input_Infohub()"
   ]
  },
  {
   "cell_type": "markdown",
   "id": "eaccedb5",
   "metadata": {},
   "source": [
    "The below function is used for reading in module codes that are stored in an Excel sheet. The standard paths for certain engineering qualifications is currently the main use for such a method. "
   ]
  },
  {
   "cell_type": "code",
   "execution_count": null,
   "id": "7d52f368",
   "metadata": {},
   "outputs": [],
   "source": [
    "#This function reads in an excel sheet with module codes\n",
    "def excelListReader(filename, excel_table=True):\n",
    "\n",
    "    #Get the input file path\n",
    "    coreCodes= dir_raw / filename\n",
    "\n",
    "    #Make sure that it is in the desired excel table format\n",
    "    if excel_table:\n",
    "        #If it is, read in the excel sheet, and get the values in the \"Module\" column as a list\n",
    "        coreModules=pd.read_excel(coreCodes)\n",
    "        coreList=coreModules[\"Module\"].values.tolist()\n",
    "        \n",
    "    else:\n",
    "        #Return an error if the file is not in an excel sheet\n",
    "        print(\"ERROR: not in excel table format\")\n",
    "        return None\n",
    "\n",
    "    #print the module codes that we found, and then return them\n",
    "    print(coreList)\n",
    "    return coreList, coreModules"
   ]
  },
  {
   "cell_type": "markdown",
   "id": "8b852b57",
   "metadata": {},
   "source": [
    "## Scraper Functions and Required Sub Functions\n",
    "\n",
    "The module descriptor scraper pulls all module descriptor information from the UCD module website. This includes information such as who runs the module, and importantly for our analysis, the number of credits for each module."
   ]
  },
  {
   "cell_type": "code",
   "execution_count": null,
   "id": "98326584",
   "metadata": {},
   "outputs": [],
   "source": [
    "#This pulls all module descriptor information from the publicly available UCD module website\n",
    "def module_descriptor_scraper(url, level=None, school=None):\n",
    "\n",
    "    #Get the HTML representation of the module page, the page being given by the URL\n",
    "    request=requests.get(url)\n",
    "    soup=BeautifulSoup(request.content, 'html.parser')\n",
    "\n",
    "    #This will hold all items in the description list and associate them with their related element\n",
    "    descriptor_list={}\n",
    "\n",
    "    #Get all the elements in the \"description list\" - the 'dl'\n",
    "    for element in soup.select('dl'):\n",
    "        #Get the element text \n",
    "        credit_list=element.text\n",
    "        \n",
    "        #Taking the \"Description Term\", dt, and the \"Description element\", dd, as a pair\n",
    "        for items in zip(soup.select('dt'), soup.select('dd')):\n",
    "            #Create a dictionary item with the term and its associated element, to be turned into a series later\n",
    "            descriptor_list[items[0].text]=items[1].text\n",
    "\n",
    "    \n",
    "    #Create a Series from the items in the description list\n",
    "    module_descriptor=pd.Series(descriptor_list)\n",
    "    #Make sure that the Credits column is numeric - if there is an error when changing to numeric, the value is set as None\n",
    "    module_descriptor[\"Credits:\"]=pd.to_numeric(module_descriptor[\"Credits:\"], errors='coerce')\n",
    "    \n",
    "    #This implements filters as desired. If filtered changes to true, it means that the item is filtered out\n",
    "    filtered=False\n",
    "    online=False\n",
    "    \n",
    "    #If filters exist, check that the module is not filtered out\n",
    "    if (level != None):\n",
    "        filtered= (pd.to_numeric(module_descriptor[\"Level:\"].split('(')[0], errors='ignore') != level)\n",
    "                   \n",
    "    #If it wasn't filtered out by level, check if it is filtered out by school\n",
    "    if (filtered == False) and (school != None):\n",
    "        filtered = (module_descriptor[\"School:\"] != school)\n",
    "\n",
    "    #Check if the module is delivered online or not\n",
    "    if(module_descriptor[\"Mode of Delivery:\"] == \"Online\"):\n",
    "        online=True\n",
    "        \n",
    "    #Return the module descriptor and whether or not it was filtered out\n",
    "    return module_descriptor, filtered, online"
   ]
  },
  {
   "cell_type": "markdown",
   "id": "92ba3210",
   "metadata": {},
   "source": [
    "The below code is used to simply assert that the filtering worked, and is more of a sanity check than anything else."
   ]
  },
  {
   "cell_type": "code",
   "execution_count": null,
   "id": "cb159fbe",
   "metadata": {},
   "outputs": [],
   "source": [
    "#This asserts that the filter works correctly\n",
    "def assert_filtered(module_descriptors, level=None, school=None):\n",
    "    #Combine all descriptors into a dataframe\n",
    "    all_descriptors=pd.concat(module_descriptors)\n",
    "    \n",
    "    #Make sure that IF the level was specified, only one level is allowed\n",
    "    if level !=None:\n",
    "        assert (all_descriptors[\"Level:\"].nunique() == 1)\n",
    "    \n",
    "    #Make sure that only one school is allowed, IF it was specified\n",
    "    if school != None:\n",
    "        assert (all_descriptors[\"School:\"].nunique() == 1)\n",
    "        \n",
    "    #Print all the unique schools scrapped\n",
    "    print(\"\\n %s\" %all_descriptors[\"School:\"].unique())\n",
    "    \n",
    "    #Return the number of unique values - by school and level\n",
    "    return all_descriptors[\"School:\"].nunique(), all_descriptors[\"Level:\"].nunique()"
   ]
  },
  {
   "cell_type": "markdown",
   "id": "fce6cd1a",
   "metadata": {},
   "source": [
    "Below is a helper function. This saves files as desired after their information has been taken from the UCD website. "
   ]
  },
  {
   "cell_type": "code",
   "execution_count": null,
   "id": "b93e1df4",
   "metadata": {},
   "outputs": [],
   "source": [
    "def save_module_files(module_assessments, module_descriptors, codeList=None, level=None, school=None, foldername=None):\n",
    "    #The directory to save outputs to\n",
    "    dir_output=Path.Path(\"ModuleInformation\")\n",
    "    dir_output.mkdir(parents=True, exist_ok=True)\n",
    "    \n",
    "    subdirectory=\"\"\n",
    "    #Save the file in its desired format\n",
    "    if level != None:\n",
    "        subdirectory+=\"Level=%d\" %(level)\n",
    "        \n",
    "    if school != None:\n",
    "        subdirectory+=\"_School=\"+school.replace(\" \", \"-\")\n",
    "    \n",
    "    if codeList != None:\n",
    "        subdirectory+=\"SelectedModules\"\n",
    "        \n",
    "    if foldername != None:\n",
    "        subdirectory=foldername\n",
    "        \n",
    "    #if the modules have been filtered, and thus belong in a sub directory, make that directory\n",
    "    if len(subdirectory) > 0:\n",
    "        dir_output=dir_output / subdirectory\n",
    "        dir_output.mkdir(parents=True, exist_ok=True)\n",
    "        \n",
    "   \n",
    "        \n",
    "    #Save our two module detail files\n",
    "    with open(dir_output / \"assessments.json\", 'w') as outfile:\n",
    "        if (len(module_assessments)) > 2 and (isinstance(module_assessments, list)):\n",
    "            module_assessments=pd.concat(module_assessments, ignore_index=True)\n",
    "            print(\"saving to %s\" % dir_output)\n",
    "        outfile.write(module_assessments.to_json())\n",
    "        \n",
    "    with open(dir_output / \"descriptors.json\", 'w') as outfile:\n",
    "        if (len(module_descriptors) > 2) and (isinstance(module_descriptors, list)):\n",
    "            module_descriptors=pd.DataFrame(module_descriptors)\n",
    "            print(\"saving to %s\" % dir_output)\n",
    "        outfile.write(module_descriptors.to_json())"
   ]
  },
  {
   "cell_type": "markdown",
   "id": "1238215a",
   "metadata": {},
   "source": [
    "Below is a dict that will be used to develop a custom column, \"work type\", which will be necessary for further analysis later."
   ]
  },
  {
   "cell_type": "code",
   "execution_count": null,
   "id": "d20cb86c",
   "metadata": {},
   "outputs": [],
   "source": [
    "work_type={\"Assignment\" :\"At home\", \\\n",
    "                \"Attendance\": \"In person\", \\\n",
    "                \"Class Test\" : \"In person\", \\\n",
    "                \"Continuous Assessment\": \"At home\", \\\n",
    "               \"Essay\": \"At home\", \\\n",
    "                \"Examination\": \"In person\", \\\n",
    "                \"Fieldwork\": \"In person\", \\\n",
    "                \"Group Project\": \"Blended\", \\\n",
    "                \"Journal\": \"Blended\",\\\n",
    "               \"Lab Report\": \"Blended\", \\\n",
    "                \"Multiple Choice Questionnaire\": \"Blended\", \\\n",
    "                \"Oral Examination\": \"In person\", \\\n",
    "               \"Portfolio\" : \"Blended\",  \\\n",
    "                \"Practical Examination\": \"In person\", \\\n",
    "                \"Presentation\" : \"In person\", \\\n",
    "                \"Project\": \"At home\", \\\n",
    "               \"Seminar\": \"In person\", \\\n",
    "               \"Studio Examination\" : \"In person\",\\\n",
    "               \"Assessments worth <2%\": \"Unknown\"}"
   ]
  },
  {
   "cell_type": "markdown",
   "id": "8d7516c8",
   "metadata": {},
   "source": [
    "The below code collects all module assessment and module descriptor information into two lists. It also creates a \"Scaled % of Final Grade\" column in the asssessment table. This weights the assessment based on the number of credits the module has overall. In this way, the median and normal amount of credits, 5.0, has assessments weighting that add up to 100%. Those above and below are given assessment weightings that scale with how much more or less they are worth then a normal module - a 10 credit module will have assessments that add up to 200%, because they are worth twice the amount as a normal module.\n",
    "\n",
    "Error module details are stored for inspection later, to see why they occurred. The code continues on even if errors occur, after having stored these details it simply proceeds to the next module.\n",
    "\n",
    "There are two sources of information that we are using, the module codes available from the search function, and the previous academic year module records. Experimentation proved that the previous academic year records include some modules that have  since been removed - while all the module codes currently available from the search function are included in it. Therefore, the module codes is a subset of the previous academic year records.\n",
    "\n",
    "### The Collector Function - combines sub functions to collect all available information on desired modules."
   ]
  },
  {
   "cell_type": "code",
   "execution_count": null,
   "id": "8a910083",
   "metadata": {
    "scrolled": true
   },
   "outputs": [],
   "source": [
    "#This functiom will allow school and year functions to be placed on it\n",
    "def collector(codeList=None, level=None, school=None, filename=None, foldername=None):\n",
    "    #This will store module information\n",
    "    module_assessments=[]\n",
    "    module_descriptors=[]\n",
    "\n",
    "    #This will store error module information\n",
    "    error_modules=[]\n",
    "    error_module_descriptors=[]\n",
    "\n",
    "    #Next we need to get our moduleCodes\n",
    "    moduleCodes\n",
    "    \n",
    "    #Pick where to get the module codes from\n",
    "    if codeList!=None:\n",
    "        modulesCodes=codeList\n",
    "    else:\n",
    "        modulesCodes, excelTable=input_Modules(school=school, filename=filename)\n",
    "        \n",
    "    #Get the previous academic year records\n",
    "    infohub=input_Infohub(school=school)\n",
    "        \n",
    "    #Going through the modules one-by-one    \n",
    "    for i in modulesCodes:\n",
    "        #Get the associated previous academic year record\n",
    "        \n",
    "            \n",
    "        #Let the user know we iterated\n",
    "        print(\".\",end=\"\")\n",
    "        \n",
    "        #Change the URL to finish with the desired module code\n",
    "        url= \"https://hub.ucd.ie/usis/!W_HU_MENU.P_PUBLISH?p_tag=MODULE&MODULE=\" + i\n",
    "\n",
    "        #Get the module descriptor\n",
    "        descriptor, filtered, online=module_descriptor_scraper(url, level=level, school=school)\n",
    "        #If the module is in violation of the filters, continue to the next without saving\n",
    "        if filtered==True:\n",
    "            continue\n",
    "            \n",
    "        #Use pandas to read in the asssessment html table. This starts with the word 'Description', \n",
    "        #which is how we differentiate it from the other tables on the webpage\n",
    "        table=pd.read_html(url, match=\"Description\")\n",
    "        \n",
    "        #Get the first table, and turn it into a dataframe\n",
    "        df=pd.DataFrame(table[0])\n",
    "        #Create the \"Assessment Type\" column. There are 18 assessment types across UCD\n",
    "        df[\"Assessment Type\"] = df['Description'].str.split(':').str[0]\n",
    "        #Add in the module code column to both the assessment dataframe and the descriptor list\n",
    "        df[\"Module Code\"]=i\n",
    "        descriptor[\"Module Code\"]=i\n",
    "\n",
    "        #Try and create a column where the grade is scaled by credits worth, with 5 credits being the normal\n",
    "        try:\n",
    "            df[\"Scaled % of Final Grade\"]= df['% of Final Grade'].apply(lambda x: x * (descriptor[\"Credits:\"]/5.0))\n",
    "            \n",
    "        #If the scaling didn't work, this is an error module. Save it as an error module and continue\n",
    "        except:\n",
    "            print(\"\\nERROR MODULE DETECTED.\")\n",
    "            print(\"Module may need to be inspected, saving information as an error module and continuing without it\")\n",
    "        \n",
    "            error_modules.append(df)\n",
    "            error_module_descriptors.append(descriptor)\n",
    "            continue\n",
    "            \n",
    "        #Add a new column, \"Work Type\". This is based on the assessment type, and should help inform us of how big the risk of \n",
    "        #ChatGPT in assessment is.\n",
    "        #If the module is delivered online, the work type is only \"At home\", owing to the inherent risk to ChatGPT of these\n",
    "        #modules. Otherwise, set the assessment type according to the provided dict\n",
    "        if online:\n",
    "            df[\"Work Type\"]=\"At home\"\n",
    "        else:\n",
    "            #Replace the (short) MCQ with just MCQ for simplicity\n",
    "            df=df.replace(\"Multiple Choice Questionnaire (Short)\", \"Multiple Choice Questionnaire\")\n",
    "            df[\"Work Type\"]=df[\"Assessment Type\"].apply(lambda x: work_type[x])\n",
    "        \n",
    "        #Add a few extra columns onto the dataFrame, so that we could make an interactive graph later\n",
    "        df[\"Level\"]=descriptor[\"Level:\"]\n",
    "        df[\"Credits\"]=descriptor[\"Credits:\"]\n",
    "        df[\"School\"]=descriptor[\"School:\"]\n",
    "        df[\"Module Coordinator\"]=descriptor[\"Module Coordinator:\"]\n",
    "        \n",
    "        #Add the records from the previous academic year\n",
    "        prev_record=infohub[infohub[\"Module\"] == i]\n",
    "        #If the records from the previous year exist\n",
    "        if not prev_record.empty:\n",
    "            df[\"Semester\"]=prev_record[\"Semester\"].iloc[0]\n",
    "            df[\"Enrolled Students 22/23\"]=prev_record[\"Total Places - Max\"].iloc[0]\\\n",
    "            -prev_record[\"Total Places - Avail\"].iloc[0]\n",
    "        else:\n",
    "            df[\"Semester\"]=None\n",
    "            df[\"Enrolled Students 22/23\"]=None\n",
    "        \n",
    "        #Add the stage if we know it\n",
    "        if filename == None:\n",
    "            df[\"Stage\"]=None\n",
    "        else:\n",
    "            df[\"Stage\"]=excelTable[excelTable[\"Module\"] == i][\"Stage\"].iloc[0]\n",
    "            \n",
    "            \n",
    "        #Append the module information dataframes to their respective lists\n",
    "        module_assessments.append(df)\n",
    "        module_descriptors.append(descriptor)\n",
    "        \n",
    "        #Save the individual module files\n",
    "        save_module_files(df, descriptor, foldername=\"IndividualModules/%s\" %i)\n",
    "    \n",
    "    #This asserts that the filters were properly imposed, if imposed at all\n",
    "    num_schools, num_levels=assert_filtered(module_descriptors, level, school)\n",
    "\n",
    "    #Inform the user that we have finished\n",
    "    print(\"\\nFINISHED, SCRAPED DETAILS ON %d MODULES, OVER %d SCHOOLS AND %d LEVELS\" \\\n",
    "          %(len(module_assessments), num_schools, num_levels))\n",
    "    \n",
    "    #Save the output files\n",
    "    save_module_files(module_assessments, module_descriptors, codeList=codeList, level=level, school=school, \\\n",
    "                      foldername=foldername)\n",
    "    \n",
    "    #Return the desired variables, the list of module assessment and descriptor dataframes, as well as the error dataframes\n",
    "    return module_assessments, module_descriptors, error_modules, error_module_descriptors"
   ]
  },
  {
   "cell_type": "markdown",
   "id": "8c7129a7",
   "metadata": {},
   "source": [
    "Having defined the collector function, we simply now need to run it. The collector function is a general function. It can use filters in a number of ways as required. Filters can:\n",
    "- Limit the school\n",
    "- Limit the level\n",
    "- Limit to a module list (mainly used for possible engineering paths)\n",
    "\n",
    "It automatically saves the collected and scraped data in files when done. It also collects all \"error modules\" for later visual inspection. These are modules that have some anamoly that necessitates them not being included with the rest of the modules, and a detection message is thrown every time they are found.\n",
    "\n",
    "Now we will run the collector function\n",
    "## Collecting Data:\n",
    "### Collecting Data on All Modules from the College of Engineering and Architecture"
   ]
  },
  {
   "cell_type": "code",
   "execution_count": null,
   "id": "63af01a8",
   "metadata": {},
   "outputs": [],
   "source": [
    "#Run the above function in its base form\n",
    "module_assessments, module_descriptors, ALL_error_modules, ALL_error_module_descriptors=collector()"
   ]
  },
  {
   "cell_type": "markdown",
   "id": "e840d577",
   "metadata": {},
   "source": [
    "### Collecting Data by Standard Undergraduate Paths"
   ]
  },
  {
   "cell_type": "code",
   "execution_count": null,
   "id": "22a5cfb4",
   "metadata": {},
   "outputs": [],
   "source": [
    "module_assessments, module_descriptors, error_modules, error_module_descriptors\\\n",
    "=collector(filename=\"UCD_EngArch_Path_Electronic_UG_Modules.xlsx\", foldername=\"ElectronicPath\")"
   ]
  },
  {
   "cell_type": "code",
   "execution_count": null,
   "id": "1e4f7d81",
   "metadata": {},
   "outputs": [],
   "source": [
    "module_assessments, module_descriptors, error_modules, error_module_descriptors\\\n",
    "=collector(filename=\"UCD_EngArch_Path_Electronic_UG_Modules.xlsx\", foldername=\"ElectricalPath\")"
   ]
  },
  {
   "cell_type": "code",
   "execution_count": null,
   "id": "59e1a663",
   "metadata": {},
   "outputs": [],
   "source": [
    "module_assessments, module_descriptors, error_modules, error_module_descriptors\\\n",
    "=collector(filename=\"UCD_EngArch_Path_Architecture_UG_Modules.xlsx\", foldername=\"ArchitecturePath\")"
   ]
  },
  {
   "cell_type": "code",
   "execution_count": null,
   "id": "65a6d6fe",
   "metadata": {},
   "outputs": [],
   "source": [
    "module_assessments, module_descriptors, error_modules, error_module_descriptors\\\n",
    "=collector(filename=\"UCD_EngArch_Path_Mechanical_UG_Modules.xlsx\", foldername=\"MechanicalPath\")"
   ]
  },
  {
   "cell_type": "code",
   "execution_count": null,
   "id": "e1dd4abb",
   "metadata": {},
   "outputs": [],
   "source": [
    "module_assessments, module_descriptors, error_modules, error_module_descriptors\\\n",
    "=collector(filename=\"UCD_EngArch_Path_Biomed-Elec_UG_Modules.xlsx\", foldername=\"BiomedElectricalPath\")"
   ]
  },
  {
   "cell_type": "code",
   "execution_count": null,
   "id": "513352ac",
   "metadata": {},
   "outputs": [],
   "source": [
    "module_assessments, module_descriptors, error_modules, error_module_descriptors\\\n",
    "=collector(filename=\"UCD_EngArch_Path_Biomed-Mech_UG_Modules.xlsx\", foldername=\"BiomedMechanicalPath\")"
   ]
  },
  {
   "cell_type": "code",
   "execution_count": null,
   "id": "9c497cfa",
   "metadata": {},
   "outputs": [],
   "source": [
    "module_assessments, module_descriptors, error_modules, error_module_descriptors\\\n",
    "=collector(filename=\"UCD_EngArch_Path_Chemical_UG_Modules.xlsx\", foldername=\"ChemicalPath\")"
   ]
  },
  {
   "cell_type": "code",
   "execution_count": null,
   "id": "9758eabe",
   "metadata": {},
   "outputs": [],
   "source": [
    "module_assessments, module_descriptors, error_modules, error_module_descriptors\\\n",
    "=collector(filename=\"UCD_EngArch_Path_Civil_UG_Modules.xlsx\", foldername=\"CivilPath\")"
   ]
  },
  {
   "cell_type": "code",
   "execution_count": null,
   "id": "7a3df4ba",
   "metadata": {},
   "outputs": [],
   "source": [
    "module_assessments, module_descriptors, error_modules, error_module_descriptors\\\n",
    "=collector(filename=\"UCD_EngArch_Path_CPEP_UG_Modules.xlsx\", \\\n",
    "           foldername=\"CityPlanningAndEnvironmentalPolicyPath\")"
   ]
  },
  {
   "cell_type": "code",
   "execution_count": null,
   "id": "296ca66b",
   "metadata": {},
   "outputs": [],
   "source": [
    "module_assessments, module_descriptors, error_modules, error_module_descriptors\\\n",
    "=collector(filename=\"UCD_EngArch_Path_LandArch_UG_Modules.xlsx\", \\\n",
    "           foldername=\"LandscapeArchitecturePath\")"
   ]
  },
  {
   "cell_type": "code",
   "execution_count": null,
   "id": "d80b66e9",
   "metadata": {},
   "outputs": [],
   "source": [
    "module_assessments, module_descriptors, error_modules, error_module_descriptors\\\n",
    "=collector(filename=\"UCD_EngArch_Path_StructEngArch_UG_Modules.xlsx\", \\\n",
    "           foldername=\"StructuralEngineerWithArchitecturePath\")"
   ]
  },
  {
   "cell_type": "markdown",
   "id": "9253a4e6",
   "metadata": {},
   "source": [
    "### Collecting Data by Standard Integrated Masters Path"
   ]
  },
  {
   "cell_type": "code",
   "execution_count": null,
   "id": "84c51f9c",
   "metadata": {},
   "outputs": [],
   "source": [
    "module_assessments, module_descriptors, error_modules, error_module_descriptors\\\n",
    "=collector(filename=\"UCD_EngArch_Path_Biomed-Elec_ME_Modules.xlsx\", \\\n",
    "           foldername=\"BiomedElectronicMastersPath\")"
   ]
  },
  {
   "cell_type": "code",
   "execution_count": null,
   "id": "e5f54c4d",
   "metadata": {},
   "outputs": [],
   "source": [
    "module_assessments, module_descriptors, error_modules, error_module_descriptors\\\n",
    "=collector(filename=\"UCD_EngArch_Path_Biomed-Mech_ME_Modules.xlsx\", \\\n",
    "           foldername=\"BiomedMechanicalMastersPath\")"
   ]
  },
  {
   "cell_type": "code",
   "execution_count": null,
   "id": "6f151467",
   "metadata": {},
   "outputs": [],
   "source": [
    "module_assessments, module_descriptors, error_modules, error_module_descriptors\\\n",
    "=collector(filename=\"UCD_EngArch_Path_Electrical_ME_Modules.xlsx\", \\\n",
    "           foldername=\"ElectricalMastersPath\")"
   ]
  },
  {
   "cell_type": "code",
   "execution_count": null,
   "id": "2cd4d9e0",
   "metadata": {},
   "outputs": [],
   "source": [
    "module_assessments, module_descriptors, error_modules, error_module_descriptors\\\n",
    "=collector(filename=\"UCD_EngArch_Path_Electronic_ME_Modules.xlsx\", \\\n",
    "           foldername=\"ElectronicMastersPath\")"
   ]
  },
  {
   "cell_type": "code",
   "execution_count": null,
   "id": "c3328a62",
   "metadata": {},
   "outputs": [],
   "source": [
    "module_assessments, module_descriptors, error_modules, error_module_descriptors\\\n",
    "=collector(filename=\"UCD_EngArch_Path_Mechanical_ME_Modules.xlsx\", \\\n",
    "           foldername=\"MechanicalMastersPath\")"
   ]
  },
  {
   "cell_type": "code",
   "execution_count": null,
   "id": "e345bc28",
   "metadata": {},
   "outputs": [],
   "source": [
    "module_assessments, module_descriptors, error_modules, error_module_descriptors\\\n",
    "=collector(filename=\"UCD_EngArch_Path_StructEngArch_ME_Modules.xlsx\", \\\n",
    "           foldername=\"StructuralEngineerWithArchitectureMastersPath\")"
   ]
  },
  {
   "cell_type": "code",
   "execution_count": null,
   "id": "fe546f2b",
   "metadata": {},
   "outputs": [],
   "source": [
    "module_assessments, module_descriptors, error_modules, error_module_descriptors\\\n",
    "=collector(filename=\"UCD_EngArch_Path_Civil_ME_Modules.xlsx\", \\\n",
    "           foldername=\"CivilMastersPath\")"
   ]
  },
  {
   "cell_type": "markdown",
   "id": "5ce99ca7",
   "metadata": {},
   "source": [
    "### Collecting Data by Level"
   ]
  },
  {
   "cell_type": "code",
   "execution_count": null,
   "id": "4f2c7edc",
   "metadata": {},
   "outputs": [],
   "source": [
    "#Run the collector function to only collect level 1 modules in the college of Engineering and Architecture\n",
    "module_assessments, module_descriptors, error_modules, error_module_descriptors=collector(level=1)"
   ]
  },
  {
   "cell_type": "code",
   "execution_count": null,
   "id": "143861bf",
   "metadata": {},
   "outputs": [],
   "source": [
    "#Run the collector function to only collect level 1 modules in the college of Engineering and Architecture\n",
    "module_assessments, module_descriptors, error_modules, error_module_descriptors=collector(level=2)"
   ]
  },
  {
   "cell_type": "code",
   "execution_count": null,
   "id": "f600d48e",
   "metadata": {},
   "outputs": [],
   "source": [
    "#Run the collector function to only collect level 1 modules in the college of Engineering and Architecture\n",
    "module_assessments, module_descriptors, error_modules, error_module_descriptors=collector(level=3)"
   ]
  },
  {
   "cell_type": "code",
   "execution_count": null,
   "id": "3a048019",
   "metadata": {},
   "outputs": [],
   "source": [
    "#Run the collector function to only collect level 1 modules in the college of Engineering and Architecture\n",
    "module_assessments, module_descriptors, error_modules, error_module_descriptors=collector(level=4)"
   ]
  },
  {
   "cell_type": "code",
   "execution_count": null,
   "id": "bb466c33",
   "metadata": {},
   "outputs": [],
   "source": [
    "#Run the collector function to only collect level 1 modules in the college of Engineering and Architecture\n",
    "module_assessments, module_descriptors, error_modules, error_module_descriptors=collector(level=5)"
   ]
  },
  {
   "cell_type": "markdown",
   "id": "1a7cd277",
   "metadata": {},
   "source": [
    "### Collecting Data by School"
   ]
  },
  {
   "cell_type": "code",
   "execution_count": null,
   "id": "c4f0c840",
   "metadata": {},
   "outputs": [],
   "source": [
    "module_assessments, module_descriptors, error_modules, error_module_descriptors=collector(school=\"Mechanical & Materials Eng\")"
   ]
  },
  {
   "cell_type": "code",
   "execution_count": null,
   "id": "b5d9a095",
   "metadata": {},
   "outputs": [],
   "source": [
    "module_assessments, module_descriptors, error_modules, error_module_descriptors=collector(school=\"Civil Engineering\")"
   ]
  },
  {
   "cell_type": "code",
   "execution_count": null,
   "id": "4cfeb136",
   "metadata": {},
   "outputs": [],
   "source": [
    "module_assessments, module_descriptors, error_modules, error_module_descriptors=collector(school=\"Chem & Bioprocess Engineering\")"
   ]
  },
  {
   "cell_type": "code",
   "execution_count": null,
   "id": "0415e4d5",
   "metadata": {},
   "outputs": [],
   "source": [
    "module_assessments, module_descriptors, error_modules, error_module_descriptors=collector(school=\"Biosystems & Food Engineering\")"
   ]
  },
  {
   "cell_type": "code",
   "execution_count": null,
   "id": "5cc77435",
   "metadata": {},
   "outputs": [],
   "source": [
    "module_assessments, module_descriptors, error_modules, error_module_descriptors=collector(school=\"Architecture, Plan & Env Pol\")"
   ]
  },
  {
   "cell_type": "code",
   "execution_count": null,
   "id": "ace211cf",
   "metadata": {},
   "outputs": [],
   "source": [
    "module_assessments, module_descriptors, error_modules, error_module_descriptors=collector(school=\"Electrical & Electronic Eng\")"
   ]
  },
  {
   "cell_type": "markdown",
   "id": "1661f234",
   "metadata": {},
   "source": [
    "## Inspecting Error Modules\n",
    "As stated, the collector identifies any error modules and saves them for later visual inspection. We will just quickly inspect these modules, and make sure that they are not either a sign of a greater issue, or should be somehow included."
   ]
  },
  {
   "cell_type": "code",
   "execution_count": null,
   "id": "1eb1851a",
   "metadata": {},
   "outputs": [],
   "source": [
    "#Inspect the error modules just in case. Simply loop through their assessment and description data and print it for inspection\n",
    "for i, error in enumerate(zip(ALL_error_modules, ALL_error_module_descriptors)):\n",
    "    print(\"********ERROR COUNT %d*********\" %i)\n",
    "    print(error[0])\n",
    "    print(error[1])\n",
    "    "
   ]
  },
  {
   "cell_type": "code",
   "execution_count": null,
   "id": "b8ffac0c",
   "metadata": {},
   "outputs": [],
   "source": []
  }
 ],
 "metadata": {
  "kernelspec": {
   "display_name": "Python 3 (ipykernel)",
   "language": "python",
   "name": "python3"
  },
  "language_info": {
   "codemirror_mode": {
    "name": "ipython",
    "version": 3
   },
   "file_extension": ".py",
   "mimetype": "text/x-python",
   "name": "python",
   "nbconvert_exporter": "python",
   "pygments_lexer": "ipython3",
   "version": "3.9.13"
  }
 },
 "nbformat": 4,
 "nbformat_minor": 5
}
