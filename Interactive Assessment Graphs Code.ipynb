{
 "cells": [
  {
   "cell_type": "markdown",
   "id": "c2ba658e",
   "metadata": {},
   "source": [
    "# Interactive Assessment Graphs\n",
    "To make the findings of our module assessment information breakdown easier, we have proposed an interactive graphing tool for ease of use in finding the difference between schools, level and modules. This Jupyter Notebook is for testing and development of said tool.\n",
    "\n",
    "## Imports\n",
    "We will begin by importing necessary packages and helper functions for finding the input files."
   ]
  },
  {
   "cell_type": "code",
   "execution_count": 1,
   "id": "edf16a43",
   "metadata": {},
   "outputs": [],
   "source": [
    "import pandas as pd\n",
    "import numpy as np\n",
    "import seaborn as sns\n",
    "import matplotlib.pyplot as plt\n",
    "from bs4 import BeautifulSoup\n",
    "import re\n",
    "import pathlib as Path\n",
    "import html5lib\n",
    "import json\n",
    "import plotly.graph_objects as go\n",
    "import ipywidgets \n",
    "import plotly.express as px\n",
    "import warnings\n",
    "warnings.filterwarnings(\"ignore\")\n",
    "from IPython.display import display, clear_output"
   ]
  },
  {
   "cell_type": "code",
   "execution_count": 2,
   "id": "721042cd",
   "metadata": {},
   "outputs": [
    {
     "name": "stderr",
     "output_type": "stream",
     "text": [
      "Enabling notebook extension jupyter-js-widgets/extension...\n",
      "      - Validating: ok\n",
      "Enabling: voila\n",
      "- Writing config: C:\\Users\\catha\\anaconda3\\etc\\jupyter\n",
      "    - Validating...\n",
      "      voila 0.4.0 ok\n"
     ]
    }
   ],
   "source": [
    "!jupyter nbextension enable --py widgetsnbextension --sys-prefix\n",
    "!jupyter serverextension enable voila --sys-prefix"
   ]
  },
  {
   "cell_type": "markdown",
   "id": "4df25e90",
   "metadata": {},
   "source": [
    "The below function is for finding module assessment information files saved by the Module Scraper Code. It is a helper function to make our lives easier."
   ]
  },
  {
   "cell_type": "code",
   "execution_count": 3,
   "id": "9a7abc72",
   "metadata": {},
   "outputs": [],
   "source": [
    "#This finds files that were saved by the Module Scraper Code\n",
    "def file_finder(school=None, level=None, givenList=None, filename=None, module=None):\n",
    "    #Set the path to the overall directory with our input files\n",
    "    dir_raw=Path.Path(\"ModuleInformation\")\n",
    "    \n",
    "    #This locates the subdirectory where files by school, level or list can be found\n",
    "    subdirectory=\"\"\n",
    "    #Set the subdirectory \n",
    "    if level != None:\n",
    "        subdirectory+= \"Level=%d\" %(level)\n",
    "    if school != None:\n",
    "        subdirectory+= \"_School=\"+school.replace(\" \", \"-\")\n",
    "    if filename != None:\n",
    "        subdirectory = filename\n",
    "    if module != None:\n",
    "        subdirectory = (\"IndividualModules/%s\" %module)\n",
    "        \n",
    "    #If a subdirectory has indeed been set, change the path to reflect this\n",
    "    if len(subdirectory) > 0:\n",
    "        dir_raw =dir_raw / subdirectory\n",
    "        \n",
    "\n",
    "    #Read the files for the assessment and descriptors in, closing the file immediately after\n",
    "    with open(dir_raw / \"assessments.json\", 'r') as infile:\n",
    "        #print(\"Reading from %s\" % dir_raw)\n",
    "        if module != None:\n",
    "            assessments=pd.read_json(infile, orient=\"columns\")\n",
    "        else:\n",
    "            assessments=pd.read_json(infile)\n",
    "    with open(dir_raw / \"descriptors.json\", 'r') as infile:\n",
    "        #print(\"Reading from %s\" % dir_raw)\n",
    "        if module != None:\n",
    "            descriptors=pd.read_json(infile, typ=\"series\")\n",
    "        else:\n",
    "            descriptors=pd.read_json(infile)\n",
    "\n",
    "    #Return the desired assessment and description information\n",
    "    return assessments, descriptors"
   ]
  },
  {
   "cell_type": "markdown",
   "id": "6c25ee78",
   "metadata": {},
   "source": [
    "Just to check that the above function works, we will run it."
   ]
  },
  {
   "cell_type": "code",
   "execution_count": 4,
   "id": "3eb73ca7",
   "metadata": {},
   "outputs": [],
   "source": [
    "work_type={\"Assignment\" :\"At home\", \\\n",
    "                \"Attendance\": \"In person\", \\\n",
    "                \"Class Test\" : \"In person\", \\\n",
    "                \"Continuous Assessment\": \"At home\", \\\n",
    "               \"Essay\": \"At home\", \\\n",
    "                \"Examination\": \"In person\", \\\n",
    "                \"Fieldwork\": \"In person\", \\\n",
    "                \"Group Project\": \"Hybrid\", \\\n",
    "                \"Journal\": \"Hybrid\",\\\n",
    "               \"Lab Report\": \"Hybrid\", \\\n",
    "                \"Multiple Choice Questionnaire\": \"Hybrid\", \\\n",
    "                \"Oral Examination\": \"In person\", \\\n",
    "               \"Portfolio\" : \"Hybrid\",  \\\n",
    "                \"Practical Examination\": \"In person\", \\\n",
    "                \"Presentation\" : \"In person\", \\\n",
    "                \"Project\": \"At home\", \\\n",
    "               \"Seminar\": \"In person\", \\\n",
    "               \"Studio Examination\" : \"In person\",\\\n",
    "               \"Assessments worth <2%\": \"Unknown\"}"
   ]
  },
  {
   "cell_type": "code",
   "execution_count": 5,
   "id": "3f2e741c",
   "metadata": {},
   "outputs": [],
   "source": [
    "#Test the file finder function \n",
    "assessments, descriptors = file_finder()\n",
    "\n",
    "assessments[\"Level\"]=assessments[\"Level\"].apply(lambda x: pd.to_numeric(x.split('(')[0], errors='ignore'))\n",
    "#This is the dataset cleaning, so that they are ready for presentation\n",
    "assessments[\"% of Final Grade\"]=pd.to_numeric(assessments[\"% of Final Grade\"], errors='coerce')\n",
    "assessments=assessments.replace(\"Multiple Choice Questionnaire (Short)\", \"Multiple Choice Questionnaire\")\n",
    "assessments[\"Assessment Type\"]=assessments[\"Assessment Type\"].astype(\"category\")\n",
    "    \n",
    "\n",
    "#Builds a graph to indicate the susceptibility of a module set's assessments to Chat GPT\n",
    "def workType_pie(Weighted=True, School=\"All\", Level=0, module=\"\"):\n",
    "    new_assessments=assessments\n",
    "    #First we will need to filter the dataset as desired\n",
    "    if School != \"All\":\n",
    "        new_assessments=new_assessments[new_assessments[\"School\"]==School]\n",
    "    if Level != 0:\n",
    "        new_assessments=new_assessments[new_assessments[\"Level\"]==Level]\n",
    "    if len(module) > 0:\n",
    "        new_assessments=new_assessments[new_assessments[\"Module Code\"]==module]\n",
    "\n",
    "    if len(new_assessments)==0:\n",
    "        print(\"***********ERROR: No modules found with given parameters*************\")\n",
    "        \n",
    "    num_unique=len(new_assessments[\"Module Code\"].unique())\n",
    "    \n",
    "    #Data Cleaning and Manipulation Part\n",
    "    #########################################################################################\n",
    "    #First we will reduce the assessments dataframe to just the columns we require here.\n",
    "    new_assessments=new_assessments[[\"Assessment Type\", \"% of Final Grade\", \"Scaled % of Final Grade\", \"Work Type\"]]\n",
    "\n",
    "    #For the pie chart, group by susceptibilty\n",
    "    assessment_sus=new_assessments.groupby(by=\"Work Type\").sum()\n",
    "    #For the bar chart, group by assessment type\n",
    "    assessment_total=new_assessments.groupby(by=\"Assessment Type\").sum()\n",
    "\n",
    "    #Choose whether or not you want to scale by credits, or take all modules to be equal, regardless of credits\n",
    "    if Weighted==True:\n",
    "        assessment_scale=\"Scaled % of Final Grade\"\n",
    "    else:\n",
    "        assessment_scale=\"% of Final Grade\"\n",
    "        \n",
    "    total=assessment_sus[assessment_scale].sum()\n",
    "\n",
    "    #Get the percentage each assessment type makes up of the overall for both graphs\n",
    "    assessment_sus[\"% of Assessment\"]=assessment_sus[assessment_scale].apply(lambda x: x/total)\n",
    "    assessment_total[\"% of Assessment\"]=assessment_total[assessment_scale].apply(lambda x: x/total)\n",
    "\n",
    "    #The groupby function removed the categorical \"Susceptibility\" column. Bring it back\n",
    "    assessment_total[\"Work Type\"]=assessment_total.index.map(lambda x: work_type[x])\n",
    "\n",
    "    #Sort the totals into descending order, to make it easier to see\n",
    "    sorted_totals=assessment_total.sort_values(by=\"% of Assessment\", ascending=False)\n",
    "    #The groupby function removed the categorical \"Susceptibility\" column. Bring it back\n",
    "    sorted_totals[\"Work Type\"]=sorted_totals.index.map(lambda x: work_type[x])\n",
    "\n",
    "    #Graph building part\n",
    "    #############################################################################################################\n",
    "    #Make the figure\n",
    "    fig, (ax, bx)=plt.subplots(ncols=2, figsize=(16, 9))\n",
    "\n",
    "    #These are for selecting colours and hatching for each pie segment\n",
    "    colour_dict={\"At home\":\"crimson\", \"Hybrid\": \"gold\", \"In person\":\"lightgrey\"}\n",
    "    hatching_dict={\"At home\": None, \"Hybrid\": None, \"In person\":\"/\"}\n",
    "    colours=[]\n",
    "    hatching=[]\n",
    "    #Get the colours and hatching for each pie segment\n",
    "    for segment in assessment_sus.index:\n",
    "        colours.append(colour_dict[segment])\n",
    "        hatching.append(hatching_dict[segment])\n",
    "\n",
    "    #Make the susceptibility pie chart\n",
    "    ax.pie(assessment_sus[\"% of Assessment\"], wedgeprops = { 'linewidth' : 1.5, 'edgecolor' : 'white' }, \\\n",
    "           autopct=\"%1.1f%%\", labels=assessment_sus.index, hatch=hatching ,\\\n",
    "           colors=colours, textprops={'fontsize':18})\n",
    "\n",
    "    #Set the title of the pie chart for ease of understanding\n",
    "    ax.set_title(\"Proportions of Different Assessment Kinds\", fontsize=20)\n",
    "    ax.set_xlabel(\"\\n\\nNumber of Modules in this Breakdown: %d\" %(num_unique), fontsize=20)\n",
    "    #These are for selecting colours and hatching for each bar in the bar chart\n",
    "    colour_dict={\"At home\":\"crimson\", \"Hybrid\": \"gold\", \"In person\":\"lightgrey\"}\n",
    "    hatching_dict={\"At home\": None, \"Hybrid\": None, \"In person\":\"/\"}\n",
    "    colours=[]\n",
    "    hatching=[]\n",
    "    #Get the colours and hatching type based on susceptibilty\n",
    "    for sus in sorted_totals[\"Work Type\"]:\n",
    "        colours.append(colour_dict[sus])\n",
    "        hatching.append(hatching_dict[sus])\n",
    "        \n",
    "        \n",
    "    #Make the assessment type breakdown bar chart, with colour and hatching indicating the susceptibility\n",
    "    bx.barh(sorted_totals.index, sorted_totals[\"% of Assessment\"].apply(lambda x:x*100), edgecolor=\"white\", hatch = hatching ,\\\n",
    "           color=colours)\n",
    "    \n",
    "    #Set the options for the axes\n",
    "    bx.tick_params(axis='y', labelsize=16)\n",
    "    bx.tick_params(axis='x', labelsize=14)\n",
    "    #ax.legend(fontsize=20)\n",
    "    bx.set_xlabel(\"% of Assessment\",fontsize=18)\n",
    "    #Set the title for the bar chart for ease of understanding\n",
    "    bx.set_title(\"Assessment Type Breakdown\", fontsize=20)\n",
    "    \n",
    "\n",
    "    #Here we want to set the overall title of the charts - to indicate what module subset they are describing\n",
    "    what=\"College of Engineering and Architecture\"\n",
    "    if School != 'All':\n",
    "        what=\"\"\n",
    "        what+=\"School of \"\n",
    "        what+=School\n",
    "    if Level != 0:\n",
    "        what+= \" At Level %d\" %Level\n",
    "    #if filename != None:\n",
    "    #    what=\"\".join([(\" \"+i if i.isupper() else i) for i in filename])\n",
    "    if len(module) > 0:\n",
    "        what = module + \" Module\"\n",
    "        \n",
    "    #Set the overall title for the two graphs\n",
    "    fig.suptitle(\"Assessment Breakdown in the %s\" %what, fontsize=24)\n",
    "    fig.tight_layout()"
   ]
  },
  {
   "cell_type": "code",
   "execution_count": 6,
   "id": "714c5e05",
   "metadata": {},
   "outputs": [
    {
     "data": {
      "application/vnd.jupyter.widget-view+json": {
       "model_id": "87deed797fcd4afcafb5f226d824eb9a",
       "version_major": 2,
       "version_minor": 0
      },
      "text/plain": [
       "interactive(children=(Checkbox(value=True, description='Weighted'), Dropdown(description='School', index=6, op…"
      ]
     },
     "metadata": {},
     "output_type": "display_data"
    },
    {
     "data": {
      "text/plain": [
       "<function __main__.workType_pie(Weighted=True, School='All', Level=0, module='')>"
      ]
     },
     "execution_count": 6,
     "metadata": {},
     "output_type": "execute_result"
    }
   ],
   "source": [
    "school_list=assessments[\"School\"].unique().tolist()\n",
    "school_list.append(\"All\")\n",
    "\n",
    "module_list=assessments[\"Module Code\"].unique().tolist()\n",
    "module_list.append(\"\")\n",
    "\n",
    "moduleGetter=ipywidgets.Combobox(\n",
    "    # value='John',\n",
    "    placeholder='Enter Module Code',\n",
    "    options=module_list,\n",
    "    description='Module:',\n",
    "    ensure_option=True,\n",
    ")\n",
    "\n",
    "ipywidgets.interact_manual(workType_pie, School=school_list, Level=(0, 5, 1), module=moduleGetter)"
   ]
  },
  {
   "cell_type": "code",
   "execution_count": null,
   "id": "f6778cf7",
   "metadata": {},
   "outputs": [],
   "source": []
  }
 ],
 "metadata": {
  "kernelspec": {
   "display_name": "Python 3 (ipykernel)",
   "language": "python",
   "name": "python3"
  },
  "language_info": {
   "codemirror_mode": {
    "name": "ipython",
    "version": 3
   },
   "file_extension": ".py",
   "mimetype": "text/x-python",
   "name": "python",
   "nbconvert_exporter": "python",
   "pygments_lexer": "ipython3",
   "version": "3.9.13"
  }
 },
 "nbformat": 4,
 "nbformat_minor": 5
}
